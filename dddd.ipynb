{
 "cells": [
  {
   "cell_type": "code",
   "execution_count": 1,
   "outputs": [],
   "source": [
    "import matplotlib.pyplot as plt\n",
    "import pandas as pd\n",
    "import numpy as np\n",
    "\n",
    "import matplotlib\n",
    "import requests\n",
    "import seaborn\n",
    "import folium\n",
    "import json\n",
    "import ast\n",
    "import os\n",
    "\n",
    "from folium.plugins import MarkerCluster\n",
    "from folium.plugins import HeatMap\n",
    "from pandas import DataFrame\n",
    "from folium import features"
   ],
   "metadata": {
    "collapsed": false,
    "pycharm": {
     "name": "#%%\n"
    }
   }
  },
  {
   "cell_type": "markdown",
   "source": [
    "## 读取数据"
   ],
   "metadata": {
    "collapsed": false,
    "pycharm": {
     "name": "#%% md\n"
    }
   }
  },
  {
   "cell_type": "markdown",
   "source": [
    "### 1. CURBSIDE PICKUP"
   ],
   "metadata": {
    "collapsed": false,
    "pycharm": {
     "name": "#%% md\n"
    }
   }
  },
  {
   "cell_type": "code",
   "execution_count": 2,
   "outputs": [],
   "source": [
    "# 要读取的路径\n",
    "Folder_Path   = u\"E:\\Report\\战略\\半室外需求验证\\scrapy_CP\"\n",
    "# 拼接后要保存的文件路径\n",
    "SaveFile_Path = u\"E:\\Report\\战略\\半室外需求验证\\scrapy_CP\""
   ],
   "metadata": {
    "collapsed": false,
    "pycharm": {
     "name": "#%%\n"
    }
   }
  },
  {
   "cell_type": "code",
   "execution_count": 3,
   "outputs": [],
   "source": [
    "# 读取文件中的数据内容。\n",
    "file_list = os.listdir(u\"E:\\Report\\战略\\半室外需求验证\\scrapy_CP\")\n",
    "file_list = file_list[:len(file_list)-1]\n",
    "# 编码默认UTF-8，若乱码自行更改\n",
    "CP_df1 = pd.read_csv(Folder_Path + '\\\\' + file_list[0])"
   ],
   "metadata": {
    "collapsed": false,
    "pycharm": {
     "name": "#%%\n"
    }
   }
  },
  {
   "cell_type": "code",
   "execution_count": 4,
   "outputs": [
    {
     "name": "stderr",
     "output_type": "stream",
     "text": [
      "C:\\Users\\PD\\AppData\\Local\\Temp/ipykernel_12476/1855271205.py:4: FutureWarning: The frame.append method is deprecated and will be removed from pandas in a future version. Use pandas.concat instead.\n",
      "  CP_df1 = CP_df1.append(df_concacted, ignore_index=True)\n",
      "C:\\Users\\PD\\AppData\\Local\\Temp/ipykernel_12476/1855271205.py:4: FutureWarning: The frame.append method is deprecated and will be removed from pandas in a future version. Use pandas.concat instead.\n",
      "  CP_df1 = CP_df1.append(df_concacted, ignore_index=True)\n",
      "C:\\Users\\PD\\AppData\\Local\\Temp/ipykernel_12476/1855271205.py:4: FutureWarning: The frame.append method is deprecated and will be removed from pandas in a future version. Use pandas.concat instead.\n",
      "  CP_df1 = CP_df1.append(df_concacted, ignore_index=True)\n",
      "C:\\Users\\PD\\AppData\\Local\\Temp/ipykernel_12476/1855271205.py:4: FutureWarning: The frame.append method is deprecated and will be removed from pandas in a future version. Use pandas.concat instead.\n",
      "  CP_df1 = CP_df1.append(df_concacted, ignore_index=True)\n",
      "C:\\Users\\PD\\AppData\\Local\\Temp/ipykernel_12476/1855271205.py:4: FutureWarning: The frame.append method is deprecated and will be removed from pandas in a future version. Use pandas.concat instead.\n",
      "  CP_df1 = CP_df1.append(df_concacted, ignore_index=True)\n",
      "C:\\Users\\PD\\AppData\\Local\\Temp/ipykernel_12476/1855271205.py:4: FutureWarning: The frame.append method is deprecated and will be removed from pandas in a future version. Use pandas.concat instead.\n",
      "  CP_df1 = CP_df1.append(df_concacted, ignore_index=True)\n",
      "C:\\Users\\PD\\AppData\\Local\\Temp/ipykernel_12476/1855271205.py:4: FutureWarning: The frame.append method is deprecated and will be removed from pandas in a future version. Use pandas.concat instead.\n",
      "  CP_df1 = CP_df1.append(df_concacted, ignore_index=True)\n",
      "C:\\Users\\PD\\AppData\\Local\\Temp/ipykernel_12476/1855271205.py:4: FutureWarning: The frame.append method is deprecated and will be removed from pandas in a future version. Use pandas.concat instead.\n",
      "  CP_df1 = CP_df1.append(df_concacted, ignore_index=True)\n",
      "C:\\Users\\PD\\AppData\\Local\\Temp/ipykernel_12476/1855271205.py:4: FutureWarning: The frame.append method is deprecated and will be removed from pandas in a future version. Use pandas.concat instead.\n",
      "  CP_df1 = CP_df1.append(df_concacted, ignore_index=True)\n",
      "C:\\Users\\PD\\AppData\\Local\\Temp/ipykernel_12476/1855271205.py:4: FutureWarning: The frame.append method is deprecated and will be removed from pandas in a future version. Use pandas.concat instead.\n",
      "  CP_df1 = CP_df1.append(df_concacted, ignore_index=True)\n",
      "C:\\Users\\PD\\AppData\\Local\\Temp/ipykernel_12476/1855271205.py:4: FutureWarning: The frame.append method is deprecated and will be removed from pandas in a future version. Use pandas.concat instead.\n",
      "  CP_df1 = CP_df1.append(df_concacted, ignore_index=True)\n",
      "C:\\Users\\PD\\AppData\\Local\\Temp/ipykernel_12476/1855271205.py:4: FutureWarning: The frame.append method is deprecated and will be removed from pandas in a future version. Use pandas.concat instead.\n",
      "  CP_df1 = CP_df1.append(df_concacted, ignore_index=True)\n",
      "C:\\Users\\PD\\AppData\\Local\\Temp/ipykernel_12476/1855271205.py:4: FutureWarning: The frame.append method is deprecated and will be removed from pandas in a future version. Use pandas.concat instead.\n",
      "  CP_df1 = CP_df1.append(df_concacted, ignore_index=True)\n",
      "C:\\Users\\PD\\AppData\\Local\\Temp/ipykernel_12476/1855271205.py:4: FutureWarning: The frame.append method is deprecated and will be removed from pandas in a future version. Use pandas.concat instead.\n",
      "  CP_df1 = CP_df1.append(df_concacted, ignore_index=True)\n",
      "C:\\Users\\PD\\AppData\\Local\\Temp/ipykernel_12476/1855271205.py:4: FutureWarning: The frame.append method is deprecated and will be removed from pandas in a future version. Use pandas.concat instead.\n",
      "  CP_df1 = CP_df1.append(df_concacted, ignore_index=True)\n",
      "C:\\Users\\PD\\AppData\\Local\\Temp/ipykernel_12476/1855271205.py:4: FutureWarning: The frame.append method is deprecated and will be removed from pandas in a future version. Use pandas.concat instead.\n",
      "  CP_df1 = CP_df1.append(df_concacted, ignore_index=True)\n",
      "C:\\Users\\PD\\AppData\\Local\\Temp/ipykernel_12476/1855271205.py:4: FutureWarning: The frame.append method is deprecated and will be removed from pandas in a future version. Use pandas.concat instead.\n",
      "  CP_df1 = CP_df1.append(df_concacted, ignore_index=True)\n",
      "C:\\Users\\PD\\AppData\\Local\\Temp/ipykernel_12476/1855271205.py:4: FutureWarning: The frame.append method is deprecated and will be removed from pandas in a future version. Use pandas.concat instead.\n",
      "  CP_df1 = CP_df1.append(df_concacted, ignore_index=True)\n",
      "C:\\Users\\PD\\AppData\\Local\\Temp/ipykernel_12476/1855271205.py:4: FutureWarning: The frame.append method is deprecated and will be removed from pandas in a future version. Use pandas.concat instead.\n",
      "  CP_df1 = CP_df1.append(df_concacted, ignore_index=True)\n"
     ]
    }
   ],
   "source": [
    "# 循环遍历列表中各个CSV文件名，并追加到合并后的文件\n",
    "for i in range(1, len(file_list)):\n",
    "    df_concacted = pd.read_csv(Folder_Path + '\\\\' + file_list[i])\n",
    "    CP_df1 = CP_df1.append(df_concacted, ignore_index=True)"
   ],
   "metadata": {
    "collapsed": false,
    "pycharm": {
     "name": "#%%\n"
    }
   }
  },
  {
   "cell_type": "code",
   "execution_count": 5,
   "outputs": [],
   "source": [
    "# 要读取的路径\n",
    "Folder_Path   = u\"E:\\Report\\战略\\半室外需求验证\\scrapy_CP\\V1\"\n",
    "# 拼接后要保存的文件路径\n",
    "SaveFile_Path = u\"E:\\Report\\战略\\半室外需求验证\\scrapy_CP\\V1\""
   ],
   "metadata": {
    "collapsed": false,
    "pycharm": {
     "name": "#%%\n"
    }
   }
  },
  {
   "cell_type": "code",
   "execution_count": 6,
   "outputs": [],
   "source": [
    "# 读取文件中的数据内容。\n",
    "file_list = os.listdir(u\"E:\\Report\\战略\\半室外需求验证\\scrapy_CP\\V1\")\n",
    "# 编码默认UTF-8，若乱码自行更改\n",
    "CP_df2= pd.read_csv(Folder_Path + '\\\\' + file_list[0])"
   ],
   "metadata": {
    "collapsed": false,
    "pycharm": {
     "name": "#%%\n"
    }
   }
  },
  {
   "cell_type": "code",
   "execution_count": 7,
   "outputs": [
    {
     "name": "stderr",
     "output_type": "stream",
     "text": [
      "C:\\Users\\PD\\AppData\\Local\\Temp/ipykernel_12476/3990438760.py:4: FutureWarning: The frame.append method is deprecated and will be removed from pandas in a future version. Use pandas.concat instead.\n",
      "  CP_df2 = CP_df2.append(df_concacted, ignore_index=True)\n",
      "C:\\Users\\PD\\AppData\\Local\\Temp/ipykernel_12476/3990438760.py:4: FutureWarning: The frame.append method is deprecated and will be removed from pandas in a future version. Use pandas.concat instead.\n",
      "  CP_df2 = CP_df2.append(df_concacted, ignore_index=True)\n",
      "C:\\Users\\PD\\AppData\\Local\\Temp/ipykernel_12476/3990438760.py:4: FutureWarning: The frame.append method is deprecated and will be removed from pandas in a future version. Use pandas.concat instead.\n",
      "  CP_df2 = CP_df2.append(df_concacted, ignore_index=True)\n",
      "C:\\Users\\PD\\AppData\\Local\\Temp/ipykernel_12476/3990438760.py:4: FutureWarning: The frame.append method is deprecated and will be removed from pandas in a future version. Use pandas.concat instead.\n",
      "  CP_df2 = CP_df2.append(df_concacted, ignore_index=True)\n",
      "C:\\Users\\PD\\AppData\\Local\\Temp/ipykernel_12476/3990438760.py:4: FutureWarning: The frame.append method is deprecated and will be removed from pandas in a future version. Use pandas.concat instead.\n",
      "  CP_df2 = CP_df2.append(df_concacted, ignore_index=True)\n",
      "C:\\Users\\PD\\AppData\\Local\\Temp/ipykernel_12476/3990438760.py:4: FutureWarning: The frame.append method is deprecated and will be removed from pandas in a future version. Use pandas.concat instead.\n",
      "  CP_df2 = CP_df2.append(df_concacted, ignore_index=True)\n",
      "C:\\Users\\PD\\AppData\\Local\\Temp/ipykernel_12476/3990438760.py:4: FutureWarning: The frame.append method is deprecated and will be removed from pandas in a future version. Use pandas.concat instead.\n",
      "  CP_df2 = CP_df2.append(df_concacted, ignore_index=True)\n",
      "C:\\Users\\PD\\AppData\\Local\\Temp/ipykernel_12476/3990438760.py:4: FutureWarning: The frame.append method is deprecated and will be removed from pandas in a future version. Use pandas.concat instead.\n",
      "  CP_df2 = CP_df2.append(df_concacted, ignore_index=True)\n",
      "C:\\Users\\PD\\AppData\\Local\\Temp/ipykernel_12476/3990438760.py:4: FutureWarning: The frame.append method is deprecated and will be removed from pandas in a future version. Use pandas.concat instead.\n",
      "  CP_df2 = CP_df2.append(df_concacted, ignore_index=True)\n",
      "C:\\Users\\PD\\AppData\\Local\\Temp/ipykernel_12476/3990438760.py:4: FutureWarning: The frame.append method is deprecated and will be removed from pandas in a future version. Use pandas.concat instead.\n",
      "  CP_df2 = CP_df2.append(df_concacted, ignore_index=True)\n",
      "C:\\Users\\PD\\AppData\\Local\\Temp/ipykernel_12476/3990438760.py:4: FutureWarning: The frame.append method is deprecated and will be removed from pandas in a future version. Use pandas.concat instead.\n",
      "  CP_df2 = CP_df2.append(df_concacted, ignore_index=True)\n",
      "C:\\Users\\PD\\AppData\\Local\\Temp/ipykernel_12476/3990438760.py:4: FutureWarning: The frame.append method is deprecated and will be removed from pandas in a future version. Use pandas.concat instead.\n",
      "  CP_df2 = CP_df2.append(df_concacted, ignore_index=True)\n"
     ]
    }
   ],
   "source": [
    "# 循环遍历列表中各个CSV文件名，并追加到合并后的文件\n",
    "for i in range(1, len(file_list)):\n",
    "    df_concacted = pd.read_csv(Folder_Path + '\\\\' + file_list[i])\n",
    "    CP_df2 = CP_df2.append(df_concacted, ignore_index=True)"
   ],
   "metadata": {
    "collapsed": false,
    "pycharm": {
     "name": "#%%\n"
    }
   }
  },
  {
   "cell_type": "code",
   "execution_count": 8,
   "outputs": [
    {
     "data": {
      "text/plain": "                           id                            name  \\\n0      HeecV0ib-LzDpRqGFDp_AA                    Hunny's Cafe   \n1      4yN7zhI2zyblcflkM3a55A                      WaBa Grill   \n2      Vj8-3j0IKSJNkS5zMcC4Qg                      McDonald's   \n3      E0NKr-TOJskm0Ml1_MI4Xw                     Zait Bistro   \n4      wUamEyNCZ3lF-QLF7uSkog         Morton's The Steakhouse   \n...                       ...                             ...   \n43218  uXj5JRqBHnYNRvLw6VqmEw      Tamale Boy Tacos & Tamales   \n43219  HpCsADSPPSoCghfcZeT55w  Iron Hill Brewery & Restaurant   \n43220  Gu-8WeGWVs5qMVGjVgTA1A          Applebee's Grill + Bar   \n43221  CW8J8eqHRErzNPROYDvSyQ                  Bonefish Grill   \n43222  is9vr6YX4NPP5cCp-K92Qw              Nancy's Restaurant   \n\n                                                     url  review_count  \\\n0      https://www.yelp.com/biz/hunnys-cafe-corona?ad...           177   \n1      https://www.yelp.com/biz/waba-grill-ontario-5?...            75   \n2      https://www.yelp.com/biz/mcdonalds-chino-2?adj...           269   \n3      https://www.yelp.com/biz/zait-bistro-rancho-cu...           817   \n4      https://www.yelp.com/biz/mortons-the-steakhous...          1240   \n...                                                  ...           ...   \n43218  https://www.yelp.com/biz/tamale-boy-tacos-and-...            45   \n43219  https://www.yelp.com/biz/iron-hill-brewery-and...           290   \n43220  https://www.yelp.com/biz/applebees-grill-bar-v...            44   \n43221  https://www.yelp.com/biz/bonefish-grill-north-...           116   \n43222  https://www.yelp.com/biz/nancys-restaurant-flo...           103   \n\n       rating                                        coordinates price  \\\n0         3.5    {'latitude': 33.79879, 'longitude': -117.50153}    $$   \n1         2.0       {'latitude': 34.027, 'longitude': -117.5938}     $   \n2         1.5  {'latitude': 34.0010559748959, 'longitude': -1...     $   \n3         4.0  {'latitude': 34.122156, 'longitude': -117.573391}    $$   \n4         4.0  {'latitude': 33.8000325216287, 'longitude': -1...   $$$   \n...       ...                                                ...   ...   \n43218     4.5     {'latitude': 29.37338, 'longitude': -98.49769}   NaN   \n43219     3.5   {'latitude': 40.208869, 'longitude': -75.223355}    $$   \n43220     3.0  {'latitude': 39.8493887, 'longitude': -74.9780...    $$   \n43221     3.5  {'latitude': 40.2368631, 'longitude': -75.2406...    $$   \n43222     4.5  {'latitude': 40.7276604, 'longitude': -73.7090...    $$   \n\n                                                location   display_phone  \\\n0      {'address1': '9022 Pulsar Ct', 'address2': '',...  (951) 277-5811   \n1      {'address1': '2598 S Archibald Ave', 'address2...  (909) 947-7057   \n2      {'address1': '3770 Grand Ave', 'address2': '',...  (909) 590-0557   \n3      {'address1': '7251 Haven Ave', 'address2': 'St...  (909) 989-0678   \n4      {'address1': '1895 Harbor Blvd', 'address2': '...  (714) 621-0101   \n...                                                  ...             ...   \n43218  {'address1': '5300 S Flores St', 'address2': '...  (210) 663-2033   \n43219  {'address1': '1460 Bethlehem Pike', 'address2'...  (267) 708-2000   \n43220  {'address1': '880 Haddonfield-Berlin Rd', 'add...  (856) 627-6667   \n43221  {'address1': '27 Airport Sq', 'address2': '', ...  (215) 361-2932   \n43222  {'address1': '25541 Jericho Tpke', 'address2':...  (718) 343-4616   \n\n       curbside_pickup  \n0      curbside_pickup  \n1      curbside_pickup  \n2      curbside_pickup  \n3      curbside_pickup  \n4      curbside_pickup  \n...                ...  \n43218  curbside_pickup  \n43219  curbside_pickup  \n43220  curbside_pickup  \n43221  curbside_pickup  \n43222  curbside_pickup  \n\n[43223 rows x 10 columns]",
      "text/html": "<div>\n<style scoped>\n    .dataframe tbody tr th:only-of-type {\n        vertical-align: middle;\n    }\n\n    .dataframe tbody tr th {\n        vertical-align: top;\n    }\n\n    .dataframe thead th {\n        text-align: right;\n    }\n</style>\n<table border=\"1\" class=\"dataframe\">\n  <thead>\n    <tr style=\"text-align: right;\">\n      <th></th>\n      <th>id</th>\n      <th>name</th>\n      <th>url</th>\n      <th>review_count</th>\n      <th>rating</th>\n      <th>coordinates</th>\n      <th>price</th>\n      <th>location</th>\n      <th>display_phone</th>\n      <th>curbside_pickup</th>\n    </tr>\n  </thead>\n  <tbody>\n    <tr>\n      <th>0</th>\n      <td>HeecV0ib-LzDpRqGFDp_AA</td>\n      <td>Hunny's Cafe</td>\n      <td>https://www.yelp.com/biz/hunnys-cafe-corona?ad...</td>\n      <td>177</td>\n      <td>3.5</td>\n      <td>{'latitude': 33.79879, 'longitude': -117.50153}</td>\n      <td>$$</td>\n      <td>{'address1': '9022 Pulsar Ct', 'address2': '',...</td>\n      <td>(951) 277-5811</td>\n      <td>curbside_pickup</td>\n    </tr>\n    <tr>\n      <th>1</th>\n      <td>4yN7zhI2zyblcflkM3a55A</td>\n      <td>WaBa Grill</td>\n      <td>https://www.yelp.com/biz/waba-grill-ontario-5?...</td>\n      <td>75</td>\n      <td>2.0</td>\n      <td>{'latitude': 34.027, 'longitude': -117.5938}</td>\n      <td>$</td>\n      <td>{'address1': '2598 S Archibald Ave', 'address2...</td>\n      <td>(909) 947-7057</td>\n      <td>curbside_pickup</td>\n    </tr>\n    <tr>\n      <th>2</th>\n      <td>Vj8-3j0IKSJNkS5zMcC4Qg</td>\n      <td>McDonald's</td>\n      <td>https://www.yelp.com/biz/mcdonalds-chino-2?adj...</td>\n      <td>269</td>\n      <td>1.5</td>\n      <td>{'latitude': 34.0010559748959, 'longitude': -1...</td>\n      <td>$</td>\n      <td>{'address1': '3770 Grand Ave', 'address2': '',...</td>\n      <td>(909) 590-0557</td>\n      <td>curbside_pickup</td>\n    </tr>\n    <tr>\n      <th>3</th>\n      <td>E0NKr-TOJskm0Ml1_MI4Xw</td>\n      <td>Zait Bistro</td>\n      <td>https://www.yelp.com/biz/zait-bistro-rancho-cu...</td>\n      <td>817</td>\n      <td>4.0</td>\n      <td>{'latitude': 34.122156, 'longitude': -117.573391}</td>\n      <td>$$</td>\n      <td>{'address1': '7251 Haven Ave', 'address2': 'St...</td>\n      <td>(909) 989-0678</td>\n      <td>curbside_pickup</td>\n    </tr>\n    <tr>\n      <th>4</th>\n      <td>wUamEyNCZ3lF-QLF7uSkog</td>\n      <td>Morton's The Steakhouse</td>\n      <td>https://www.yelp.com/biz/mortons-the-steakhous...</td>\n      <td>1240</td>\n      <td>4.0</td>\n      <td>{'latitude': 33.8000325216287, 'longitude': -1...</td>\n      <td>$$$</td>\n      <td>{'address1': '1895 Harbor Blvd', 'address2': '...</td>\n      <td>(714) 621-0101</td>\n      <td>curbside_pickup</td>\n    </tr>\n    <tr>\n      <th>...</th>\n      <td>...</td>\n      <td>...</td>\n      <td>...</td>\n      <td>...</td>\n      <td>...</td>\n      <td>...</td>\n      <td>...</td>\n      <td>...</td>\n      <td>...</td>\n      <td>...</td>\n    </tr>\n    <tr>\n      <th>43218</th>\n      <td>uXj5JRqBHnYNRvLw6VqmEw</td>\n      <td>Tamale Boy Tacos &amp; Tamales</td>\n      <td>https://www.yelp.com/biz/tamale-boy-tacos-and-...</td>\n      <td>45</td>\n      <td>4.5</td>\n      <td>{'latitude': 29.37338, 'longitude': -98.49769}</td>\n      <td>NaN</td>\n      <td>{'address1': '5300 S Flores St', 'address2': '...</td>\n      <td>(210) 663-2033</td>\n      <td>curbside_pickup</td>\n    </tr>\n    <tr>\n      <th>43219</th>\n      <td>HpCsADSPPSoCghfcZeT55w</td>\n      <td>Iron Hill Brewery &amp; Restaurant</td>\n      <td>https://www.yelp.com/biz/iron-hill-brewery-and...</td>\n      <td>290</td>\n      <td>3.5</td>\n      <td>{'latitude': 40.208869, 'longitude': -75.223355}</td>\n      <td>$$</td>\n      <td>{'address1': '1460 Bethlehem Pike', 'address2'...</td>\n      <td>(267) 708-2000</td>\n      <td>curbside_pickup</td>\n    </tr>\n    <tr>\n      <th>43220</th>\n      <td>Gu-8WeGWVs5qMVGjVgTA1A</td>\n      <td>Applebee's Grill + Bar</td>\n      <td>https://www.yelp.com/biz/applebees-grill-bar-v...</td>\n      <td>44</td>\n      <td>3.0</td>\n      <td>{'latitude': 39.8493887, 'longitude': -74.9780...</td>\n      <td>$$</td>\n      <td>{'address1': '880 Haddonfield-Berlin Rd', 'add...</td>\n      <td>(856) 627-6667</td>\n      <td>curbside_pickup</td>\n    </tr>\n    <tr>\n      <th>43221</th>\n      <td>CW8J8eqHRErzNPROYDvSyQ</td>\n      <td>Bonefish Grill</td>\n      <td>https://www.yelp.com/biz/bonefish-grill-north-...</td>\n      <td>116</td>\n      <td>3.5</td>\n      <td>{'latitude': 40.2368631, 'longitude': -75.2406...</td>\n      <td>$$</td>\n      <td>{'address1': '27 Airport Sq', 'address2': '', ...</td>\n      <td>(215) 361-2932</td>\n      <td>curbside_pickup</td>\n    </tr>\n    <tr>\n      <th>43222</th>\n      <td>is9vr6YX4NPP5cCp-K92Qw</td>\n      <td>Nancy's Restaurant</td>\n      <td>https://www.yelp.com/biz/nancys-restaurant-flo...</td>\n      <td>103</td>\n      <td>4.5</td>\n      <td>{'latitude': 40.7276604, 'longitude': -73.7090...</td>\n      <td>$$</td>\n      <td>{'address1': '25541 Jericho Tpke', 'address2':...</td>\n      <td>(718) 343-4616</td>\n      <td>curbside_pickup</td>\n    </tr>\n  </tbody>\n</table>\n<p>43223 rows × 10 columns</p>\n</div>"
     },
     "execution_count": 8,
     "metadata": {},
     "output_type": "execute_result"
    }
   ],
   "source": [
    "CP_df = pd.concat([CP_df1,CP_df2]).drop_duplicates(subset=['coordinates','id'], keep = \"first\")\n",
    "CP_df = CP_df.reset_index()\n",
    "\n",
    "#添加室外配送场景标签\n",
    "CP_df['curbside_pickup'] = 'curbside_pickup'\n",
    "CP_df = CP_df.drop(columns=['transactions', 'alias','categories','distance','index','is_closed','phone','Unnamed: 0','image_url'])\n",
    "\n",
    "CP_df"
   ],
   "metadata": {
    "collapsed": false,
    "pycharm": {
     "name": "#%%\n"
    }
   }
  },
  {
   "cell_type": "code",
   "execution_count": 9,
   "outputs": [
    {
     "data": {
      "text/plain": "                data_type  null_count  unique_count\nid                 object           0         43094\nname               object           0         19164\nurl                object           0         43212\nreview_count        int64           0          2158\nrating            float64           0             9\ncoordinates        object           0         43168\nprice              object        3458             4\nlocation           object           0         42982\ndisplay_phone      object         242         42696\ncurbside_pickup    object           0             1",
      "text/html": "<div>\n<style scoped>\n    .dataframe tbody tr th:only-of-type {\n        vertical-align: middle;\n    }\n\n    .dataframe tbody tr th {\n        vertical-align: top;\n    }\n\n    .dataframe thead th {\n        text-align: right;\n    }\n</style>\n<table border=\"1\" class=\"dataframe\">\n  <thead>\n    <tr style=\"text-align: right;\">\n      <th></th>\n      <th>data_type</th>\n      <th>null_count</th>\n      <th>unique_count</th>\n    </tr>\n  </thead>\n  <tbody>\n    <tr>\n      <th>id</th>\n      <td>object</td>\n      <td>0</td>\n      <td>43094</td>\n    </tr>\n    <tr>\n      <th>name</th>\n      <td>object</td>\n      <td>0</td>\n      <td>19164</td>\n    </tr>\n    <tr>\n      <th>url</th>\n      <td>object</td>\n      <td>0</td>\n      <td>43212</td>\n    </tr>\n    <tr>\n      <th>review_count</th>\n      <td>int64</td>\n      <td>0</td>\n      <td>2158</td>\n    </tr>\n    <tr>\n      <th>rating</th>\n      <td>float64</td>\n      <td>0</td>\n      <td>9</td>\n    </tr>\n    <tr>\n      <th>coordinates</th>\n      <td>object</td>\n      <td>0</td>\n      <td>43168</td>\n    </tr>\n    <tr>\n      <th>price</th>\n      <td>object</td>\n      <td>3458</td>\n      <td>4</td>\n    </tr>\n    <tr>\n      <th>location</th>\n      <td>object</td>\n      <td>0</td>\n      <td>42982</td>\n    </tr>\n    <tr>\n      <th>display_phone</th>\n      <td>object</td>\n      <td>242</td>\n      <td>42696</td>\n    </tr>\n    <tr>\n      <th>curbside_pickup</th>\n      <td>object</td>\n      <td>0</td>\n      <td>1</td>\n    </tr>\n  </tbody>\n</table>\n</div>"
     },
     "execution_count": 9,
     "metadata": {},
     "output_type": "execute_result"
    }
   ],
   "source": [
    "def printinfo():\n",
    "    temp = pd.DataFrame(index=CP_df.columns)\n",
    "    temp['data_type'] = CP_df.dtypes\n",
    "    temp['null_count'] = CP_df.isnull().sum()\n",
    "    temp['unique_count'] = CP_df.nunique()\n",
    "    return temp\n",
    "\n",
    "printinfo()"
   ],
   "metadata": {
    "collapsed": false,
    "pycharm": {
     "name": "#%%\n"
    }
   }
  },
  {
   "cell_type": "markdown",
   "source": [
    "### 2. OUTDOOR DINING"
   ],
   "metadata": {
    "collapsed": false,
    "pycharm": {
     "name": "#%% md\n"
    }
   }
  },
  {
   "cell_type": "code",
   "execution_count": 10,
   "outputs": [],
   "source": [
    "# 要读取的路径\n",
    "Folder_Path   = u\"E:\\Report\\战略\\半室外需求验证\\scrapy_OD\"\n",
    "# 拼接后要保存的文件路径\n",
    "SaveFile_Path = u\"E:\\Report\\战略\\半室外需求验证\\scrapy_OD\""
   ],
   "metadata": {
    "collapsed": false,
    "pycharm": {
     "name": "#%%\n"
    }
   }
  },
  {
   "cell_type": "code",
   "execution_count": 11,
   "outputs": [],
   "source": [
    "# 读取文件中的数据内容。\n",
    "file_list = os.listdir(u\"E:\\Report\\战略\\半室外需求验证\\scrapy_OD\")\n",
    "# 编码默认UTF-8，若乱码自行更改\n",
    "OD_df= pd.read_csv(Folder_Path + '\\\\' + file_list[0])"
   ],
   "metadata": {
    "collapsed": false,
    "pycharm": {
     "name": "#%%\n"
    }
   }
  },
  {
   "cell_type": "code",
   "execution_count": 12,
   "outputs": [
    {
     "name": "stderr",
     "output_type": "stream",
     "text": [
      "C:\\Users\\PD\\AppData\\Local\\Temp/ipykernel_12476/1595810329.py:4: FutureWarning: The frame.append method is deprecated and will be removed from pandas in a future version. Use pandas.concat instead.\n",
      "  OD_df = OD_df.append(df_concacted, ignore_index=True)\n",
      "C:\\Users\\PD\\AppData\\Local\\Temp/ipykernel_12476/1595810329.py:4: FutureWarning: The frame.append method is deprecated and will be removed from pandas in a future version. Use pandas.concat instead.\n",
      "  OD_df = OD_df.append(df_concacted, ignore_index=True)\n",
      "C:\\Users\\PD\\AppData\\Local\\Temp/ipykernel_12476/1595810329.py:4: FutureWarning: The frame.append method is deprecated and will be removed from pandas in a future version. Use pandas.concat instead.\n",
      "  OD_df = OD_df.append(df_concacted, ignore_index=True)\n",
      "C:\\Users\\PD\\AppData\\Local\\Temp/ipykernel_12476/1595810329.py:4: FutureWarning: The frame.append method is deprecated and will be removed from pandas in a future version. Use pandas.concat instead.\n",
      "  OD_df = OD_df.append(df_concacted, ignore_index=True)\n",
      "C:\\Users\\PD\\AppData\\Local\\Temp/ipykernel_12476/1595810329.py:4: FutureWarning: The frame.append method is deprecated and will be removed from pandas in a future version. Use pandas.concat instead.\n",
      "  OD_df = OD_df.append(df_concacted, ignore_index=True)\n",
      "C:\\Users\\PD\\AppData\\Local\\Temp/ipykernel_12476/1595810329.py:4: FutureWarning: The frame.append method is deprecated and will be removed from pandas in a future version. Use pandas.concat instead.\n",
      "  OD_df = OD_df.append(df_concacted, ignore_index=True)\n",
      "C:\\Users\\PD\\AppData\\Local\\Temp/ipykernel_12476/1595810329.py:4: FutureWarning: The frame.append method is deprecated and will be removed from pandas in a future version. Use pandas.concat instead.\n",
      "  OD_df = OD_df.append(df_concacted, ignore_index=True)\n",
      "C:\\Users\\PD\\AppData\\Local\\Temp/ipykernel_12476/1595810329.py:4: FutureWarning: The frame.append method is deprecated and will be removed from pandas in a future version. Use pandas.concat instead.\n",
      "  OD_df = OD_df.append(df_concacted, ignore_index=True)\n",
      "C:\\Users\\PD\\AppData\\Local\\Temp/ipykernel_12476/1595810329.py:4: FutureWarning: The frame.append method is deprecated and will be removed from pandas in a future version. Use pandas.concat instead.\n",
      "  OD_df = OD_df.append(df_concacted, ignore_index=True)\n",
      "C:\\Users\\PD\\AppData\\Local\\Temp/ipykernel_12476/1595810329.py:4: FutureWarning: The frame.append method is deprecated and will be removed from pandas in a future version. Use pandas.concat instead.\n",
      "  OD_df = OD_df.append(df_concacted, ignore_index=True)\n",
      "C:\\Users\\PD\\AppData\\Local\\Temp/ipykernel_12476/1595810329.py:4: FutureWarning: The frame.append method is deprecated and will be removed from pandas in a future version. Use pandas.concat instead.\n",
      "  OD_df = OD_df.append(df_concacted, ignore_index=True)\n",
      "C:\\Users\\PD\\AppData\\Local\\Temp/ipykernel_12476/1595810329.py:4: FutureWarning: The frame.append method is deprecated and will be removed from pandas in a future version. Use pandas.concat instead.\n",
      "  OD_df = OD_df.append(df_concacted, ignore_index=True)\n",
      "C:\\Users\\PD\\AppData\\Local\\Temp/ipykernel_12476/1595810329.py:4: FutureWarning: The frame.append method is deprecated and will be removed from pandas in a future version. Use pandas.concat instead.\n",
      "  OD_df = OD_df.append(df_concacted, ignore_index=True)\n",
      "C:\\Users\\PD\\AppData\\Local\\Temp/ipykernel_12476/1595810329.py:4: FutureWarning: The frame.append method is deprecated and will be removed from pandas in a future version. Use pandas.concat instead.\n",
      "  OD_df = OD_df.append(df_concacted, ignore_index=True)\n",
      "C:\\Users\\PD\\AppData\\Local\\Temp/ipykernel_12476/1595810329.py:4: FutureWarning: The frame.append method is deprecated and will be removed from pandas in a future version. Use pandas.concat instead.\n",
      "  OD_df = OD_df.append(df_concacted, ignore_index=True)\n",
      "C:\\Users\\PD\\AppData\\Local\\Temp/ipykernel_12476/1595810329.py:4: FutureWarning: The frame.append method is deprecated and will be removed from pandas in a future version. Use pandas.concat instead.\n",
      "  OD_df = OD_df.append(df_concacted, ignore_index=True)\n",
      "C:\\Users\\PD\\AppData\\Local\\Temp/ipykernel_12476/1595810329.py:4: FutureWarning: The frame.append method is deprecated and will be removed from pandas in a future version. Use pandas.concat instead.\n",
      "  OD_df = OD_df.append(df_concacted, ignore_index=True)\n",
      "C:\\Users\\PD\\AppData\\Local\\Temp/ipykernel_12476/1595810329.py:4: FutureWarning: The frame.append method is deprecated and will be removed from pandas in a future version. Use pandas.concat instead.\n",
      "  OD_df = OD_df.append(df_concacted, ignore_index=True)\n",
      "C:\\Users\\PD\\AppData\\Local\\Temp/ipykernel_12476/1595810329.py:4: FutureWarning: The frame.append method is deprecated and will be removed from pandas in a future version. Use pandas.concat instead.\n",
      "  OD_df = OD_df.append(df_concacted, ignore_index=True)\n"
     ]
    }
   ],
   "source": [
    "# 循环遍历列表中各个CSV文件名，并追加到合并后的文件\n",
    "for i in range(1, len(file_list)):\n",
    "    df_concacted = pd.read_csv(Folder_Path + '\\\\' + file_list[i])\n",
    "    OD_df = OD_df.append(df_concacted, ignore_index=True)"
   ],
   "metadata": {
    "collapsed": false,
    "pycharm": {
     "name": "#%%\n"
    }
   }
  },
  {
   "cell_type": "code",
   "execution_count": 13,
   "outputs": [
    {
     "data": {
      "text/plain": "                           id                     name  \\\n0      4gKq_ydF-naD4wz2Mcgorg       Charley's On Grand   \n1      lK-I8qZGu_ne56maS5im3Q     Fire on the Mountain   \n2      hYwVVJSCeaIfl39DsItSIw          Wanker's Corner   \n3      VqRcFCE-UBaFoCrfkCdgdQ           Urban Crêperie   \n4      SU89RDasriEghDchbNoZsw             Jake's Grill   \n...                       ...                      ...   \n64954  bKXnm2k44mSdU0fP69lY-g  Szechuan Mountain House   \n64955  oMtJwDxuuxZPvGMgHOoAbQ            Reception Bar   \n64956  lOSerKI9Xh4tR5I4YUw9kw           Saint Julivert   \n64957  x_YWFkTcxEu1lo8Nlrog5A        Milk & Honey Cafe   \n64958  1LIptXhtDh58vAA-QPFL4w                     Cask   \n\n                                                     url  review_count  \\\n0      https://www.yelp.com/biz/charleys-on-grand-por...            10   \n1      https://www.yelp.com/biz/fire-on-the-mountain-...           468   \n2      https://www.yelp.com/biz/wankers-corner-wilson...           140   \n3      https://www.yelp.com/biz/urban-cr%C3%AAperie-p...            50   \n4      https://www.yelp.com/biz/jakes-grill-portland-...           783   \n...                                                  ...           ...   \n64954  https://www.yelp.com/biz/szechuan-mountain-hou...           407   \n64955  https://www.yelp.com/biz/reception-bar-new-yor...            80   \n64956  https://www.yelp.com/biz/saint-julivert-brookl...            41   \n64957  https://www.yelp.com/biz/milk-and-honey-cafe-b...          1202   \n64958  https://www.yelp.com/biz/cask-new-york-2?adjus...          1402   \n\n       rating                                        coordinates price  \\\n0         3.5    {'latitude': 45.53257, 'longitude': -122.66114}    $$   \n1         4.0  {'latitude': 45.5541179682835, 'longitude': -1...    $$   \n2         3.0    {'latitude': 45.30248, 'longitude': -122.76432}    $$   \n3         4.5  {'latitude': 45.520471, 'longitude': -122.684587}    $$   \n4         3.5  {'latitude': 45.5206041, 'longitude': -122.682...    $$   \n...       ...                                                ...   ...   \n64954     4.0  {'latitude': 40.7593930266428, 'longitude': -7...    $$   \n64955     4.5  {'latitude': 40.7163598, 'longitude': -73.9913...   NaN   \n64956     4.5     {'latitude': 40.68787, 'longitude': -73.99565}   NaN   \n64957     4.0  {'latitude': 40.634356735221, 'longitude': -73...    $$   \n64958     4.0   {'latitude': 40.745414, 'longitude': -73.979004}    $$   \n\n                                                location   display_phone  \\\n0      {'address1': '435 NE Wasco St', 'address2': ''...             NaN   \n1      {'address1': '4225 N Interstate Ave', 'address...  (503) 280-9464   \n2      {'address1': '8499 SW Main St', 'address2': ''...  (503) 682-9673   \n3      {'address1': '1216 SW Morrison St', 'address2'...  (503) 954-1492   \n4      {'address1': '611 SW 10th Ave', 'address2': ''...  (503) 220-1850   \n...                                                  ...             ...   \n64954  {'address1': '39-16 Prince St', 'address2': 'S...  (718) 888-7893   \n64955  {'address1': '45 Orchard St', 'address2': None...  (646) 490-4053   \n64956  {'address1': '264 Clinton St', 'address2': Non...  (347) 987-3710   \n64957  {'address1': '1119 Newkirk Ave', 'address2': '...  (718) 513-0441   \n64958  {'address1': '167 E 33rd St', 'address2': '', ...  (212) 300-4924   \n\n       outdoor_dining  \n0      outdoor_dining  \n1      outdoor_dining  \n2      outdoor_dining  \n3      outdoor_dining  \n4      outdoor_dining  \n...               ...  \n64954  outdoor_dining  \n64955  outdoor_dining  \n64956  outdoor_dining  \n64957  outdoor_dining  \n64958  outdoor_dining  \n\n[64959 rows x 10 columns]",
      "text/html": "<div>\n<style scoped>\n    .dataframe tbody tr th:only-of-type {\n        vertical-align: middle;\n    }\n\n    .dataframe tbody tr th {\n        vertical-align: top;\n    }\n\n    .dataframe thead th {\n        text-align: right;\n    }\n</style>\n<table border=\"1\" class=\"dataframe\">\n  <thead>\n    <tr style=\"text-align: right;\">\n      <th></th>\n      <th>id</th>\n      <th>name</th>\n      <th>url</th>\n      <th>review_count</th>\n      <th>rating</th>\n      <th>coordinates</th>\n      <th>price</th>\n      <th>location</th>\n      <th>display_phone</th>\n      <th>outdoor_dining</th>\n    </tr>\n  </thead>\n  <tbody>\n    <tr>\n      <th>0</th>\n      <td>4gKq_ydF-naD4wz2Mcgorg</td>\n      <td>Charley's On Grand</td>\n      <td>https://www.yelp.com/biz/charleys-on-grand-por...</td>\n      <td>10</td>\n      <td>3.5</td>\n      <td>{'latitude': 45.53257, 'longitude': -122.66114}</td>\n      <td>$$</td>\n      <td>{'address1': '435 NE Wasco St', 'address2': ''...</td>\n      <td>NaN</td>\n      <td>outdoor_dining</td>\n    </tr>\n    <tr>\n      <th>1</th>\n      <td>lK-I8qZGu_ne56maS5im3Q</td>\n      <td>Fire on the Mountain</td>\n      <td>https://www.yelp.com/biz/fire-on-the-mountain-...</td>\n      <td>468</td>\n      <td>4.0</td>\n      <td>{'latitude': 45.5541179682835, 'longitude': -1...</td>\n      <td>$$</td>\n      <td>{'address1': '4225 N Interstate Ave', 'address...</td>\n      <td>(503) 280-9464</td>\n      <td>outdoor_dining</td>\n    </tr>\n    <tr>\n      <th>2</th>\n      <td>hYwVVJSCeaIfl39DsItSIw</td>\n      <td>Wanker's Corner</td>\n      <td>https://www.yelp.com/biz/wankers-corner-wilson...</td>\n      <td>140</td>\n      <td>3.0</td>\n      <td>{'latitude': 45.30248, 'longitude': -122.76432}</td>\n      <td>$$</td>\n      <td>{'address1': '8499 SW Main St', 'address2': ''...</td>\n      <td>(503) 682-9673</td>\n      <td>outdoor_dining</td>\n    </tr>\n    <tr>\n      <th>3</th>\n      <td>VqRcFCE-UBaFoCrfkCdgdQ</td>\n      <td>Urban Crêperie</td>\n      <td>https://www.yelp.com/biz/urban-cr%C3%AAperie-p...</td>\n      <td>50</td>\n      <td>4.5</td>\n      <td>{'latitude': 45.520471, 'longitude': -122.684587}</td>\n      <td>$$</td>\n      <td>{'address1': '1216 SW Morrison St', 'address2'...</td>\n      <td>(503) 954-1492</td>\n      <td>outdoor_dining</td>\n    </tr>\n    <tr>\n      <th>4</th>\n      <td>SU89RDasriEghDchbNoZsw</td>\n      <td>Jake's Grill</td>\n      <td>https://www.yelp.com/biz/jakes-grill-portland-...</td>\n      <td>783</td>\n      <td>3.5</td>\n      <td>{'latitude': 45.5206041, 'longitude': -122.682...</td>\n      <td>$$</td>\n      <td>{'address1': '611 SW 10th Ave', 'address2': ''...</td>\n      <td>(503) 220-1850</td>\n      <td>outdoor_dining</td>\n    </tr>\n    <tr>\n      <th>...</th>\n      <td>...</td>\n      <td>...</td>\n      <td>...</td>\n      <td>...</td>\n      <td>...</td>\n      <td>...</td>\n      <td>...</td>\n      <td>...</td>\n      <td>...</td>\n      <td>...</td>\n    </tr>\n    <tr>\n      <th>64954</th>\n      <td>bKXnm2k44mSdU0fP69lY-g</td>\n      <td>Szechuan Mountain House</td>\n      <td>https://www.yelp.com/biz/szechuan-mountain-hou...</td>\n      <td>407</td>\n      <td>4.0</td>\n      <td>{'latitude': 40.7593930266428, 'longitude': -7...</td>\n      <td>$$</td>\n      <td>{'address1': '39-16 Prince St', 'address2': 'S...</td>\n      <td>(718) 888-7893</td>\n      <td>outdoor_dining</td>\n    </tr>\n    <tr>\n      <th>64955</th>\n      <td>oMtJwDxuuxZPvGMgHOoAbQ</td>\n      <td>Reception Bar</td>\n      <td>https://www.yelp.com/biz/reception-bar-new-yor...</td>\n      <td>80</td>\n      <td>4.5</td>\n      <td>{'latitude': 40.7163598, 'longitude': -73.9913...</td>\n      <td>NaN</td>\n      <td>{'address1': '45 Orchard St', 'address2': None...</td>\n      <td>(646) 490-4053</td>\n      <td>outdoor_dining</td>\n    </tr>\n    <tr>\n      <th>64956</th>\n      <td>lOSerKI9Xh4tR5I4YUw9kw</td>\n      <td>Saint Julivert</td>\n      <td>https://www.yelp.com/biz/saint-julivert-brookl...</td>\n      <td>41</td>\n      <td>4.5</td>\n      <td>{'latitude': 40.68787, 'longitude': -73.99565}</td>\n      <td>NaN</td>\n      <td>{'address1': '264 Clinton St', 'address2': Non...</td>\n      <td>(347) 987-3710</td>\n      <td>outdoor_dining</td>\n    </tr>\n    <tr>\n      <th>64957</th>\n      <td>x_YWFkTcxEu1lo8Nlrog5A</td>\n      <td>Milk &amp; Honey Cafe</td>\n      <td>https://www.yelp.com/biz/milk-and-honey-cafe-b...</td>\n      <td>1202</td>\n      <td>4.0</td>\n      <td>{'latitude': 40.634356735221, 'longitude': -73...</td>\n      <td>$$</td>\n      <td>{'address1': '1119 Newkirk Ave', 'address2': '...</td>\n      <td>(718) 513-0441</td>\n      <td>outdoor_dining</td>\n    </tr>\n    <tr>\n      <th>64958</th>\n      <td>1LIptXhtDh58vAA-QPFL4w</td>\n      <td>Cask</td>\n      <td>https://www.yelp.com/biz/cask-new-york-2?adjus...</td>\n      <td>1402</td>\n      <td>4.0</td>\n      <td>{'latitude': 40.745414, 'longitude': -73.979004}</td>\n      <td>$$</td>\n      <td>{'address1': '167 E 33rd St', 'address2': '', ...</td>\n      <td>(212) 300-4924</td>\n      <td>outdoor_dining</td>\n    </tr>\n  </tbody>\n</table>\n<p>64959 rows × 10 columns</p>\n</div>"
     },
     "execution_count": 13,
     "metadata": {},
     "output_type": "execute_result"
    }
   ],
   "source": [
    "OD_df = OD_df.drop_duplicates(subset=['coordinates','id'], keep = \"first\")\n",
    "OD_df = OD_df.reset_index()\n",
    "\n",
    "#添加室外配送场景标签\n",
    "OD_df['outdoor_dining'] = 'outdoor_dining'\n",
    "OD_df = OD_df.drop(columns=['transactions', 'alias','categories','distance','index','is_closed','phone','Unnamed: 0','image_url'])\n",
    "OD_df"
   ],
   "metadata": {
    "collapsed": false,
    "pycharm": {
     "name": "#%%\n"
    }
   }
  },
  {
   "cell_type": "code",
   "execution_count": 14,
   "outputs": [
    {
     "data": {
      "text/plain": "               data_type  null_count  unique_count\nid                object           0         64955\nname              object           0         53796\nurl               object           0         64959\nreview_count       int64           0          2592\nrating           float64           0             9\ncoordinates       object           0         64638\nprice             object        9487             5\nlocation          object           0         64407\ndisplay_phone     object        1138         63140\noutdoor_dining    object           0             1",
      "text/html": "<div>\n<style scoped>\n    .dataframe tbody tr th:only-of-type {\n        vertical-align: middle;\n    }\n\n    .dataframe tbody tr th {\n        vertical-align: top;\n    }\n\n    .dataframe thead th {\n        text-align: right;\n    }\n</style>\n<table border=\"1\" class=\"dataframe\">\n  <thead>\n    <tr style=\"text-align: right;\">\n      <th></th>\n      <th>data_type</th>\n      <th>null_count</th>\n      <th>unique_count</th>\n    </tr>\n  </thead>\n  <tbody>\n    <tr>\n      <th>id</th>\n      <td>object</td>\n      <td>0</td>\n      <td>64955</td>\n    </tr>\n    <tr>\n      <th>name</th>\n      <td>object</td>\n      <td>0</td>\n      <td>53796</td>\n    </tr>\n    <tr>\n      <th>url</th>\n      <td>object</td>\n      <td>0</td>\n      <td>64959</td>\n    </tr>\n    <tr>\n      <th>review_count</th>\n      <td>int64</td>\n      <td>0</td>\n      <td>2592</td>\n    </tr>\n    <tr>\n      <th>rating</th>\n      <td>float64</td>\n      <td>0</td>\n      <td>9</td>\n    </tr>\n    <tr>\n      <th>coordinates</th>\n      <td>object</td>\n      <td>0</td>\n      <td>64638</td>\n    </tr>\n    <tr>\n      <th>price</th>\n      <td>object</td>\n      <td>9487</td>\n      <td>5</td>\n    </tr>\n    <tr>\n      <th>location</th>\n      <td>object</td>\n      <td>0</td>\n      <td>64407</td>\n    </tr>\n    <tr>\n      <th>display_phone</th>\n      <td>object</td>\n      <td>1138</td>\n      <td>63140</td>\n    </tr>\n    <tr>\n      <th>outdoor_dining</th>\n      <td>object</td>\n      <td>0</td>\n      <td>1</td>\n    </tr>\n  </tbody>\n</table>\n</div>"
     },
     "execution_count": 14,
     "metadata": {},
     "output_type": "execute_result"
    }
   ],
   "source": [
    "def printinfo():\n",
    "    temp = pd.DataFrame(index=OD_df.columns)\n",
    "    temp['data_type'] = OD_df.dtypes\n",
    "    temp['null_count'] = OD_df.isnull().sum()\n",
    "    temp['unique_count'] = OD_df.nunique()\n",
    "    return temp\n",
    "\n",
    "printinfo()"
   ],
   "metadata": {
    "collapsed": false,
    "pycharm": {
     "name": "#%%\n"
    }
   }
  },
  {
   "cell_type": "markdown",
   "source": [
    "### 3. Drive Through"
   ],
   "metadata": {
    "collapsed": false,
    "pycharm": {
     "name": "#%% md\n"
    }
   }
  },
  {
   "cell_type": "code",
   "execution_count": 15,
   "outputs": [],
   "source": [
    "# 要读取的路径\n",
    "Folder_Path   = u\"E:\\Report\\战略\\半室外需求验证\\scrapy_DT\"\n",
    "# 拼接后要保存的文件路径\n",
    "SaveFile_Path = u\"E:\\Report\\战略\\半室外需求验证\\scrapy_DT\""
   ],
   "metadata": {
    "collapsed": false,
    "pycharm": {
     "name": "#%%\n"
    }
   }
  },
  {
   "cell_type": "code",
   "execution_count": 16,
   "outputs": [],
   "source": [
    "# 读取文件中的数据内容。\n",
    "file_list = os.listdir(u\"E:\\Report\\战略\\半室外需求验证\\scrapy_DT\")\n",
    "# 编码默认UTF-8，若乱码自行更改\n",
    "DT_df = pd.read_csv(Folder_Path + '\\\\' + file_list[0])"
   ],
   "metadata": {
    "collapsed": false,
    "pycharm": {
     "name": "#%%\n"
    }
   }
  },
  {
   "cell_type": "code",
   "execution_count": 17,
   "outputs": [
    {
     "name": "stderr",
     "output_type": "stream",
     "text": [
      "C:\\Users\\PD\\AppData\\Local\\Temp/ipykernel_12476/664743753.py:3: FutureWarning: The frame.append method is deprecated and will be removed from pandas in a future version. Use pandas.concat instead.\n",
      "  DT_df = DT_df.append(df_concacted, ignore_index=True)\n",
      "C:\\Users\\PD\\AppData\\Local\\Temp/ipykernel_12476/664743753.py:3: FutureWarning: The frame.append method is deprecated and will be removed from pandas in a future version. Use pandas.concat instead.\n",
      "  DT_df = DT_df.append(df_concacted, ignore_index=True)\n",
      "C:\\Users\\PD\\AppData\\Local\\Temp/ipykernel_12476/664743753.py:3: FutureWarning: The frame.append method is deprecated and will be removed from pandas in a future version. Use pandas.concat instead.\n",
      "  DT_df = DT_df.append(df_concacted, ignore_index=True)\n",
      "C:\\Users\\PD\\AppData\\Local\\Temp/ipykernel_12476/664743753.py:3: FutureWarning: The frame.append method is deprecated and will be removed from pandas in a future version. Use pandas.concat instead.\n",
      "  DT_df = DT_df.append(df_concacted, ignore_index=True)\n",
      "C:\\Users\\PD\\AppData\\Local\\Temp/ipykernel_12476/664743753.py:3: FutureWarning: The frame.append method is deprecated and will be removed from pandas in a future version. Use pandas.concat instead.\n",
      "  DT_df = DT_df.append(df_concacted, ignore_index=True)\n",
      "C:\\Users\\PD\\AppData\\Local\\Temp/ipykernel_12476/664743753.py:3: FutureWarning: The frame.append method is deprecated and will be removed from pandas in a future version. Use pandas.concat instead.\n",
      "  DT_df = DT_df.append(df_concacted, ignore_index=True)\n",
      "C:\\Users\\PD\\AppData\\Local\\Temp/ipykernel_12476/664743753.py:3: FutureWarning: The frame.append method is deprecated and will be removed from pandas in a future version. Use pandas.concat instead.\n",
      "  DT_df = DT_df.append(df_concacted, ignore_index=True)\n",
      "C:\\Users\\PD\\AppData\\Local\\Temp/ipykernel_12476/664743753.py:3: FutureWarning: The frame.append method is deprecated and will be removed from pandas in a future version. Use pandas.concat instead.\n",
      "  DT_df = DT_df.append(df_concacted, ignore_index=True)\n",
      "C:\\Users\\PD\\AppData\\Local\\Temp/ipykernel_12476/664743753.py:3: FutureWarning: The frame.append method is deprecated and will be removed from pandas in a future version. Use pandas.concat instead.\n",
      "  DT_df = DT_df.append(df_concacted, ignore_index=True)\n",
      "C:\\Users\\PD\\AppData\\Local\\Temp/ipykernel_12476/664743753.py:3: FutureWarning: The frame.append method is deprecated and will be removed from pandas in a future version. Use pandas.concat instead.\n",
      "  DT_df = DT_df.append(df_concacted, ignore_index=True)\n",
      "C:\\Users\\PD\\AppData\\Local\\Temp/ipykernel_12476/664743753.py:3: FutureWarning: The frame.append method is deprecated and will be removed from pandas in a future version. Use pandas.concat instead.\n",
      "  DT_df = DT_df.append(df_concacted, ignore_index=True)\n",
      "C:\\Users\\PD\\AppData\\Local\\Temp/ipykernel_12476/664743753.py:3: FutureWarning: The frame.append method is deprecated and will be removed from pandas in a future version. Use pandas.concat instead.\n",
      "  DT_df = DT_df.append(df_concacted, ignore_index=True)\n",
      "C:\\Users\\PD\\AppData\\Local\\Temp/ipykernel_12476/664743753.py:3: FutureWarning: The frame.append method is deprecated and will be removed from pandas in a future version. Use pandas.concat instead.\n",
      "  DT_df = DT_df.append(df_concacted, ignore_index=True)\n",
      "C:\\Users\\PD\\AppData\\Local\\Temp/ipykernel_12476/664743753.py:3: FutureWarning: The frame.append method is deprecated and will be removed from pandas in a future version. Use pandas.concat instead.\n",
      "  DT_df = DT_df.append(df_concacted, ignore_index=True)\n",
      "C:\\Users\\PD\\AppData\\Local\\Temp/ipykernel_12476/664743753.py:3: FutureWarning: The frame.append method is deprecated and will be removed from pandas in a future version. Use pandas.concat instead.\n",
      "  DT_df = DT_df.append(df_concacted, ignore_index=True)\n",
      "C:\\Users\\PD\\AppData\\Local\\Temp/ipykernel_12476/664743753.py:3: FutureWarning: The frame.append method is deprecated and will be removed from pandas in a future version. Use pandas.concat instead.\n",
      "  DT_df = DT_df.append(df_concacted, ignore_index=True)\n",
      "C:\\Users\\PD\\AppData\\Local\\Temp/ipykernel_12476/664743753.py:3: FutureWarning: The frame.append method is deprecated and will be removed from pandas in a future version. Use pandas.concat instead.\n",
      "  DT_df = DT_df.append(df_concacted, ignore_index=True)\n",
      "C:\\Users\\PD\\AppData\\Local\\Temp/ipykernel_12476/664743753.py:3: FutureWarning: The frame.append method is deprecated and will be removed from pandas in a future version. Use pandas.concat instead.\n",
      "  DT_df = DT_df.append(df_concacted, ignore_index=True)\n",
      "C:\\Users\\PD\\AppData\\Local\\Temp/ipykernel_12476/664743753.py:3: FutureWarning: The frame.append method is deprecated and will be removed from pandas in a future version. Use pandas.concat instead.\n",
      "  DT_df = DT_df.append(df_concacted, ignore_index=True)\n"
     ]
    }
   ],
   "source": [
    "for i in range(1, len(file_list)):\n",
    "    df_concacted = pd.read_csv(Folder_Path + '\\\\' + file_list[i])\n",
    "    DT_df = DT_df.append(df_concacted, ignore_index=True)"
   ],
   "metadata": {
    "collapsed": false,
    "pycharm": {
     "name": "#%%\n"
    }
   }
  },
  {
   "cell_type": "code",
   "execution_count": 18,
   "outputs": [
    {
     "data": {
      "text/plain": "                            id                     name  \\\n0       cQFgfJH3c9JigHkXZpe6Fw               Gyro Place   \n1       iaOWsQlhHTkHMTThpB1UNQ           Apizza Scholls   \n2       5Wg2MoDPo7cZNa7suuYA6g              Burger King   \n3       YaUGYnfBjq1V-sI0BSokSQ     Ovation Coffee & Tea   \n4       rlj2exPbE-TtqVb7rtdAJA              Burger King   \n...                        ...                      ...   \n115189  xlv_CcDXH1hkG4Wq5mECkQ         Vamos Al Tequila   \n115190  22CRLIEfJWIO-8RjEiecAg                    Akino   \n115191  HmbSkSwJz1JTyLbb5kGEGQ  Gombo's Heimishe Bakery   \n115192  8h89zabx-9QE9fshXLXWDA     Adam's Bagels & Deli   \n115193  4VEgZ7aVUt6oKw8KmXj-jQ         Brooklyn Kolache   \n\n                                                      url  review_count  \\\n0       https://www.yelp.com/biz/gyro-place-portland?a...           154   \n1       https://www.yelp.com/biz/apizza-scholls-portla...          1640   \n2       https://www.yelp.com/biz/burger-king-portland-...            37   \n3       https://www.yelp.com/biz/ovation-coffee-and-te...           783   \n4       https://www.yelp.com/biz/burger-king-aloha?adj...            19   \n...                                                   ...           ...   \n115189  https://www.yelp.com/biz/vamos-al-tequila-broo...           311   \n115190  https://www.yelp.com/biz/akino-elmhurst?adjust...           987   \n115191  https://www.yelp.com/biz/gombos-heimishe-baker...            43   \n115192  https://www.yelp.com/biz/adams-bagels-and-deli...            88   \n115193  https://www.yelp.com/biz/brooklyn-kolache-broo...           348   \n\n        rating                                        coordinates price  \\\n0          4.0  {'latitude': 45.5212324, 'longitude': -122.676...     $   \n1          4.0  {'latitude': 45.512127, 'longitude': -122.613131}    $$   \n2          1.5  {'latitude': 45.518838153941, 'longitude': -12...     $   \n3          5.0  {'latitude': 45.5323049662902, 'longitude': -1...     $   \n4          1.5  {'latitude': 45.494915, 'longitude': -122.8733...     $   \n...        ...                                                ...   ...   \n115189     3.5     {'latitude': 40.73079, 'longitude': -73.95753}    $$   \n115190     4.5   {'latitude': 40.741236, 'longitude': -73.881306}   $$$   \n115191     4.0   {'latitude': 40.667839, 'longitude': -73.942551}     $   \n115192     3.5   {'latitude': 40.722862, 'longitude': -73.868399}     $   \n115193     4.5  {'latitude': 40.6907913077698, 'longitude': -7...     $   \n\n                                                 location   display_phone  \\\n0       {'address1': '302 SW 5th Ave Portland Or', 'ad...  (503) 926-0780   \n1       {'address1': '4741 SE Hawthorne Blvd', 'addres...  (503) 233-1286   \n2       {'address1': '10010 SE Stark St', 'address2': ...  (503) 252-5153   \n3       {'address1': '941 NW Overton St', 'address2': ...  (503) 719-7716   \n4       {'address1': '18975 SW Tualatin Valley Hwy', '...  (503) 649-2398   \n...                                                   ...             ...   \n115189  {'address1': '162 Franklin St', 'address2': ''...  (718) 383-0808   \n115190  {'address1': '82-80 Broadway', 'address2': '',...  (718) 779-8280   \n115191  {'address1': '328 Kingston Ave', 'address2': '...  (718) 771-7701   \n115192  {'address1': '6356 Woodhaven Blvd', 'address2'...  (718) 507-0839   \n115193  {'address1': '520 Dekalb Ave', 'address2': '',...  (718) 398-1111   \n\n        drive_through  \n0       drive_through  \n1       drive_through  \n2       drive_through  \n3       drive_through  \n4       drive_through  \n...               ...  \n115189  drive_through  \n115190  drive_through  \n115191  drive_through  \n115192  drive_through  \n115193  drive_through  \n\n[115194 rows x 10 columns]",
      "text/html": "<div>\n<style scoped>\n    .dataframe tbody tr th:only-of-type {\n        vertical-align: middle;\n    }\n\n    .dataframe tbody tr th {\n        vertical-align: top;\n    }\n\n    .dataframe thead th {\n        text-align: right;\n    }\n</style>\n<table border=\"1\" class=\"dataframe\">\n  <thead>\n    <tr style=\"text-align: right;\">\n      <th></th>\n      <th>id</th>\n      <th>name</th>\n      <th>url</th>\n      <th>review_count</th>\n      <th>rating</th>\n      <th>coordinates</th>\n      <th>price</th>\n      <th>location</th>\n      <th>display_phone</th>\n      <th>drive_through</th>\n    </tr>\n  </thead>\n  <tbody>\n    <tr>\n      <th>0</th>\n      <td>cQFgfJH3c9JigHkXZpe6Fw</td>\n      <td>Gyro Place</td>\n      <td>https://www.yelp.com/biz/gyro-place-portland?a...</td>\n      <td>154</td>\n      <td>4.0</td>\n      <td>{'latitude': 45.5212324, 'longitude': -122.676...</td>\n      <td>$</td>\n      <td>{'address1': '302 SW 5th Ave Portland Or', 'ad...</td>\n      <td>(503) 926-0780</td>\n      <td>drive_through</td>\n    </tr>\n    <tr>\n      <th>1</th>\n      <td>iaOWsQlhHTkHMTThpB1UNQ</td>\n      <td>Apizza Scholls</td>\n      <td>https://www.yelp.com/biz/apizza-scholls-portla...</td>\n      <td>1640</td>\n      <td>4.0</td>\n      <td>{'latitude': 45.512127, 'longitude': -122.613131}</td>\n      <td>$$</td>\n      <td>{'address1': '4741 SE Hawthorne Blvd', 'addres...</td>\n      <td>(503) 233-1286</td>\n      <td>drive_through</td>\n    </tr>\n    <tr>\n      <th>2</th>\n      <td>5Wg2MoDPo7cZNa7suuYA6g</td>\n      <td>Burger King</td>\n      <td>https://www.yelp.com/biz/burger-king-portland-...</td>\n      <td>37</td>\n      <td>1.5</td>\n      <td>{'latitude': 45.518838153941, 'longitude': -12...</td>\n      <td>$</td>\n      <td>{'address1': '10010 SE Stark St', 'address2': ...</td>\n      <td>(503) 252-5153</td>\n      <td>drive_through</td>\n    </tr>\n    <tr>\n      <th>3</th>\n      <td>YaUGYnfBjq1V-sI0BSokSQ</td>\n      <td>Ovation Coffee &amp; Tea</td>\n      <td>https://www.yelp.com/biz/ovation-coffee-and-te...</td>\n      <td>783</td>\n      <td>5.0</td>\n      <td>{'latitude': 45.5323049662902, 'longitude': -1...</td>\n      <td>$</td>\n      <td>{'address1': '941 NW Overton St', 'address2': ...</td>\n      <td>(503) 719-7716</td>\n      <td>drive_through</td>\n    </tr>\n    <tr>\n      <th>4</th>\n      <td>rlj2exPbE-TtqVb7rtdAJA</td>\n      <td>Burger King</td>\n      <td>https://www.yelp.com/biz/burger-king-aloha?adj...</td>\n      <td>19</td>\n      <td>1.5</td>\n      <td>{'latitude': 45.494915, 'longitude': -122.8733...</td>\n      <td>$</td>\n      <td>{'address1': '18975 SW Tualatin Valley Hwy', '...</td>\n      <td>(503) 649-2398</td>\n      <td>drive_through</td>\n    </tr>\n    <tr>\n      <th>...</th>\n      <td>...</td>\n      <td>...</td>\n      <td>...</td>\n      <td>...</td>\n      <td>...</td>\n      <td>...</td>\n      <td>...</td>\n      <td>...</td>\n      <td>...</td>\n      <td>...</td>\n    </tr>\n    <tr>\n      <th>115189</th>\n      <td>xlv_CcDXH1hkG4Wq5mECkQ</td>\n      <td>Vamos Al Tequila</td>\n      <td>https://www.yelp.com/biz/vamos-al-tequila-broo...</td>\n      <td>311</td>\n      <td>3.5</td>\n      <td>{'latitude': 40.73079, 'longitude': -73.95753}</td>\n      <td>$$</td>\n      <td>{'address1': '162 Franklin St', 'address2': ''...</td>\n      <td>(718) 383-0808</td>\n      <td>drive_through</td>\n    </tr>\n    <tr>\n      <th>115190</th>\n      <td>22CRLIEfJWIO-8RjEiecAg</td>\n      <td>Akino</td>\n      <td>https://www.yelp.com/biz/akino-elmhurst?adjust...</td>\n      <td>987</td>\n      <td>4.5</td>\n      <td>{'latitude': 40.741236, 'longitude': -73.881306}</td>\n      <td>$$$</td>\n      <td>{'address1': '82-80 Broadway', 'address2': '',...</td>\n      <td>(718) 779-8280</td>\n      <td>drive_through</td>\n    </tr>\n    <tr>\n      <th>115191</th>\n      <td>HmbSkSwJz1JTyLbb5kGEGQ</td>\n      <td>Gombo's Heimishe Bakery</td>\n      <td>https://www.yelp.com/biz/gombos-heimishe-baker...</td>\n      <td>43</td>\n      <td>4.0</td>\n      <td>{'latitude': 40.667839, 'longitude': -73.942551}</td>\n      <td>$</td>\n      <td>{'address1': '328 Kingston Ave', 'address2': '...</td>\n      <td>(718) 771-7701</td>\n      <td>drive_through</td>\n    </tr>\n    <tr>\n      <th>115192</th>\n      <td>8h89zabx-9QE9fshXLXWDA</td>\n      <td>Adam's Bagels &amp; Deli</td>\n      <td>https://www.yelp.com/biz/adams-bagels-and-deli...</td>\n      <td>88</td>\n      <td>3.5</td>\n      <td>{'latitude': 40.722862, 'longitude': -73.868399}</td>\n      <td>$</td>\n      <td>{'address1': '6356 Woodhaven Blvd', 'address2'...</td>\n      <td>(718) 507-0839</td>\n      <td>drive_through</td>\n    </tr>\n    <tr>\n      <th>115193</th>\n      <td>4VEgZ7aVUt6oKw8KmXj-jQ</td>\n      <td>Brooklyn Kolache</td>\n      <td>https://www.yelp.com/biz/brooklyn-kolache-broo...</td>\n      <td>348</td>\n      <td>4.5</td>\n      <td>{'latitude': 40.6907913077698, 'longitude': -7...</td>\n      <td>$</td>\n      <td>{'address1': '520 Dekalb Ave', 'address2': '',...</td>\n      <td>(718) 398-1111</td>\n      <td>drive_through</td>\n    </tr>\n  </tbody>\n</table>\n<p>115194 rows × 10 columns</p>\n</div>"
     },
     "execution_count": 18,
     "metadata": {},
     "output_type": "execute_result"
    }
   ],
   "source": [
    "DT_df = DT_df.drop_duplicates(subset=['coordinates','id'], keep = \"first\")\n",
    "DT_df = DT_df.reset_index()\n",
    "\n",
    "#添加室外配送场景标签\n",
    "DT_df['drive_through'] = 'drive_through'\n",
    "DT_df = DT_df.drop(columns=['transactions', 'alias','categories','distance','index','is_closed','phone','Unnamed: 0','image_url'])\n",
    "\n",
    "DT_df"
   ],
   "metadata": {
    "collapsed": false,
    "pycharm": {
     "name": "#%%\n"
    }
   }
  },
  {
   "cell_type": "code",
   "execution_count": 19,
   "outputs": [
    {
     "data": {
      "text/plain": "              data_type  null_count  unique_count\nid               object           0        115133\nname             object           0         43907\nurl              object           0        115157\nreview_count      int64           0          2555\nrating          float64           0            10\ncoordinates      object           0        114950\nprice            object       12311             5\nlocation         object           0        114642\ndisplay_phone    object        2221        110859\ndrive_through    object           0             1",
      "text/html": "<div>\n<style scoped>\n    .dataframe tbody tr th:only-of-type {\n        vertical-align: middle;\n    }\n\n    .dataframe tbody tr th {\n        vertical-align: top;\n    }\n\n    .dataframe thead th {\n        text-align: right;\n    }\n</style>\n<table border=\"1\" class=\"dataframe\">\n  <thead>\n    <tr style=\"text-align: right;\">\n      <th></th>\n      <th>data_type</th>\n      <th>null_count</th>\n      <th>unique_count</th>\n    </tr>\n  </thead>\n  <tbody>\n    <tr>\n      <th>id</th>\n      <td>object</td>\n      <td>0</td>\n      <td>115133</td>\n    </tr>\n    <tr>\n      <th>name</th>\n      <td>object</td>\n      <td>0</td>\n      <td>43907</td>\n    </tr>\n    <tr>\n      <th>url</th>\n      <td>object</td>\n      <td>0</td>\n      <td>115157</td>\n    </tr>\n    <tr>\n      <th>review_count</th>\n      <td>int64</td>\n      <td>0</td>\n      <td>2555</td>\n    </tr>\n    <tr>\n      <th>rating</th>\n      <td>float64</td>\n      <td>0</td>\n      <td>10</td>\n    </tr>\n    <tr>\n      <th>coordinates</th>\n      <td>object</td>\n      <td>0</td>\n      <td>114950</td>\n    </tr>\n    <tr>\n      <th>price</th>\n      <td>object</td>\n      <td>12311</td>\n      <td>5</td>\n    </tr>\n    <tr>\n      <th>location</th>\n      <td>object</td>\n      <td>0</td>\n      <td>114642</td>\n    </tr>\n    <tr>\n      <th>display_phone</th>\n      <td>object</td>\n      <td>2221</td>\n      <td>110859</td>\n    </tr>\n    <tr>\n      <th>drive_through</th>\n      <td>object</td>\n      <td>0</td>\n      <td>1</td>\n    </tr>\n  </tbody>\n</table>\n</div>"
     },
     "execution_count": 19,
     "metadata": {},
     "output_type": "execute_result"
    }
   ],
   "source": [
    "def printinfo():\n",
    "    temp = pd.DataFrame(index=DT_df.columns)\n",
    "    temp['data_type'] = DT_df.dtypes\n",
    "    temp['null_count'] = DT_df.isnull().sum()\n",
    "    temp['unique_count'] = DT_df.nunique()\n",
    "    return temp\n",
    "\n",
    "printinfo()"
   ],
   "metadata": {
    "collapsed": false,
    "pycharm": {
     "name": "#%%\n"
    }
   }
  },
  {
   "cell_type": "markdown",
   "source": [
    "## 数据清洗"
   ],
   "metadata": {
    "collapsed": false,
    "pycharm": {
     "name": "#%% md\n"
    }
   }
  },
  {
   "cell_type": "code",
   "execution_count": 20,
   "outputs": [
    {
     "data": {
      "text/plain": "                           id                     name  \\\n0      HeecV0ib-LzDpRqGFDp_AA             Hunny's Cafe   \n1      4yN7zhI2zyblcflkM3a55A               WaBa Grill   \n2      Vj8-3j0IKSJNkS5zMcC4Qg               McDonald's   \n3      E0NKr-TOJskm0Ml1_MI4Xw              Zait Bistro   \n4      wUamEyNCZ3lF-QLF7uSkog  Morton's The Steakhouse   \n...                       ...                      ...   \n97062  bKXnm2k44mSdU0fP69lY-g  Szechuan Mountain House   \n97063  oMtJwDxuuxZPvGMgHOoAbQ            Reception Bar   \n97064  lOSerKI9Xh4tR5I4YUw9kw           Saint Julivert   \n97065  x_YWFkTcxEu1lo8Nlrog5A        Milk & Honey Cafe   \n97066  1LIptXhtDh58vAA-QPFL4w                     Cask   \n\n                                                     url  review_count  \\\n0      https://www.yelp.com/biz/hunnys-cafe-corona?ad...         177.0   \n1      https://www.yelp.com/biz/waba-grill-ontario-5?...          75.0   \n2      https://www.yelp.com/biz/mcdonalds-chino-2?adj...         269.0   \n3      https://www.yelp.com/biz/zait-bistro-rancho-cu...         817.0   \n4      https://www.yelp.com/biz/mortons-the-steakhous...        1240.0   \n...                                                  ...           ...   \n97062  https://www.yelp.com/biz/szechuan-mountain-hou...         407.0   \n97063  https://www.yelp.com/biz/reception-bar-new-yor...          80.0   \n97064  https://www.yelp.com/biz/saint-julivert-brookl...          41.0   \n97065  https://www.yelp.com/biz/milk-and-honey-cafe-b...        1202.0   \n97066  https://www.yelp.com/biz/cask-new-york-2?adjus...        1402.0   \n\n       rating                                        coordinates price  \\\n0         3.5    {'latitude': 33.79879, 'longitude': -117.50153}    $$   \n1         2.0       {'latitude': 34.027, 'longitude': -117.5938}     $   \n2         1.5  {'latitude': 34.0010559748959, 'longitude': -1...     $   \n3         4.0  {'latitude': 34.122156, 'longitude': -117.573391}    $$   \n4         4.0  {'latitude': 33.8000325216287, 'longitude': -1...   $$$   \n...       ...                                                ...   ...   \n97062     4.0  {'latitude': 40.7593930266428, 'longitude': -7...    $$   \n97063     4.5  {'latitude': 40.7163598, 'longitude': -73.9913...   NaN   \n97064     4.5     {'latitude': 40.68787, 'longitude': -73.99565}   NaN   \n97065     4.0  {'latitude': 40.634356735221, 'longitude': -73...    $$   \n97066     4.0   {'latitude': 40.745414, 'longitude': -73.979004}    $$   \n\n                                                location   display_phone  \\\n0      {'address1': '9022 Pulsar Ct', 'address2': '',...  (951) 277-5811   \n1      {'address1': '2598 S Archibald Ave', 'address2...  (909) 947-7057   \n2      {'address1': '3770 Grand Ave', 'address2': '',...  (909) 590-0557   \n3      {'address1': '7251 Haven Ave', 'address2': 'St...  (909) 989-0678   \n4      {'address1': '1895 Harbor Blvd', 'address2': '...  (714) 621-0101   \n...                                                  ...             ...   \n97062  {'address1': '39-16 Prince St', 'address2': 'S...  (718) 888-7893   \n97063  {'address1': '45 Orchard St', 'address2': None...  (646) 490-4053   \n97064  {'address1': '264 Clinton St', 'address2': Non...  (347) 987-3710   \n97065  {'address1': '1119 Newkirk Ave', 'address2': '...  (718) 513-0441   \n97066  {'address1': '167 E 33rd St', 'address2': '', ...  (212) 300-4924   \n\n       curbside_pickup  outdoor_dining  \n0      curbside_pickup             NaN  \n1      curbside_pickup             NaN  \n2      curbside_pickup             NaN  \n3      curbside_pickup  outdoor_dining  \n4      curbside_pickup  outdoor_dining  \n...                ...             ...  \n97062              NaN  outdoor_dining  \n97063              NaN  outdoor_dining  \n97064              NaN  outdoor_dining  \n97065              NaN  outdoor_dining  \n97066              NaN  outdoor_dining  \n\n[97067 rows x 11 columns]",
      "text/html": "<div>\n<style scoped>\n    .dataframe tbody tr th:only-of-type {\n        vertical-align: middle;\n    }\n\n    .dataframe tbody tr th {\n        vertical-align: top;\n    }\n\n    .dataframe thead th {\n        text-align: right;\n    }\n</style>\n<table border=\"1\" class=\"dataframe\">\n  <thead>\n    <tr style=\"text-align: right;\">\n      <th></th>\n      <th>id</th>\n      <th>name</th>\n      <th>url</th>\n      <th>review_count</th>\n      <th>rating</th>\n      <th>coordinates</th>\n      <th>price</th>\n      <th>location</th>\n      <th>display_phone</th>\n      <th>curbside_pickup</th>\n      <th>outdoor_dining</th>\n    </tr>\n  </thead>\n  <tbody>\n    <tr>\n      <th>0</th>\n      <td>HeecV0ib-LzDpRqGFDp_AA</td>\n      <td>Hunny's Cafe</td>\n      <td>https://www.yelp.com/biz/hunnys-cafe-corona?ad...</td>\n      <td>177.0</td>\n      <td>3.5</td>\n      <td>{'latitude': 33.79879, 'longitude': -117.50153}</td>\n      <td>$$</td>\n      <td>{'address1': '9022 Pulsar Ct', 'address2': '',...</td>\n      <td>(951) 277-5811</td>\n      <td>curbside_pickup</td>\n      <td>NaN</td>\n    </tr>\n    <tr>\n      <th>1</th>\n      <td>4yN7zhI2zyblcflkM3a55A</td>\n      <td>WaBa Grill</td>\n      <td>https://www.yelp.com/biz/waba-grill-ontario-5?...</td>\n      <td>75.0</td>\n      <td>2.0</td>\n      <td>{'latitude': 34.027, 'longitude': -117.5938}</td>\n      <td>$</td>\n      <td>{'address1': '2598 S Archibald Ave', 'address2...</td>\n      <td>(909) 947-7057</td>\n      <td>curbside_pickup</td>\n      <td>NaN</td>\n    </tr>\n    <tr>\n      <th>2</th>\n      <td>Vj8-3j0IKSJNkS5zMcC4Qg</td>\n      <td>McDonald's</td>\n      <td>https://www.yelp.com/biz/mcdonalds-chino-2?adj...</td>\n      <td>269.0</td>\n      <td>1.5</td>\n      <td>{'latitude': 34.0010559748959, 'longitude': -1...</td>\n      <td>$</td>\n      <td>{'address1': '3770 Grand Ave', 'address2': '',...</td>\n      <td>(909) 590-0557</td>\n      <td>curbside_pickup</td>\n      <td>NaN</td>\n    </tr>\n    <tr>\n      <th>3</th>\n      <td>E0NKr-TOJskm0Ml1_MI4Xw</td>\n      <td>Zait Bistro</td>\n      <td>https://www.yelp.com/biz/zait-bistro-rancho-cu...</td>\n      <td>817.0</td>\n      <td>4.0</td>\n      <td>{'latitude': 34.122156, 'longitude': -117.573391}</td>\n      <td>$$</td>\n      <td>{'address1': '7251 Haven Ave', 'address2': 'St...</td>\n      <td>(909) 989-0678</td>\n      <td>curbside_pickup</td>\n      <td>outdoor_dining</td>\n    </tr>\n    <tr>\n      <th>4</th>\n      <td>wUamEyNCZ3lF-QLF7uSkog</td>\n      <td>Morton's The Steakhouse</td>\n      <td>https://www.yelp.com/biz/mortons-the-steakhous...</td>\n      <td>1240.0</td>\n      <td>4.0</td>\n      <td>{'latitude': 33.8000325216287, 'longitude': -1...</td>\n      <td>$$$</td>\n      <td>{'address1': '1895 Harbor Blvd', 'address2': '...</td>\n      <td>(714) 621-0101</td>\n      <td>curbside_pickup</td>\n      <td>outdoor_dining</td>\n    </tr>\n    <tr>\n      <th>...</th>\n      <td>...</td>\n      <td>...</td>\n      <td>...</td>\n      <td>...</td>\n      <td>...</td>\n      <td>...</td>\n      <td>...</td>\n      <td>...</td>\n      <td>...</td>\n      <td>...</td>\n      <td>...</td>\n    </tr>\n    <tr>\n      <th>97062</th>\n      <td>bKXnm2k44mSdU0fP69lY-g</td>\n      <td>Szechuan Mountain House</td>\n      <td>https://www.yelp.com/biz/szechuan-mountain-hou...</td>\n      <td>407.0</td>\n      <td>4.0</td>\n      <td>{'latitude': 40.7593930266428, 'longitude': -7...</td>\n      <td>$$</td>\n      <td>{'address1': '39-16 Prince St', 'address2': 'S...</td>\n      <td>(718) 888-7893</td>\n      <td>NaN</td>\n      <td>outdoor_dining</td>\n    </tr>\n    <tr>\n      <th>97063</th>\n      <td>oMtJwDxuuxZPvGMgHOoAbQ</td>\n      <td>Reception Bar</td>\n      <td>https://www.yelp.com/biz/reception-bar-new-yor...</td>\n      <td>80.0</td>\n      <td>4.5</td>\n      <td>{'latitude': 40.7163598, 'longitude': -73.9913...</td>\n      <td>NaN</td>\n      <td>{'address1': '45 Orchard St', 'address2': None...</td>\n      <td>(646) 490-4053</td>\n      <td>NaN</td>\n      <td>outdoor_dining</td>\n    </tr>\n    <tr>\n      <th>97064</th>\n      <td>lOSerKI9Xh4tR5I4YUw9kw</td>\n      <td>Saint Julivert</td>\n      <td>https://www.yelp.com/biz/saint-julivert-brookl...</td>\n      <td>41.0</td>\n      <td>4.5</td>\n      <td>{'latitude': 40.68787, 'longitude': -73.99565}</td>\n      <td>NaN</td>\n      <td>{'address1': '264 Clinton St', 'address2': Non...</td>\n      <td>(347) 987-3710</td>\n      <td>NaN</td>\n      <td>outdoor_dining</td>\n    </tr>\n    <tr>\n      <th>97065</th>\n      <td>x_YWFkTcxEu1lo8Nlrog5A</td>\n      <td>Milk &amp; Honey Cafe</td>\n      <td>https://www.yelp.com/biz/milk-and-honey-cafe-b...</td>\n      <td>1202.0</td>\n      <td>4.0</td>\n      <td>{'latitude': 40.634356735221, 'longitude': -73...</td>\n      <td>$$</td>\n      <td>{'address1': '1119 Newkirk Ave', 'address2': '...</td>\n      <td>(718) 513-0441</td>\n      <td>NaN</td>\n      <td>outdoor_dining</td>\n    </tr>\n    <tr>\n      <th>97066</th>\n      <td>1LIptXhtDh58vAA-QPFL4w</td>\n      <td>Cask</td>\n      <td>https://www.yelp.com/biz/cask-new-york-2?adjus...</td>\n      <td>1402.0</td>\n      <td>4.0</td>\n      <td>{'latitude': 40.745414, 'longitude': -73.979004}</td>\n      <td>$$</td>\n      <td>{'address1': '167 E 33rd St', 'address2': '', ...</td>\n      <td>(212) 300-4924</td>\n      <td>NaN</td>\n      <td>outdoor_dining</td>\n    </tr>\n  </tbody>\n</table>\n<p>97067 rows × 11 columns</p>\n</div>"
     },
     "execution_count": 20,
     "metadata": {},
     "output_type": "execute_result"
    }
   ],
   "source": [
    "#合并DT和OD数据\n",
    "df = CP_df.merge(OD_df,on=['coordinates','id'],how = 'outer')\n",
    "\n",
    "#遍历补空\n",
    "df['name_x'].fillna(df['name_y'], inplace = True)\n",
    "df['url_x'].fillna(df['url_y'], inplace = True)\n",
    "df['review_count_x'].fillna(df['review_count_y'], inplace = True)\n",
    "df['rating_x'].fillna(df['rating_y'], inplace = True)\n",
    "df['price_x'].fillna(df['price_y'], inplace = True)\n",
    "df['url_x'].fillna(df['url_y'], inplace = True)\n",
    "df['display_phone_x'].fillna(df['display_phone_y'], inplace = True)\n",
    "df['location_x'].fillna(df['location_y'], inplace = True)\n",
    "\n",
    "#删除重复列\n",
    "df = df.drop(columns=['name_y', 'url_y','review_count_y','rating_y','price_y','url_y','display_phone_y','location_y'])\n",
    "\n",
    "#传入字段修改列名\n",
    "df = df.rename(columns = lambda x : x.replace(\"_x\",\"\"))  #传入字段修改\n",
    "df"
   ],
   "metadata": {
    "collapsed": false,
    "pycharm": {
     "name": "#%%\n"
    }
   }
  },
  {
   "cell_type": "code",
   "execution_count": 21,
   "outputs": [
    {
     "data": {
      "text/plain": "                data_type  null_count  unique_count\nid                 object           0         96932\nname               object           0         63938\nurl                object           0         97054\nreview_count      float64           0          2723\nrating            float64           0             9\ncoordinates        object           0         96626\nprice              object       12367             5\nlocation           object           0         96225\ndisplay_phone      object        1324         94756\ncurbside_pickup    object       53844             1\noutdoor_dining     object       32108             1",
      "text/html": "<div>\n<style scoped>\n    .dataframe tbody tr th:only-of-type {\n        vertical-align: middle;\n    }\n\n    .dataframe tbody tr th {\n        vertical-align: top;\n    }\n\n    .dataframe thead th {\n        text-align: right;\n    }\n</style>\n<table border=\"1\" class=\"dataframe\">\n  <thead>\n    <tr style=\"text-align: right;\">\n      <th></th>\n      <th>data_type</th>\n      <th>null_count</th>\n      <th>unique_count</th>\n    </tr>\n  </thead>\n  <tbody>\n    <tr>\n      <th>id</th>\n      <td>object</td>\n      <td>0</td>\n      <td>96932</td>\n    </tr>\n    <tr>\n      <th>name</th>\n      <td>object</td>\n      <td>0</td>\n      <td>63938</td>\n    </tr>\n    <tr>\n      <th>url</th>\n      <td>object</td>\n      <td>0</td>\n      <td>97054</td>\n    </tr>\n    <tr>\n      <th>review_count</th>\n      <td>float64</td>\n      <td>0</td>\n      <td>2723</td>\n    </tr>\n    <tr>\n      <th>rating</th>\n      <td>float64</td>\n      <td>0</td>\n      <td>9</td>\n    </tr>\n    <tr>\n      <th>coordinates</th>\n      <td>object</td>\n      <td>0</td>\n      <td>96626</td>\n    </tr>\n    <tr>\n      <th>price</th>\n      <td>object</td>\n      <td>12367</td>\n      <td>5</td>\n    </tr>\n    <tr>\n      <th>location</th>\n      <td>object</td>\n      <td>0</td>\n      <td>96225</td>\n    </tr>\n    <tr>\n      <th>display_phone</th>\n      <td>object</td>\n      <td>1324</td>\n      <td>94756</td>\n    </tr>\n    <tr>\n      <th>curbside_pickup</th>\n      <td>object</td>\n      <td>53844</td>\n      <td>1</td>\n    </tr>\n    <tr>\n      <th>outdoor_dining</th>\n      <td>object</td>\n      <td>32108</td>\n      <td>1</td>\n    </tr>\n  </tbody>\n</table>\n</div>"
     },
     "execution_count": 21,
     "metadata": {},
     "output_type": "execute_result"
    }
   ],
   "source": [
    "def printinfo():\n",
    "    temp = pd.DataFrame(index=df.columns)\n",
    "    temp['data_type'] = df.dtypes\n",
    "    temp['null_count'] = df.isnull().sum()\n",
    "    temp['unique_count'] = df.nunique()\n",
    "    return temp\n",
    "\n",
    "printinfo()"
   ],
   "metadata": {
    "collapsed": false,
    "pycharm": {
     "name": "#%%\n"
    }
   }
  },
  {
   "cell_type": "markdown",
   "source": [
    "### 1. 经纬度"
   ],
   "metadata": {
    "collapsed": false,
    "pycharm": {
     "name": "#%% md\n"
    }
   }
  },
  {
   "cell_type": "code",
   "execution_count": 22,
   "outputs": [],
   "source": [
    "#提取门店经纬度\n",
    "temp_dict = []\n",
    "for row in np.arange(0,df.shape[0],1):\n",
    "    append_dict = ast.literal_eval(df['coordinates'][row])\n",
    "    temp_dict.append(append_dict)\n",
    "\n",
    "converted_location_dict = pd.DataFrame(temp_dict)\n",
    "converted_location_dict['lat_long']= converted_location_dict['latitude'].apply(str) + ',' + converted_location_dict['longitude'].apply(str)"
   ],
   "metadata": {
    "collapsed": false,
    "pycharm": {
     "name": "#%%\n"
    }
   }
  },
  {
   "cell_type": "code",
   "execution_count": 23,
   "outputs": [
    {
     "data": {
      "text/plain": "                           id                     name  \\\n0      HeecV0ib-LzDpRqGFDp_AA             Hunny's Cafe   \n1      4yN7zhI2zyblcflkM3a55A               WaBa Grill   \n2      Vj8-3j0IKSJNkS5zMcC4Qg               McDonald's   \n3      E0NKr-TOJskm0Ml1_MI4Xw              Zait Bistro   \n4      wUamEyNCZ3lF-QLF7uSkog  Morton's The Steakhouse   \n...                       ...                      ...   \n97062  bKXnm2k44mSdU0fP69lY-g  Szechuan Mountain House   \n97063  oMtJwDxuuxZPvGMgHOoAbQ            Reception Bar   \n97064  lOSerKI9Xh4tR5I4YUw9kw           Saint Julivert   \n97065  x_YWFkTcxEu1lo8Nlrog5A        Milk & Honey Cafe   \n97066  1LIptXhtDh58vAA-QPFL4w                     Cask   \n\n                                                     url  review_count  \\\n0      https://www.yelp.com/biz/hunnys-cafe-corona?ad...         177.0   \n1      https://www.yelp.com/biz/waba-grill-ontario-5?...          75.0   \n2      https://www.yelp.com/biz/mcdonalds-chino-2?adj...         269.0   \n3      https://www.yelp.com/biz/zait-bistro-rancho-cu...         817.0   \n4      https://www.yelp.com/biz/mortons-the-steakhous...        1240.0   \n...                                                  ...           ...   \n97062  https://www.yelp.com/biz/szechuan-mountain-hou...         407.0   \n97063  https://www.yelp.com/biz/reception-bar-new-yor...          80.0   \n97064  https://www.yelp.com/biz/saint-julivert-brookl...          41.0   \n97065  https://www.yelp.com/biz/milk-and-honey-cafe-b...        1202.0   \n97066  https://www.yelp.com/biz/cask-new-york-2?adjus...        1402.0   \n\n       rating                         coordinates price  \\\n0         3.5                 33.79879,-117.50153    $$   \n1         2.0                    34.027,-117.5938     $   \n2         1.5        34.0010559748959,-117.722312     $   \n3         4.0               34.122156,-117.573391    $$   \n4         4.0  33.8000325216287,-117.915830783895   $$$   \n...       ...                                 ...   ...   \n97062     4.0  40.7593930266428,-73.8326038269836    $$   \n97063     4.5              40.7163598,-73.9913564   NaN   \n97064     4.5                  40.68787,-73.99565   NaN   \n97065     4.0   40.634356735221,-73.9661046515558    $$   \n97066     4.0                40.745414,-73.979004    $$   \n\n                                                location   display_phone  \\\n0      {'address1': '9022 Pulsar Ct', 'address2': '',...  (951) 277-5811   \n1      {'address1': '2598 S Archibald Ave', 'address2...  (909) 947-7057   \n2      {'address1': '3770 Grand Ave', 'address2': '',...  (909) 590-0557   \n3      {'address1': '7251 Haven Ave', 'address2': 'St...  (909) 989-0678   \n4      {'address1': '1895 Harbor Blvd', 'address2': '...  (714) 621-0101   \n...                                                  ...             ...   \n97062  {'address1': '39-16 Prince St', 'address2': 'S...  (718) 888-7893   \n97063  {'address1': '45 Orchard St', 'address2': None...  (646) 490-4053   \n97064  {'address1': '264 Clinton St', 'address2': Non...  (347) 987-3710   \n97065  {'address1': '1119 Newkirk Ave', 'address2': '...  (718) 513-0441   \n97066  {'address1': '167 E 33rd St', 'address2': '', ...  (212) 300-4924   \n\n       curbside_pickup  outdoor_dining   latitude   longitude  \n0      curbside_pickup             NaN  33.798790 -117.501530  \n1      curbside_pickup             NaN  34.027000 -117.593800  \n2      curbside_pickup             NaN  34.001056 -117.722312  \n3      curbside_pickup  outdoor_dining  34.122156 -117.573391  \n4      curbside_pickup  outdoor_dining  33.800033 -117.915831  \n...                ...             ...        ...         ...  \n97062              NaN  outdoor_dining  40.759393  -73.832604  \n97063              NaN  outdoor_dining  40.716360  -73.991356  \n97064              NaN  outdoor_dining  40.687870  -73.995650  \n97065              NaN  outdoor_dining  40.634357  -73.966105  \n97066              NaN  outdoor_dining  40.745414  -73.979004  \n\n[97067 rows x 13 columns]",
      "text/html": "<div>\n<style scoped>\n    .dataframe tbody tr th:only-of-type {\n        vertical-align: middle;\n    }\n\n    .dataframe tbody tr th {\n        vertical-align: top;\n    }\n\n    .dataframe thead th {\n        text-align: right;\n    }\n</style>\n<table border=\"1\" class=\"dataframe\">\n  <thead>\n    <tr style=\"text-align: right;\">\n      <th></th>\n      <th>id</th>\n      <th>name</th>\n      <th>url</th>\n      <th>review_count</th>\n      <th>rating</th>\n      <th>coordinates</th>\n      <th>price</th>\n      <th>location</th>\n      <th>display_phone</th>\n      <th>curbside_pickup</th>\n      <th>outdoor_dining</th>\n      <th>latitude</th>\n      <th>longitude</th>\n    </tr>\n  </thead>\n  <tbody>\n    <tr>\n      <th>0</th>\n      <td>HeecV0ib-LzDpRqGFDp_AA</td>\n      <td>Hunny's Cafe</td>\n      <td>https://www.yelp.com/biz/hunnys-cafe-corona?ad...</td>\n      <td>177.0</td>\n      <td>3.5</td>\n      <td>33.79879,-117.50153</td>\n      <td>$$</td>\n      <td>{'address1': '9022 Pulsar Ct', 'address2': '',...</td>\n      <td>(951) 277-5811</td>\n      <td>curbside_pickup</td>\n      <td>NaN</td>\n      <td>33.798790</td>\n      <td>-117.501530</td>\n    </tr>\n    <tr>\n      <th>1</th>\n      <td>4yN7zhI2zyblcflkM3a55A</td>\n      <td>WaBa Grill</td>\n      <td>https://www.yelp.com/biz/waba-grill-ontario-5?...</td>\n      <td>75.0</td>\n      <td>2.0</td>\n      <td>34.027,-117.5938</td>\n      <td>$</td>\n      <td>{'address1': '2598 S Archibald Ave', 'address2...</td>\n      <td>(909) 947-7057</td>\n      <td>curbside_pickup</td>\n      <td>NaN</td>\n      <td>34.027000</td>\n      <td>-117.593800</td>\n    </tr>\n    <tr>\n      <th>2</th>\n      <td>Vj8-3j0IKSJNkS5zMcC4Qg</td>\n      <td>McDonald's</td>\n      <td>https://www.yelp.com/biz/mcdonalds-chino-2?adj...</td>\n      <td>269.0</td>\n      <td>1.5</td>\n      <td>34.0010559748959,-117.722312</td>\n      <td>$</td>\n      <td>{'address1': '3770 Grand Ave', 'address2': '',...</td>\n      <td>(909) 590-0557</td>\n      <td>curbside_pickup</td>\n      <td>NaN</td>\n      <td>34.001056</td>\n      <td>-117.722312</td>\n    </tr>\n    <tr>\n      <th>3</th>\n      <td>E0NKr-TOJskm0Ml1_MI4Xw</td>\n      <td>Zait Bistro</td>\n      <td>https://www.yelp.com/biz/zait-bistro-rancho-cu...</td>\n      <td>817.0</td>\n      <td>4.0</td>\n      <td>34.122156,-117.573391</td>\n      <td>$$</td>\n      <td>{'address1': '7251 Haven Ave', 'address2': 'St...</td>\n      <td>(909) 989-0678</td>\n      <td>curbside_pickup</td>\n      <td>outdoor_dining</td>\n      <td>34.122156</td>\n      <td>-117.573391</td>\n    </tr>\n    <tr>\n      <th>4</th>\n      <td>wUamEyNCZ3lF-QLF7uSkog</td>\n      <td>Morton's The Steakhouse</td>\n      <td>https://www.yelp.com/biz/mortons-the-steakhous...</td>\n      <td>1240.0</td>\n      <td>4.0</td>\n      <td>33.8000325216287,-117.915830783895</td>\n      <td>$$$</td>\n      <td>{'address1': '1895 Harbor Blvd', 'address2': '...</td>\n      <td>(714) 621-0101</td>\n      <td>curbside_pickup</td>\n      <td>outdoor_dining</td>\n      <td>33.800033</td>\n      <td>-117.915831</td>\n    </tr>\n    <tr>\n      <th>...</th>\n      <td>...</td>\n      <td>...</td>\n      <td>...</td>\n      <td>...</td>\n      <td>...</td>\n      <td>...</td>\n      <td>...</td>\n      <td>...</td>\n      <td>...</td>\n      <td>...</td>\n      <td>...</td>\n      <td>...</td>\n      <td>...</td>\n    </tr>\n    <tr>\n      <th>97062</th>\n      <td>bKXnm2k44mSdU0fP69lY-g</td>\n      <td>Szechuan Mountain House</td>\n      <td>https://www.yelp.com/biz/szechuan-mountain-hou...</td>\n      <td>407.0</td>\n      <td>4.0</td>\n      <td>40.7593930266428,-73.8326038269836</td>\n      <td>$$</td>\n      <td>{'address1': '39-16 Prince St', 'address2': 'S...</td>\n      <td>(718) 888-7893</td>\n      <td>NaN</td>\n      <td>outdoor_dining</td>\n      <td>40.759393</td>\n      <td>-73.832604</td>\n    </tr>\n    <tr>\n      <th>97063</th>\n      <td>oMtJwDxuuxZPvGMgHOoAbQ</td>\n      <td>Reception Bar</td>\n      <td>https://www.yelp.com/biz/reception-bar-new-yor...</td>\n      <td>80.0</td>\n      <td>4.5</td>\n      <td>40.7163598,-73.9913564</td>\n      <td>NaN</td>\n      <td>{'address1': '45 Orchard St', 'address2': None...</td>\n      <td>(646) 490-4053</td>\n      <td>NaN</td>\n      <td>outdoor_dining</td>\n      <td>40.716360</td>\n      <td>-73.991356</td>\n    </tr>\n    <tr>\n      <th>97064</th>\n      <td>lOSerKI9Xh4tR5I4YUw9kw</td>\n      <td>Saint Julivert</td>\n      <td>https://www.yelp.com/biz/saint-julivert-brookl...</td>\n      <td>41.0</td>\n      <td>4.5</td>\n      <td>40.68787,-73.99565</td>\n      <td>NaN</td>\n      <td>{'address1': '264 Clinton St', 'address2': Non...</td>\n      <td>(347) 987-3710</td>\n      <td>NaN</td>\n      <td>outdoor_dining</td>\n      <td>40.687870</td>\n      <td>-73.995650</td>\n    </tr>\n    <tr>\n      <th>97065</th>\n      <td>x_YWFkTcxEu1lo8Nlrog5A</td>\n      <td>Milk &amp; Honey Cafe</td>\n      <td>https://www.yelp.com/biz/milk-and-honey-cafe-b...</td>\n      <td>1202.0</td>\n      <td>4.0</td>\n      <td>40.634356735221,-73.9661046515558</td>\n      <td>$$</td>\n      <td>{'address1': '1119 Newkirk Ave', 'address2': '...</td>\n      <td>(718) 513-0441</td>\n      <td>NaN</td>\n      <td>outdoor_dining</td>\n      <td>40.634357</td>\n      <td>-73.966105</td>\n    </tr>\n    <tr>\n      <th>97066</th>\n      <td>1LIptXhtDh58vAA-QPFL4w</td>\n      <td>Cask</td>\n      <td>https://www.yelp.com/biz/cask-new-york-2?adjus...</td>\n      <td>1402.0</td>\n      <td>4.0</td>\n      <td>40.745414,-73.979004</td>\n      <td>$$</td>\n      <td>{'address1': '167 E 33rd St', 'address2': '', ...</td>\n      <td>(212) 300-4924</td>\n      <td>NaN</td>\n      <td>outdoor_dining</td>\n      <td>40.745414</td>\n      <td>-73.979004</td>\n    </tr>\n  </tbody>\n</table>\n<p>97067 rows × 13 columns</p>\n</div>"
     },
     "execution_count": 23,
     "metadata": {},
     "output_type": "execute_result"
    }
   ],
   "source": [
    "df['latitude'] = converted_location_dict['latitude']\n",
    "df['longitude'] = converted_location_dict['longitude']\n",
    "df['coordinates'] = converted_location_dict['lat_long']\n",
    "\n",
    "df"
   ],
   "metadata": {
    "collapsed": false,
    "pycharm": {
     "name": "#%%\n"
    }
   }
  },
  {
   "cell_type": "markdown",
   "source": [
    "\n",
    "### 2. 城市"
   ],
   "metadata": {
    "collapsed": false,
    "pycharm": {
     "name": "#%% md\n"
    }
   }
  },
  {
   "cell_type": "code",
   "execution_count": 24,
   "outputs": [],
   "source": [
    "#提取地址中的城市名和州名\n",
    "temp_dict = []\n",
    "for row in range(len(df['location'])):\n",
    "    append_dict = ast.literal_eval(df['location'][row])\n",
    "    temp_dict.append(append_dict)\n",
    "\n",
    "located_city_dict = pd.DataFrame(temp_dict)\n",
    "located_city_dict_shaped = located_city_dict['city'].replace('New York City','New York')\n",
    "located_city_dict_shaped = located_city_dict['city'].replace('Winston-salem','Winston-Salem')\n",
    "located_city_dict_shaped = located_city_dict['city'].replace('Winston Salem','Winston-Salem')\n",
    "located_city_dict_shaped = located_city_dict['city'].replace('Wilkes-barre','Wilkes-Barre')\n",
    "located_city_dict_shaped = located_city_dict['city'].replace('Wilkes Barre','Wilkes-Barre')\n",
    "located_city_dict['city'] = located_city_dict_shaped\n",
    "located_city_dict['citi_state']= located_city_dict['city'].apply(str) + ',' + located_city_dict['state'].apply(str)"
   ],
   "metadata": {
    "collapsed": false,
    "pycharm": {
     "name": "#%%\n"
    }
   }
  },
  {
   "cell_type": "code",
   "execution_count": 25,
   "outputs": [
    {
     "data": {
      "text/plain": "                           id                     name  \\\n0      HeecV0ib-LzDpRqGFDp_AA             Hunny's Cafe   \n1      4yN7zhI2zyblcflkM3a55A               WaBa Grill   \n2      Vj8-3j0IKSJNkS5zMcC4Qg               McDonald's   \n3      E0NKr-TOJskm0Ml1_MI4Xw              Zait Bistro   \n4      wUamEyNCZ3lF-QLF7uSkog  Morton's The Steakhouse   \n...                       ...                      ...   \n97062  bKXnm2k44mSdU0fP69lY-g  Szechuan Mountain House   \n97063  oMtJwDxuuxZPvGMgHOoAbQ            Reception Bar   \n97064  lOSerKI9Xh4tR5I4YUw9kw           Saint Julivert   \n97065  x_YWFkTcxEu1lo8Nlrog5A        Milk & Honey Cafe   \n97066  1LIptXhtDh58vAA-QPFL4w                     Cask   \n\n                                                     url  review_count  \\\n0      https://www.yelp.com/biz/hunnys-cafe-corona?ad...         177.0   \n1      https://www.yelp.com/biz/waba-grill-ontario-5?...          75.0   \n2      https://www.yelp.com/biz/mcdonalds-chino-2?adj...         269.0   \n3      https://www.yelp.com/biz/zait-bistro-rancho-cu...         817.0   \n4      https://www.yelp.com/biz/mortons-the-steakhous...        1240.0   \n...                                                  ...           ...   \n97062  https://www.yelp.com/biz/szechuan-mountain-hou...         407.0   \n97063  https://www.yelp.com/biz/reception-bar-new-yor...          80.0   \n97064  https://www.yelp.com/biz/saint-julivert-brookl...          41.0   \n97065  https://www.yelp.com/biz/milk-and-honey-cafe-b...        1202.0   \n97066  https://www.yelp.com/biz/cask-new-york-2?adjus...        1402.0   \n\n       rating                         coordinates price  \\\n0         3.5                 33.79879,-117.50153    $$   \n1         2.0                    34.027,-117.5938     $   \n2         1.5        34.0010559748959,-117.722312     $   \n3         4.0               34.122156,-117.573391    $$   \n4         4.0  33.8000325216287,-117.915830783895   $$$   \n...       ...                                 ...   ...   \n97062     4.0  40.7593930266428,-73.8326038269836    $$   \n97063     4.5              40.7163598,-73.9913564   NaN   \n97064     4.5                  40.68787,-73.99565   NaN   \n97065     4.0   40.634356735221,-73.9661046515558    $$   \n97066     4.0                40.745414,-73.979004    $$   \n\n                                                location   display_phone  \\\n0      {'address1': '9022 Pulsar Ct', 'address2': '',...  (951) 277-5811   \n1      {'address1': '2598 S Archibald Ave', 'address2...  (909) 947-7057   \n2      {'address1': '3770 Grand Ave', 'address2': '',...  (909) 590-0557   \n3      {'address1': '7251 Haven Ave', 'address2': 'St...  (909) 989-0678   \n4      {'address1': '1895 Harbor Blvd', 'address2': '...  (714) 621-0101   \n...                                                  ...             ...   \n97062  {'address1': '39-16 Prince St', 'address2': 'S...  (718) 888-7893   \n97063  {'address1': '45 Orchard St', 'address2': None...  (646) 490-4053   \n97064  {'address1': '264 Clinton St', 'address2': Non...  (347) 987-3710   \n97065  {'address1': '1119 Newkirk Ave', 'address2': '...  (718) 513-0441   \n97066  {'address1': '167 E 33rd St', 'address2': '', ...  (212) 300-4924   \n\n       curbside_pickup  outdoor_dining   latitude   longitude  \\\n0      curbside_pickup             NaN  33.798790 -117.501530   \n1      curbside_pickup             NaN  34.027000 -117.593800   \n2      curbside_pickup             NaN  34.001056 -117.722312   \n3      curbside_pickup  outdoor_dining  34.122156 -117.573391   \n4      curbside_pickup  outdoor_dining  33.800033 -117.915831   \n...                ...             ...        ...         ...   \n97062              NaN  outdoor_dining  40.759393  -73.832604   \n97063              NaN  outdoor_dining  40.716360  -73.991356   \n97064              NaN  outdoor_dining  40.687870  -73.995650   \n97065              NaN  outdoor_dining  40.634357  -73.966105   \n97066              NaN  outdoor_dining  40.745414  -73.979004   \n\n                   city state  \n0                Corona    CA  \n1               Ontario    CA  \n2                 Chino    CA  \n3      Rancho Cucamonga    CA  \n4               Anaheim    CA  \n...                 ...   ...  \n97062          Flushing    NY  \n97063          New York    NY  \n97064          Brooklyn    NY  \n97065          Brooklyn    NY  \n97066          New York    NY  \n\n[97067 rows x 15 columns]",
      "text/html": "<div>\n<style scoped>\n    .dataframe tbody tr th:only-of-type {\n        vertical-align: middle;\n    }\n\n    .dataframe tbody tr th {\n        vertical-align: top;\n    }\n\n    .dataframe thead th {\n        text-align: right;\n    }\n</style>\n<table border=\"1\" class=\"dataframe\">\n  <thead>\n    <tr style=\"text-align: right;\">\n      <th></th>\n      <th>id</th>\n      <th>name</th>\n      <th>url</th>\n      <th>review_count</th>\n      <th>rating</th>\n      <th>coordinates</th>\n      <th>price</th>\n      <th>location</th>\n      <th>display_phone</th>\n      <th>curbside_pickup</th>\n      <th>outdoor_dining</th>\n      <th>latitude</th>\n      <th>longitude</th>\n      <th>city</th>\n      <th>state</th>\n    </tr>\n  </thead>\n  <tbody>\n    <tr>\n      <th>0</th>\n      <td>HeecV0ib-LzDpRqGFDp_AA</td>\n      <td>Hunny's Cafe</td>\n      <td>https://www.yelp.com/biz/hunnys-cafe-corona?ad...</td>\n      <td>177.0</td>\n      <td>3.5</td>\n      <td>33.79879,-117.50153</td>\n      <td>$$</td>\n      <td>{'address1': '9022 Pulsar Ct', 'address2': '',...</td>\n      <td>(951) 277-5811</td>\n      <td>curbside_pickup</td>\n      <td>NaN</td>\n      <td>33.798790</td>\n      <td>-117.501530</td>\n      <td>Corona</td>\n      <td>CA</td>\n    </tr>\n    <tr>\n      <th>1</th>\n      <td>4yN7zhI2zyblcflkM3a55A</td>\n      <td>WaBa Grill</td>\n      <td>https://www.yelp.com/biz/waba-grill-ontario-5?...</td>\n      <td>75.0</td>\n      <td>2.0</td>\n      <td>34.027,-117.5938</td>\n      <td>$</td>\n      <td>{'address1': '2598 S Archibald Ave', 'address2...</td>\n      <td>(909) 947-7057</td>\n      <td>curbside_pickup</td>\n      <td>NaN</td>\n      <td>34.027000</td>\n      <td>-117.593800</td>\n      <td>Ontario</td>\n      <td>CA</td>\n    </tr>\n    <tr>\n      <th>2</th>\n      <td>Vj8-3j0IKSJNkS5zMcC4Qg</td>\n      <td>McDonald's</td>\n      <td>https://www.yelp.com/biz/mcdonalds-chino-2?adj...</td>\n      <td>269.0</td>\n      <td>1.5</td>\n      <td>34.0010559748959,-117.722312</td>\n      <td>$</td>\n      <td>{'address1': '3770 Grand Ave', 'address2': '',...</td>\n      <td>(909) 590-0557</td>\n      <td>curbside_pickup</td>\n      <td>NaN</td>\n      <td>34.001056</td>\n      <td>-117.722312</td>\n      <td>Chino</td>\n      <td>CA</td>\n    </tr>\n    <tr>\n      <th>3</th>\n      <td>E0NKr-TOJskm0Ml1_MI4Xw</td>\n      <td>Zait Bistro</td>\n      <td>https://www.yelp.com/biz/zait-bistro-rancho-cu...</td>\n      <td>817.0</td>\n      <td>4.0</td>\n      <td>34.122156,-117.573391</td>\n      <td>$$</td>\n      <td>{'address1': '7251 Haven Ave', 'address2': 'St...</td>\n      <td>(909) 989-0678</td>\n      <td>curbside_pickup</td>\n      <td>outdoor_dining</td>\n      <td>34.122156</td>\n      <td>-117.573391</td>\n      <td>Rancho Cucamonga</td>\n      <td>CA</td>\n    </tr>\n    <tr>\n      <th>4</th>\n      <td>wUamEyNCZ3lF-QLF7uSkog</td>\n      <td>Morton's The Steakhouse</td>\n      <td>https://www.yelp.com/biz/mortons-the-steakhous...</td>\n      <td>1240.0</td>\n      <td>4.0</td>\n      <td>33.8000325216287,-117.915830783895</td>\n      <td>$$$</td>\n      <td>{'address1': '1895 Harbor Blvd', 'address2': '...</td>\n      <td>(714) 621-0101</td>\n      <td>curbside_pickup</td>\n      <td>outdoor_dining</td>\n      <td>33.800033</td>\n      <td>-117.915831</td>\n      <td>Anaheim</td>\n      <td>CA</td>\n    </tr>\n    <tr>\n      <th>...</th>\n      <td>...</td>\n      <td>...</td>\n      <td>...</td>\n      <td>...</td>\n      <td>...</td>\n      <td>...</td>\n      <td>...</td>\n      <td>...</td>\n      <td>...</td>\n      <td>...</td>\n      <td>...</td>\n      <td>...</td>\n      <td>...</td>\n      <td>...</td>\n      <td>...</td>\n    </tr>\n    <tr>\n      <th>97062</th>\n      <td>bKXnm2k44mSdU0fP69lY-g</td>\n      <td>Szechuan Mountain House</td>\n      <td>https://www.yelp.com/biz/szechuan-mountain-hou...</td>\n      <td>407.0</td>\n      <td>4.0</td>\n      <td>40.7593930266428,-73.8326038269836</td>\n      <td>$$</td>\n      <td>{'address1': '39-16 Prince St', 'address2': 'S...</td>\n      <td>(718) 888-7893</td>\n      <td>NaN</td>\n      <td>outdoor_dining</td>\n      <td>40.759393</td>\n      <td>-73.832604</td>\n      <td>Flushing</td>\n      <td>NY</td>\n    </tr>\n    <tr>\n      <th>97063</th>\n      <td>oMtJwDxuuxZPvGMgHOoAbQ</td>\n      <td>Reception Bar</td>\n      <td>https://www.yelp.com/biz/reception-bar-new-yor...</td>\n      <td>80.0</td>\n      <td>4.5</td>\n      <td>40.7163598,-73.9913564</td>\n      <td>NaN</td>\n      <td>{'address1': '45 Orchard St', 'address2': None...</td>\n      <td>(646) 490-4053</td>\n      <td>NaN</td>\n      <td>outdoor_dining</td>\n      <td>40.716360</td>\n      <td>-73.991356</td>\n      <td>New York</td>\n      <td>NY</td>\n    </tr>\n    <tr>\n      <th>97064</th>\n      <td>lOSerKI9Xh4tR5I4YUw9kw</td>\n      <td>Saint Julivert</td>\n      <td>https://www.yelp.com/biz/saint-julivert-brookl...</td>\n      <td>41.0</td>\n      <td>4.5</td>\n      <td>40.68787,-73.99565</td>\n      <td>NaN</td>\n      <td>{'address1': '264 Clinton St', 'address2': Non...</td>\n      <td>(347) 987-3710</td>\n      <td>NaN</td>\n      <td>outdoor_dining</td>\n      <td>40.687870</td>\n      <td>-73.995650</td>\n      <td>Brooklyn</td>\n      <td>NY</td>\n    </tr>\n    <tr>\n      <th>97065</th>\n      <td>x_YWFkTcxEu1lo8Nlrog5A</td>\n      <td>Milk &amp; Honey Cafe</td>\n      <td>https://www.yelp.com/biz/milk-and-honey-cafe-b...</td>\n      <td>1202.0</td>\n      <td>4.0</td>\n      <td>40.634356735221,-73.9661046515558</td>\n      <td>$$</td>\n      <td>{'address1': '1119 Newkirk Ave', 'address2': '...</td>\n      <td>(718) 513-0441</td>\n      <td>NaN</td>\n      <td>outdoor_dining</td>\n      <td>40.634357</td>\n      <td>-73.966105</td>\n      <td>Brooklyn</td>\n      <td>NY</td>\n    </tr>\n    <tr>\n      <th>97066</th>\n      <td>1LIptXhtDh58vAA-QPFL4w</td>\n      <td>Cask</td>\n      <td>https://www.yelp.com/biz/cask-new-york-2?adjus...</td>\n      <td>1402.0</td>\n      <td>4.0</td>\n      <td>40.745414,-73.979004</td>\n      <td>$$</td>\n      <td>{'address1': '167 E 33rd St', 'address2': '', ...</td>\n      <td>(212) 300-4924</td>\n      <td>NaN</td>\n      <td>outdoor_dining</td>\n      <td>40.745414</td>\n      <td>-73.979004</td>\n      <td>New York</td>\n      <td>NY</td>\n    </tr>\n  </tbody>\n</table>\n<p>97067 rows × 15 columns</p>\n</div>"
     },
     "execution_count": 25,
     "metadata": {},
     "output_type": "execute_result"
    }
   ],
   "source": [
    "df['city'] = located_city_dict['city']\n",
    "df['state'] = located_city_dict['state']\n",
    "#df['citi_state'] = located_city_dict['citi_state']\n",
    "\n",
    "df"
   ],
   "metadata": {
    "collapsed": false,
    "pycharm": {
     "name": "#%%\n"
    }
   }
  },
  {
   "cell_type": "markdown",
   "source": [
    "### 4. 最终数据"
   ],
   "metadata": {
    "collapsed": false,
    "pycharm": {
     "name": "#%% md\n"
    }
   }
  },
  {
   "cell_type": "code",
   "execution_count": 26,
   "outputs": [
    {
     "data": {
      "text/plain": "                           id                          name  \\\n0      _njeaLgMzbaVT5VGUb_YTg                      40 North   \n1      HrlO_Hnmddw3DnVHHEyAnw              Sophia's Kitchen   \n2      TrtFUf8p_dHSXsEIcK2CLQ          Denino's Pizza Place   \n3      UYuWVp7tfj-eBbdji3AKgQ               The Mosa Social   \n4      z8pjbPvsPMQYk4QkjsPNsg        Armando's Mexican Food   \n...                       ...                           ...   \n97061  FcHFGi0cZLzeH2u7kNGJcg                    Fin & Fork   \n97062  2gFPQCmKKVi1aHgGTLRZvA               Green Eggs Cafe   \n97063  eprl1Skqygdl-iqWdrYGig  The Hidd'n Valley Restaurant   \n97064  lLeL7eqGWMzNCs7-380puA              Serra Restaurant   \n97065  eJab5373h0eZiOYnMPG4dg              Flavors of India   \n\n                                                     url  review_count  \\\n0      https://www.yelp.com/biz/40-north-austin?adjus...         260.0   \n1      https://www.yelp.com/biz/sophias-kitchen-az?ad...         431.0   \n2      https://www.yelp.com/biz/deninos-pizza-place-a...         279.0   \n3      https://www.yelp.com/biz/the-mosa-social-aberd...          29.0   \n4      https://www.yelp.com/biz/armandos-mexican-food...          74.0   \n...                                                  ...           ...   \n97061  https://www.yelp.com/biz/fin-and-fork-pensacol...         789.0   \n97062  https://www.yelp.com/biz/green-eggs-cafe-phila...         144.0   \n97063  https://www.yelp.com/biz/the-hiddn-valley-rest...           2.0   \n97064  https://www.yelp.com/biz/serra-restaurant-summ...          31.0   \n97065  https://www.yelp.com/biz/flavors-of-india-gilb...         441.0   \n\n       rating                            coordinates price  \\\n0         4.5                 30.2749757,-97.7517051    $$   \n1         4.5                  33.641432,-111.861684    $$   \n2         4.0   40.40006880066853,-74.22720613163922    $$   \n3         4.5                    40.39371,-74.223616   NaN   \n4         4.0       32.44990535326,-99.7533917427063     $   \n...       ...                                    ...   ...   \n97061     3.0                   30.417205,-87.202255    $$   \n97062     4.0                    39.95224,-75.169541    $$   \n97063     5.0                 40.2962573,-77.8745562     $   \n97064     4.0                     40.71751,-74.35667   NaN   \n97065     4.0  33.33504439999997,-111.77163996135755    $$   \n\n                                                location   display_phone  \\\n0      {'address1': '900 W 10th St', 'address2': None...  (512) 660-5779   \n1      {'address1': '17050 N Thompson Peak Pkwy', 'ad...  (480) 351-7160   \n2      {'address1': '1077 F Hwy 34', 'address2': '', ...  (732) 583-2150   \n3      {'address1': '1178 NJ-34', 'address2': None, '...  (732) 583-3565   \n4      {'address1': '2549 S 1st St', 'address2': '', ...  (325) 670-0977   \n...                                                  ...             ...   \n97061  {'address1': '601 E Gregory St', 'address2': '...  (850) 786-3675   \n97062  {'address1': '33 S 18th St', 'address2': None,...  (267) 687-8013   \n97063  {'address1': '17060 Croghan Pike', 'address2':...  (814) 447-3244   \n97064  {'address1': '10 Bank St', 'address2': None, '...  (908) 273-1713   \n97065  {'address1': '857 E Warner Rd', 'address2': 'S...  (602) 277-5546   \n\n       curbside_pickup  outdoor_dining   latitude   longitude  \\\n0      curbside_pickup             NaN  30.274976  -97.751705   \n1                  NaN  outdoor_dining  33.641432 -111.861684   \n2                  NaN  outdoor_dining  40.400069  -74.227206   \n3                  NaN  outdoor_dining  40.393710  -74.223616   \n4                  NaN  outdoor_dining  32.449905  -99.753392   \n...                ...             ...        ...         ...   \n97061              NaN  outdoor_dining  30.417205  -87.202255   \n97062              NaN  outdoor_dining  39.952240  -75.169541   \n97063              NaN  outdoor_dining  40.296257  -77.874556   \n97064  curbside_pickup             NaN  40.717510  -74.356670   \n97065              NaN  outdoor_dining  33.335044 -111.771640   \n\n                    city state  \n0                 AUSTIN    TX  \n1                     AZ    AZ  \n2               Aberdeen    NJ  \n3      Aberdeen Township    NJ  \n4                Abilene    TX  \n...                  ...   ...  \n97061          pensacola    FL  \n97062       philadelphia    PA  \n97063       shirleysburg    PA  \n97064             summit    NJ  \n97065           ​Gilbert    AZ  \n\n[97066 rows x 15 columns]",
      "text/html": "<div>\n<style scoped>\n    .dataframe tbody tr th:only-of-type {\n        vertical-align: middle;\n    }\n\n    .dataframe tbody tr th {\n        vertical-align: top;\n    }\n\n    .dataframe thead th {\n        text-align: right;\n    }\n</style>\n<table border=\"1\" class=\"dataframe\">\n  <thead>\n    <tr style=\"text-align: right;\">\n      <th></th>\n      <th>id</th>\n      <th>name</th>\n      <th>url</th>\n      <th>review_count</th>\n      <th>rating</th>\n      <th>coordinates</th>\n      <th>price</th>\n      <th>location</th>\n      <th>display_phone</th>\n      <th>curbside_pickup</th>\n      <th>outdoor_dining</th>\n      <th>latitude</th>\n      <th>longitude</th>\n      <th>city</th>\n      <th>state</th>\n    </tr>\n  </thead>\n  <tbody>\n    <tr>\n      <th>0</th>\n      <td>_njeaLgMzbaVT5VGUb_YTg</td>\n      <td>40 North</td>\n      <td>https://www.yelp.com/biz/40-north-austin?adjus...</td>\n      <td>260.0</td>\n      <td>4.5</td>\n      <td>30.2749757,-97.7517051</td>\n      <td>$$</td>\n      <td>{'address1': '900 W 10th St', 'address2': None...</td>\n      <td>(512) 660-5779</td>\n      <td>curbside_pickup</td>\n      <td>NaN</td>\n      <td>30.274976</td>\n      <td>-97.751705</td>\n      <td>AUSTIN</td>\n      <td>TX</td>\n    </tr>\n    <tr>\n      <th>1</th>\n      <td>HrlO_Hnmddw3DnVHHEyAnw</td>\n      <td>Sophia's Kitchen</td>\n      <td>https://www.yelp.com/biz/sophias-kitchen-az?ad...</td>\n      <td>431.0</td>\n      <td>4.5</td>\n      <td>33.641432,-111.861684</td>\n      <td>$$</td>\n      <td>{'address1': '17050 N Thompson Peak Pkwy', 'ad...</td>\n      <td>(480) 351-7160</td>\n      <td>NaN</td>\n      <td>outdoor_dining</td>\n      <td>33.641432</td>\n      <td>-111.861684</td>\n      <td>AZ</td>\n      <td>AZ</td>\n    </tr>\n    <tr>\n      <th>2</th>\n      <td>TrtFUf8p_dHSXsEIcK2CLQ</td>\n      <td>Denino's Pizza Place</td>\n      <td>https://www.yelp.com/biz/deninos-pizza-place-a...</td>\n      <td>279.0</td>\n      <td>4.0</td>\n      <td>40.40006880066853,-74.22720613163922</td>\n      <td>$$</td>\n      <td>{'address1': '1077 F Hwy 34', 'address2': '', ...</td>\n      <td>(732) 583-2150</td>\n      <td>NaN</td>\n      <td>outdoor_dining</td>\n      <td>40.400069</td>\n      <td>-74.227206</td>\n      <td>Aberdeen</td>\n      <td>NJ</td>\n    </tr>\n    <tr>\n      <th>3</th>\n      <td>UYuWVp7tfj-eBbdji3AKgQ</td>\n      <td>The Mosa Social</td>\n      <td>https://www.yelp.com/biz/the-mosa-social-aberd...</td>\n      <td>29.0</td>\n      <td>4.5</td>\n      <td>40.39371,-74.223616</td>\n      <td>NaN</td>\n      <td>{'address1': '1178 NJ-34', 'address2': None, '...</td>\n      <td>(732) 583-3565</td>\n      <td>NaN</td>\n      <td>outdoor_dining</td>\n      <td>40.393710</td>\n      <td>-74.223616</td>\n      <td>Aberdeen Township</td>\n      <td>NJ</td>\n    </tr>\n    <tr>\n      <th>4</th>\n      <td>z8pjbPvsPMQYk4QkjsPNsg</td>\n      <td>Armando's Mexican Food</td>\n      <td>https://www.yelp.com/biz/armandos-mexican-food...</td>\n      <td>74.0</td>\n      <td>4.0</td>\n      <td>32.44990535326,-99.7533917427063</td>\n      <td>$</td>\n      <td>{'address1': '2549 S 1st St', 'address2': '', ...</td>\n      <td>(325) 670-0977</td>\n      <td>NaN</td>\n      <td>outdoor_dining</td>\n      <td>32.449905</td>\n      <td>-99.753392</td>\n      <td>Abilene</td>\n      <td>TX</td>\n    </tr>\n    <tr>\n      <th>...</th>\n      <td>...</td>\n      <td>...</td>\n      <td>...</td>\n      <td>...</td>\n      <td>...</td>\n      <td>...</td>\n      <td>...</td>\n      <td>...</td>\n      <td>...</td>\n      <td>...</td>\n      <td>...</td>\n      <td>...</td>\n      <td>...</td>\n      <td>...</td>\n      <td>...</td>\n    </tr>\n    <tr>\n      <th>97061</th>\n      <td>FcHFGi0cZLzeH2u7kNGJcg</td>\n      <td>Fin &amp; Fork</td>\n      <td>https://www.yelp.com/biz/fin-and-fork-pensacol...</td>\n      <td>789.0</td>\n      <td>3.0</td>\n      <td>30.417205,-87.202255</td>\n      <td>$$</td>\n      <td>{'address1': '601 E Gregory St', 'address2': '...</td>\n      <td>(850) 786-3675</td>\n      <td>NaN</td>\n      <td>outdoor_dining</td>\n      <td>30.417205</td>\n      <td>-87.202255</td>\n      <td>pensacola</td>\n      <td>FL</td>\n    </tr>\n    <tr>\n      <th>97062</th>\n      <td>2gFPQCmKKVi1aHgGTLRZvA</td>\n      <td>Green Eggs Cafe</td>\n      <td>https://www.yelp.com/biz/green-eggs-cafe-phila...</td>\n      <td>144.0</td>\n      <td>4.0</td>\n      <td>39.95224,-75.169541</td>\n      <td>$$</td>\n      <td>{'address1': '33 S 18th St', 'address2': None,...</td>\n      <td>(267) 687-8013</td>\n      <td>NaN</td>\n      <td>outdoor_dining</td>\n      <td>39.952240</td>\n      <td>-75.169541</td>\n      <td>philadelphia</td>\n      <td>PA</td>\n    </tr>\n    <tr>\n      <th>97063</th>\n      <td>eprl1Skqygdl-iqWdrYGig</td>\n      <td>The Hidd'n Valley Restaurant</td>\n      <td>https://www.yelp.com/biz/the-hiddn-valley-rest...</td>\n      <td>2.0</td>\n      <td>5.0</td>\n      <td>40.2962573,-77.8745562</td>\n      <td>$</td>\n      <td>{'address1': '17060 Croghan Pike', 'address2':...</td>\n      <td>(814) 447-3244</td>\n      <td>NaN</td>\n      <td>outdoor_dining</td>\n      <td>40.296257</td>\n      <td>-77.874556</td>\n      <td>shirleysburg</td>\n      <td>PA</td>\n    </tr>\n    <tr>\n      <th>97064</th>\n      <td>lLeL7eqGWMzNCs7-380puA</td>\n      <td>Serra Restaurant</td>\n      <td>https://www.yelp.com/biz/serra-restaurant-summ...</td>\n      <td>31.0</td>\n      <td>4.0</td>\n      <td>40.71751,-74.35667</td>\n      <td>NaN</td>\n      <td>{'address1': '10 Bank St', 'address2': None, '...</td>\n      <td>(908) 273-1713</td>\n      <td>curbside_pickup</td>\n      <td>NaN</td>\n      <td>40.717510</td>\n      <td>-74.356670</td>\n      <td>summit</td>\n      <td>NJ</td>\n    </tr>\n    <tr>\n      <th>97065</th>\n      <td>eJab5373h0eZiOYnMPG4dg</td>\n      <td>Flavors of India</td>\n      <td>https://www.yelp.com/biz/flavors-of-india-gilb...</td>\n      <td>441.0</td>\n      <td>4.0</td>\n      <td>33.33504439999997,-111.77163996135755</td>\n      <td>$$</td>\n      <td>{'address1': '857 E Warner Rd', 'address2': 'S...</td>\n      <td>(602) 277-5546</td>\n      <td>NaN</td>\n      <td>outdoor_dining</td>\n      <td>33.335044</td>\n      <td>-111.771640</td>\n      <td>​Gilbert</td>\n      <td>AZ</td>\n    </tr>\n  </tbody>\n</table>\n<p>97066 rows × 15 columns</p>\n</div>"
     },
     "execution_count": 26,
     "metadata": {},
     "output_type": "execute_result"
    }
   ],
   "source": [
    "#删除无效列与行，重新设定索引\n",
    "shaped_df = df.copy().sort_values(by=['city'])\n",
    "shaped_df = shaped_df.iloc[1:,:]\n",
    "shaped_df = shaped_df.dropna(subset=['longitude', 'latitude'])\n",
    "\n",
    "shaped_df = shaped_df.reset_index()\n",
    "shaped_df = shaped_df.drop(columns=['index'])\n",
    "\n",
    "shaped_df\n",
    "#2b51wGTm_a8yhknEmBpZ4Q DESI FUSION"
   ],
   "metadata": {
    "collapsed": false,
    "pycharm": {
     "name": "#%%\n"
    }
   }
  },
  {
   "cell_type": "code",
   "execution_count": 27,
   "outputs": [
    {
     "data": {
      "text/plain": "Pizza Hut                          3219\nChick-fil-A                        1848\nMcDonald's                         1693\nPanera Bread                        922\nChili's                             682\n                                   ... \nThe Energy Spot                       1\nBar Louie - Greenwood Park Mall       1\nSassafras Tea Room                    1\nThe Suds Drive In                     1\nSerra Restaurant                      1\nName: name, Length: 63938, dtype: int64"
     },
     "execution_count": 27,
     "metadata": {},
     "output_type": "execute_result"
    }
   ],
   "source": [
    "#查看现有数据内品牌数量排序\n",
    "shaped_df['name'].value_counts()"
   ],
   "metadata": {
    "collapsed": false,
    "pycharm": {
     "name": "#%%\n"
    }
   }
  },
  {
   "cell_type": "code",
   "execution_count": 28,
   "outputs": [
    {
     "data": {
      "text/plain": "                           id                      cap_name  \\\n0      _njeaLgMzbaVT5VGUb_YTg                      40 North   \n1      HrlO_Hnmddw3DnVHHEyAnw              Sophia'S Kitchen   \n2      TrtFUf8p_dHSXsEIcK2CLQ          Denino'S Pizza Place   \n3      UYuWVp7tfj-eBbdji3AKgQ               The Mosa Social   \n4      z8pjbPvsPMQYk4QkjsPNsg        Armando'S Mexican Food   \n...                       ...                           ...   \n97061  FcHFGi0cZLzeH2u7kNGJcg                    Fin & Fork   \n97062  2gFPQCmKKVi1aHgGTLRZvA               Green Eggs Cafe   \n97063  eprl1Skqygdl-iqWdrYGig  The Hidd'N Valley Restaurant   \n97064  lLeL7eqGWMzNCs7-380puA              Serra Restaurant   \n97065  eJab5373h0eZiOYnMPG4dg              Flavors Of India   \n\n                    city state  review_count  rating price  \\\n0                 AUSTIN    TX         260.0     4.5    $$   \n1                     AZ    AZ         431.0     4.5    $$   \n2               Aberdeen    NJ         279.0     4.0    $$   \n3      Aberdeen Township    NJ          29.0     4.5   NaN   \n4                Abilene    TX          74.0     4.0     $   \n...                  ...   ...           ...     ...   ...   \n97061          pensacola    FL         789.0     3.0    $$   \n97062       philadelphia    PA         144.0     4.0    $$   \n97063       shirleysburg    PA           2.0     5.0     $   \n97064             summit    NJ          31.0     4.0   NaN   \n97065           ​Gilbert    AZ         441.0     4.0    $$   \n\n                                                location  curbside_pickup  \\\n0      {'address1': '900 W 10th St', 'address2': None...  curbside_pickup   \n1      {'address1': '17050 N Thompson Peak Pkwy', 'ad...              NaN   \n2      {'address1': '1077 F Hwy 34', 'address2': '', ...              NaN   \n3      {'address1': '1178 NJ-34', 'address2': None, '...              NaN   \n4      {'address1': '2549 S 1st St', 'address2': '', ...              NaN   \n...                                                  ...              ...   \n97061  {'address1': '601 E Gregory St', 'address2': '...              NaN   \n97062  {'address1': '33 S 18th St', 'address2': None,...              NaN   \n97063  {'address1': '17060 Croghan Pike', 'address2':...              NaN   \n97064  {'address1': '10 Bank St', 'address2': None, '...  curbside_pickup   \n97065  {'address1': '857 E Warner Rd', 'address2': 'S...              NaN   \n\n       outdoor_dining   latitude   longitude  \\\n0                 NaN  30.274976  -97.751705   \n1      outdoor_dining  33.641432 -111.861684   \n2      outdoor_dining  40.400069  -74.227206   \n3      outdoor_dining  40.393710  -74.223616   \n4      outdoor_dining  32.449905  -99.753392   \n...               ...        ...         ...   \n97061  outdoor_dining  30.417205  -87.202255   \n97062  outdoor_dining  39.952240  -75.169541   \n97063  outdoor_dining  40.296257  -77.874556   \n97064             NaN  40.717510  -74.356670   \n97065  outdoor_dining  33.335044 -111.771640   \n\n                                 coordinates  \\\n0                     30.2749757,-97.7517051   \n1                      33.641432,-111.861684   \n2       40.40006880066853,-74.22720613163922   \n3                        40.39371,-74.223616   \n4           32.44990535326,-99.7533917427063   \n...                                      ...   \n97061                   30.417205,-87.202255   \n97062                    39.95224,-75.169541   \n97063                 40.2962573,-77.8745562   \n97064                     40.71751,-74.35667   \n97065  33.33504439999997,-111.77163996135755   \n\n                                                     url   display_phone  \n0      https://www.yelp.com/biz/40-north-austin?adjus...  (512) 660-5779  \n1      https://www.yelp.com/biz/sophias-kitchen-az?ad...  (480) 351-7160  \n2      https://www.yelp.com/biz/deninos-pizza-place-a...  (732) 583-2150  \n3      https://www.yelp.com/biz/the-mosa-social-aberd...  (732) 583-3565  \n4      https://www.yelp.com/biz/armandos-mexican-food...  (325) 670-0977  \n...                                                  ...             ...  \n97061  https://www.yelp.com/biz/fin-and-fork-pensacol...  (850) 786-3675  \n97062  https://www.yelp.com/biz/green-eggs-cafe-phila...  (267) 687-8013  \n97063  https://www.yelp.com/biz/the-hiddn-valley-rest...  (814) 447-3244  \n97064  https://www.yelp.com/biz/serra-restaurant-summ...  (908) 273-1713  \n97065  https://www.yelp.com/biz/flavors-of-india-gilb...  (602) 277-5546  \n\n[97066 rows x 15 columns]",
      "text/html": "<div>\n<style scoped>\n    .dataframe tbody tr th:only-of-type {\n        vertical-align: middle;\n    }\n\n    .dataframe tbody tr th {\n        vertical-align: top;\n    }\n\n    .dataframe thead th {\n        text-align: right;\n    }\n</style>\n<table border=\"1\" class=\"dataframe\">\n  <thead>\n    <tr style=\"text-align: right;\">\n      <th></th>\n      <th>id</th>\n      <th>cap_name</th>\n      <th>city</th>\n      <th>state</th>\n      <th>review_count</th>\n      <th>rating</th>\n      <th>price</th>\n      <th>location</th>\n      <th>curbside_pickup</th>\n      <th>outdoor_dining</th>\n      <th>latitude</th>\n      <th>longitude</th>\n      <th>coordinates</th>\n      <th>url</th>\n      <th>display_phone</th>\n    </tr>\n  </thead>\n  <tbody>\n    <tr>\n      <th>0</th>\n      <td>_njeaLgMzbaVT5VGUb_YTg</td>\n      <td>40 North</td>\n      <td>AUSTIN</td>\n      <td>TX</td>\n      <td>260.0</td>\n      <td>4.5</td>\n      <td>$$</td>\n      <td>{'address1': '900 W 10th St', 'address2': None...</td>\n      <td>curbside_pickup</td>\n      <td>NaN</td>\n      <td>30.274976</td>\n      <td>-97.751705</td>\n      <td>30.2749757,-97.7517051</td>\n      <td>https://www.yelp.com/biz/40-north-austin?adjus...</td>\n      <td>(512) 660-5779</td>\n    </tr>\n    <tr>\n      <th>1</th>\n      <td>HrlO_Hnmddw3DnVHHEyAnw</td>\n      <td>Sophia'S Kitchen</td>\n      <td>AZ</td>\n      <td>AZ</td>\n      <td>431.0</td>\n      <td>4.5</td>\n      <td>$$</td>\n      <td>{'address1': '17050 N Thompson Peak Pkwy', 'ad...</td>\n      <td>NaN</td>\n      <td>outdoor_dining</td>\n      <td>33.641432</td>\n      <td>-111.861684</td>\n      <td>33.641432,-111.861684</td>\n      <td>https://www.yelp.com/biz/sophias-kitchen-az?ad...</td>\n      <td>(480) 351-7160</td>\n    </tr>\n    <tr>\n      <th>2</th>\n      <td>TrtFUf8p_dHSXsEIcK2CLQ</td>\n      <td>Denino'S Pizza Place</td>\n      <td>Aberdeen</td>\n      <td>NJ</td>\n      <td>279.0</td>\n      <td>4.0</td>\n      <td>$$</td>\n      <td>{'address1': '1077 F Hwy 34', 'address2': '', ...</td>\n      <td>NaN</td>\n      <td>outdoor_dining</td>\n      <td>40.400069</td>\n      <td>-74.227206</td>\n      <td>40.40006880066853,-74.22720613163922</td>\n      <td>https://www.yelp.com/biz/deninos-pizza-place-a...</td>\n      <td>(732) 583-2150</td>\n    </tr>\n    <tr>\n      <th>3</th>\n      <td>UYuWVp7tfj-eBbdji3AKgQ</td>\n      <td>The Mosa Social</td>\n      <td>Aberdeen Township</td>\n      <td>NJ</td>\n      <td>29.0</td>\n      <td>4.5</td>\n      <td>NaN</td>\n      <td>{'address1': '1178 NJ-34', 'address2': None, '...</td>\n      <td>NaN</td>\n      <td>outdoor_dining</td>\n      <td>40.393710</td>\n      <td>-74.223616</td>\n      <td>40.39371,-74.223616</td>\n      <td>https://www.yelp.com/biz/the-mosa-social-aberd...</td>\n      <td>(732) 583-3565</td>\n    </tr>\n    <tr>\n      <th>4</th>\n      <td>z8pjbPvsPMQYk4QkjsPNsg</td>\n      <td>Armando'S Mexican Food</td>\n      <td>Abilene</td>\n      <td>TX</td>\n      <td>74.0</td>\n      <td>4.0</td>\n      <td>$</td>\n      <td>{'address1': '2549 S 1st St', 'address2': '', ...</td>\n      <td>NaN</td>\n      <td>outdoor_dining</td>\n      <td>32.449905</td>\n      <td>-99.753392</td>\n      <td>32.44990535326,-99.7533917427063</td>\n      <td>https://www.yelp.com/biz/armandos-mexican-food...</td>\n      <td>(325) 670-0977</td>\n    </tr>\n    <tr>\n      <th>...</th>\n      <td>...</td>\n      <td>...</td>\n      <td>...</td>\n      <td>...</td>\n      <td>...</td>\n      <td>...</td>\n      <td>...</td>\n      <td>...</td>\n      <td>...</td>\n      <td>...</td>\n      <td>...</td>\n      <td>...</td>\n      <td>...</td>\n      <td>...</td>\n      <td>...</td>\n    </tr>\n    <tr>\n      <th>97061</th>\n      <td>FcHFGi0cZLzeH2u7kNGJcg</td>\n      <td>Fin &amp; Fork</td>\n      <td>pensacola</td>\n      <td>FL</td>\n      <td>789.0</td>\n      <td>3.0</td>\n      <td>$$</td>\n      <td>{'address1': '601 E Gregory St', 'address2': '...</td>\n      <td>NaN</td>\n      <td>outdoor_dining</td>\n      <td>30.417205</td>\n      <td>-87.202255</td>\n      <td>30.417205,-87.202255</td>\n      <td>https://www.yelp.com/biz/fin-and-fork-pensacol...</td>\n      <td>(850) 786-3675</td>\n    </tr>\n    <tr>\n      <th>97062</th>\n      <td>2gFPQCmKKVi1aHgGTLRZvA</td>\n      <td>Green Eggs Cafe</td>\n      <td>philadelphia</td>\n      <td>PA</td>\n      <td>144.0</td>\n      <td>4.0</td>\n      <td>$$</td>\n      <td>{'address1': '33 S 18th St', 'address2': None,...</td>\n      <td>NaN</td>\n      <td>outdoor_dining</td>\n      <td>39.952240</td>\n      <td>-75.169541</td>\n      <td>39.95224,-75.169541</td>\n      <td>https://www.yelp.com/biz/green-eggs-cafe-phila...</td>\n      <td>(267) 687-8013</td>\n    </tr>\n    <tr>\n      <th>97063</th>\n      <td>eprl1Skqygdl-iqWdrYGig</td>\n      <td>The Hidd'N Valley Restaurant</td>\n      <td>shirleysburg</td>\n      <td>PA</td>\n      <td>2.0</td>\n      <td>5.0</td>\n      <td>$</td>\n      <td>{'address1': '17060 Croghan Pike', 'address2':...</td>\n      <td>NaN</td>\n      <td>outdoor_dining</td>\n      <td>40.296257</td>\n      <td>-77.874556</td>\n      <td>40.2962573,-77.8745562</td>\n      <td>https://www.yelp.com/biz/the-hiddn-valley-rest...</td>\n      <td>(814) 447-3244</td>\n    </tr>\n    <tr>\n      <th>97064</th>\n      <td>lLeL7eqGWMzNCs7-380puA</td>\n      <td>Serra Restaurant</td>\n      <td>summit</td>\n      <td>NJ</td>\n      <td>31.0</td>\n      <td>4.0</td>\n      <td>NaN</td>\n      <td>{'address1': '10 Bank St', 'address2': None, '...</td>\n      <td>curbside_pickup</td>\n      <td>NaN</td>\n      <td>40.717510</td>\n      <td>-74.356670</td>\n      <td>40.71751,-74.35667</td>\n      <td>https://www.yelp.com/biz/serra-restaurant-summ...</td>\n      <td>(908) 273-1713</td>\n    </tr>\n    <tr>\n      <th>97065</th>\n      <td>eJab5373h0eZiOYnMPG4dg</td>\n      <td>Flavors Of India</td>\n      <td>​Gilbert</td>\n      <td>AZ</td>\n      <td>441.0</td>\n      <td>4.0</td>\n      <td>$$</td>\n      <td>{'address1': '857 E Warner Rd', 'address2': 'S...</td>\n      <td>NaN</td>\n      <td>outdoor_dining</td>\n      <td>33.335044</td>\n      <td>-111.771640</td>\n      <td>33.33504439999997,-111.77163996135755</td>\n      <td>https://www.yelp.com/biz/flavors-of-india-gilb...</td>\n      <td>(602) 277-5546</td>\n    </tr>\n  </tbody>\n</table>\n<p>97066 rows × 15 columns</p>\n</div>"
     },
     "execution_count": 28,
     "metadata": {},
     "output_type": "execute_result"
    }
   ],
   "source": [
    "#将品牌名大小写统一\n",
    "temp_dict = []\n",
    "for row in range(len(shaped_df['name'])):\n",
    "    append_dict = shaped_df['name'][row].title()\n",
    "    temp_dict.append(append_dict)\n",
    "cap_name_dict = pd.DataFrame(temp_dict)\n",
    "shaped_df['cap_name'] = cap_name_dict\n",
    "\n",
    "#调整列位置\n",
    "shaped_df.insert(1, 'cap_name', shaped_df.pop('cap_name'))\n",
    "shaped_df.insert(3, 'city', shaped_df.pop('city'))\n",
    "shaped_df.insert(4, 'state', shaped_df.pop('state'))\n",
    "\n",
    "shaped_df.insert(15, 'display_phone', shaped_df.pop('display_phone'))\n",
    "shaped_df.insert(14, 'url', shaped_df.pop('url'))\n",
    "shaped_df.insert(13, 'coordinates', shaped_df.pop('coordinates'))\n",
    "shaped_df.insert(12, 'longitude', shaped_df.pop('longitude'))\n",
    "shaped_df.insert(11, 'latitude', shaped_df.pop('latitude'))\n",
    "\n",
    "shaped_df = shaped_df.drop(columns=['name'])\n",
    "shaped_df"
   ],
   "metadata": {
    "collapsed": false,
    "pycharm": {
     "name": "#%%\n"
    }
   }
  },
  {
   "cell_type": "code",
   "execution_count": 29,
   "outputs": [
    {
     "data": {
      "text/plain": "Pizza Hut           3219\nChick-Fil-A         1852\nMcdonald'S          1693\nPanera Bread         922\nChili'S              682\n                    ... \nVino Villa             1\nBox Burger             1\nRevery                 1\nChicago Pizza          1\nSerra Restaurant       1\nName: cap_name, Length: 63725, dtype: int64"
     },
     "execution_count": 29,
     "metadata": {},
     "output_type": "execute_result"
    }
   ],
   "source": [
    "#通过统一大小写休整数据并查看休整后的品牌分布\n",
    "shaped_df['cap_name'].value_counts()"
   ],
   "metadata": {
    "collapsed": false,
    "pycharm": {
     "name": "#%%\n"
    }
   }
  },
  {
   "cell_type": "code",
   "execution_count": 31,
   "outputs": [
    {
     "data": {
      "text/plain": "                           id                         brand  \\\n0      _njeaLgMzbaVT5VGUb_YTg                      40 North   \n1      HrlO_Hnmddw3DnVHHEyAnw              Sophia'S Kitchen   \n2      TrtFUf8p_dHSXsEIcK2CLQ          Denino'S Pizza Place   \n3      UYuWVp7tfj-eBbdji3AKgQ               The Mosa Social   \n4      z8pjbPvsPMQYk4QkjsPNsg        Armando'S Mexican Food   \n...                       ...                           ...   \n97061  FcHFGi0cZLzeH2u7kNGJcg                    Fin & Fork   \n97062  2gFPQCmKKVi1aHgGTLRZvA               Green Eggs Cafe   \n97063  eprl1Skqygdl-iqWdrYGig  The Hidd'N Valley Restaurant   \n97064  lLeL7eqGWMzNCs7-380puA              Serra Restaurant   \n97065  eJab5373h0eZiOYnMPG4dg              Flavors Of India   \n\n                    city state  review_count  rating price  \\\n0                 AUSTIN    TX         260.0     4.5    $$   \n1                     AZ    AZ         431.0     4.5    $$   \n2               Aberdeen    NJ         279.0     4.0    $$   \n3      Aberdeen Township    NJ          29.0     4.5   NaN   \n4                Abilene    TX          74.0     4.0     $   \n...                  ...   ...           ...     ...   ...   \n97061          pensacola    FL         789.0     3.0    $$   \n97062       philadelphia    PA         144.0     4.0    $$   \n97063       shirleysburg    PA           2.0     5.0     $   \n97064             summit    NJ          31.0     4.0   NaN   \n97065           ​Gilbert    AZ         441.0     4.0    $$   \n\n                                                location  curbside_pickup  \\\n0      {'address1': '900 W 10th St', 'address2': None...  curbside_pickup   \n1      {'address1': '17050 N Thompson Peak Pkwy', 'ad...              NaN   \n2      {'address1': '1077 F Hwy 34', 'address2': '', ...              NaN   \n3      {'address1': '1178 NJ-34', 'address2': None, '...              NaN   \n4      {'address1': '2549 S 1st St', 'address2': '', ...              NaN   \n...                                                  ...              ...   \n97061  {'address1': '601 E Gregory St', 'address2': '...              NaN   \n97062  {'address1': '33 S 18th St', 'address2': None,...              NaN   \n97063  {'address1': '17060 Croghan Pike', 'address2':...              NaN   \n97064  {'address1': '10 Bank St', 'address2': None, '...  curbside_pickup   \n97065  {'address1': '857 E Warner Rd', 'address2': 'S...              NaN   \n\n       outdoor_dining   latitude   longitude  \\\n0                 NaN  30.274976  -97.751705   \n1      outdoor_dining  33.641432 -111.861684   \n2      outdoor_dining  40.400069  -74.227206   \n3      outdoor_dining  40.393710  -74.223616   \n4      outdoor_dining  32.449905  -99.753392   \n...               ...        ...         ...   \n97061  outdoor_dining  30.417205  -87.202255   \n97062  outdoor_dining  39.952240  -75.169541   \n97063  outdoor_dining  40.296257  -77.874556   \n97064             NaN  40.717510  -74.356670   \n97065  outdoor_dining  33.335044 -111.771640   \n\n                                 coordinates  \\\n0                     30.2749757,-97.7517051   \n1                      33.641432,-111.861684   \n2       40.40006880066853,-74.22720613163922   \n3                        40.39371,-74.223616   \n4           32.44990535326,-99.7533917427063   \n...                                      ...   \n97061                   30.417205,-87.202255   \n97062                    39.95224,-75.169541   \n97063                 40.2962573,-77.8745562   \n97064                     40.71751,-74.35667   \n97065  33.33504439999997,-111.77163996135755   \n\n                                                     url   display_phone  \\\n0      https://www.yelp.com/biz/40-north-austin?adjus...  (512) 660-5779   \n1      https://www.yelp.com/biz/sophias-kitchen-az?ad...  (480) 351-7160   \n2      https://www.yelp.com/biz/deninos-pizza-place-a...  (732) 583-2150   \n3      https://www.yelp.com/biz/the-mosa-social-aberd...  (732) 583-3565   \n4      https://www.yelp.com/biz/armandos-mexican-food...  (325) 670-0977   \n...                                                  ...             ...   \n97061  https://www.yelp.com/biz/fin-and-fork-pensacol...  (850) 786-3675   \n97062  https://www.yelp.com/biz/green-eggs-cafe-phila...  (267) 687-8013   \n97063  https://www.yelp.com/biz/the-hiddn-valley-rest...  (814) 447-3244   \n97064  https://www.yelp.com/biz/serra-restaurant-summ...  (908) 273-1713   \n97065  https://www.yelp.com/biz/flavors-of-india-gilb...  (602) 277-5546   \n\n                           cap_name  \n0                          40 North  \n1                  Sophia'S Kitchen  \n2              Denino'S Pizza Place  \n3                   The Mosa Social  \n4            Armando'S Mexican Food  \n...                             ...  \n97061                    Fin & Fork  \n97062               Green Eggs Cafe  \n97063  The Hidd'N Valley Restaurant  \n97064              Serra Restaurant  \n97065              Flavors Of India  \n\n[97066 rows x 16 columns]",
      "text/html": "<div>\n<style scoped>\n    .dataframe tbody tr th:only-of-type {\n        vertical-align: middle;\n    }\n\n    .dataframe tbody tr th {\n        vertical-align: top;\n    }\n\n    .dataframe thead th {\n        text-align: right;\n    }\n</style>\n<table border=\"1\" class=\"dataframe\">\n  <thead>\n    <tr style=\"text-align: right;\">\n      <th></th>\n      <th>id</th>\n      <th>brand</th>\n      <th>city</th>\n      <th>state</th>\n      <th>review_count</th>\n      <th>rating</th>\n      <th>price</th>\n      <th>location</th>\n      <th>curbside_pickup</th>\n      <th>outdoor_dining</th>\n      <th>latitude</th>\n      <th>longitude</th>\n      <th>coordinates</th>\n      <th>url</th>\n      <th>display_phone</th>\n      <th>cap_name</th>\n    </tr>\n  </thead>\n  <tbody>\n    <tr>\n      <th>0</th>\n      <td>_njeaLgMzbaVT5VGUb_YTg</td>\n      <td>40 North</td>\n      <td>AUSTIN</td>\n      <td>TX</td>\n      <td>260.0</td>\n      <td>4.5</td>\n      <td>$$</td>\n      <td>{'address1': '900 W 10th St', 'address2': None...</td>\n      <td>curbside_pickup</td>\n      <td>NaN</td>\n      <td>30.274976</td>\n      <td>-97.751705</td>\n      <td>30.2749757,-97.7517051</td>\n      <td>https://www.yelp.com/biz/40-north-austin?adjus...</td>\n      <td>(512) 660-5779</td>\n      <td>40 North</td>\n    </tr>\n    <tr>\n      <th>1</th>\n      <td>HrlO_Hnmddw3DnVHHEyAnw</td>\n      <td>Sophia'S Kitchen</td>\n      <td>AZ</td>\n      <td>AZ</td>\n      <td>431.0</td>\n      <td>4.5</td>\n      <td>$$</td>\n      <td>{'address1': '17050 N Thompson Peak Pkwy', 'ad...</td>\n      <td>NaN</td>\n      <td>outdoor_dining</td>\n      <td>33.641432</td>\n      <td>-111.861684</td>\n      <td>33.641432,-111.861684</td>\n      <td>https://www.yelp.com/biz/sophias-kitchen-az?ad...</td>\n      <td>(480) 351-7160</td>\n      <td>Sophia'S Kitchen</td>\n    </tr>\n    <tr>\n      <th>2</th>\n      <td>TrtFUf8p_dHSXsEIcK2CLQ</td>\n      <td>Denino'S Pizza Place</td>\n      <td>Aberdeen</td>\n      <td>NJ</td>\n      <td>279.0</td>\n      <td>4.0</td>\n      <td>$$</td>\n      <td>{'address1': '1077 F Hwy 34', 'address2': '', ...</td>\n      <td>NaN</td>\n      <td>outdoor_dining</td>\n      <td>40.400069</td>\n      <td>-74.227206</td>\n      <td>40.40006880066853,-74.22720613163922</td>\n      <td>https://www.yelp.com/biz/deninos-pizza-place-a...</td>\n      <td>(732) 583-2150</td>\n      <td>Denino'S Pizza Place</td>\n    </tr>\n    <tr>\n      <th>3</th>\n      <td>UYuWVp7tfj-eBbdji3AKgQ</td>\n      <td>The Mosa Social</td>\n      <td>Aberdeen Township</td>\n      <td>NJ</td>\n      <td>29.0</td>\n      <td>4.5</td>\n      <td>NaN</td>\n      <td>{'address1': '1178 NJ-34', 'address2': None, '...</td>\n      <td>NaN</td>\n      <td>outdoor_dining</td>\n      <td>40.393710</td>\n      <td>-74.223616</td>\n      <td>40.39371,-74.223616</td>\n      <td>https://www.yelp.com/biz/the-mosa-social-aberd...</td>\n      <td>(732) 583-3565</td>\n      <td>The Mosa Social</td>\n    </tr>\n    <tr>\n      <th>4</th>\n      <td>z8pjbPvsPMQYk4QkjsPNsg</td>\n      <td>Armando'S Mexican Food</td>\n      <td>Abilene</td>\n      <td>TX</td>\n      <td>74.0</td>\n      <td>4.0</td>\n      <td>$</td>\n      <td>{'address1': '2549 S 1st St', 'address2': '', ...</td>\n      <td>NaN</td>\n      <td>outdoor_dining</td>\n      <td>32.449905</td>\n      <td>-99.753392</td>\n      <td>32.44990535326,-99.7533917427063</td>\n      <td>https://www.yelp.com/biz/armandos-mexican-food...</td>\n      <td>(325) 670-0977</td>\n      <td>Armando'S Mexican Food</td>\n    </tr>\n    <tr>\n      <th>...</th>\n      <td>...</td>\n      <td>...</td>\n      <td>...</td>\n      <td>...</td>\n      <td>...</td>\n      <td>...</td>\n      <td>...</td>\n      <td>...</td>\n      <td>...</td>\n      <td>...</td>\n      <td>...</td>\n      <td>...</td>\n      <td>...</td>\n      <td>...</td>\n      <td>...</td>\n      <td>...</td>\n    </tr>\n    <tr>\n      <th>97061</th>\n      <td>FcHFGi0cZLzeH2u7kNGJcg</td>\n      <td>Fin &amp; Fork</td>\n      <td>pensacola</td>\n      <td>FL</td>\n      <td>789.0</td>\n      <td>3.0</td>\n      <td>$$</td>\n      <td>{'address1': '601 E Gregory St', 'address2': '...</td>\n      <td>NaN</td>\n      <td>outdoor_dining</td>\n      <td>30.417205</td>\n      <td>-87.202255</td>\n      <td>30.417205,-87.202255</td>\n      <td>https://www.yelp.com/biz/fin-and-fork-pensacol...</td>\n      <td>(850) 786-3675</td>\n      <td>Fin &amp; Fork</td>\n    </tr>\n    <tr>\n      <th>97062</th>\n      <td>2gFPQCmKKVi1aHgGTLRZvA</td>\n      <td>Green Eggs Cafe</td>\n      <td>philadelphia</td>\n      <td>PA</td>\n      <td>144.0</td>\n      <td>4.0</td>\n      <td>$$</td>\n      <td>{'address1': '33 S 18th St', 'address2': None,...</td>\n      <td>NaN</td>\n      <td>outdoor_dining</td>\n      <td>39.952240</td>\n      <td>-75.169541</td>\n      <td>39.95224,-75.169541</td>\n      <td>https://www.yelp.com/biz/green-eggs-cafe-phila...</td>\n      <td>(267) 687-8013</td>\n      <td>Green Eggs Cafe</td>\n    </tr>\n    <tr>\n      <th>97063</th>\n      <td>eprl1Skqygdl-iqWdrYGig</td>\n      <td>The Hidd'N Valley Restaurant</td>\n      <td>shirleysburg</td>\n      <td>PA</td>\n      <td>2.0</td>\n      <td>5.0</td>\n      <td>$</td>\n      <td>{'address1': '17060 Croghan Pike', 'address2':...</td>\n      <td>NaN</td>\n      <td>outdoor_dining</td>\n      <td>40.296257</td>\n      <td>-77.874556</td>\n      <td>40.2962573,-77.8745562</td>\n      <td>https://www.yelp.com/biz/the-hiddn-valley-rest...</td>\n      <td>(814) 447-3244</td>\n      <td>The Hidd'N Valley Restaurant</td>\n    </tr>\n    <tr>\n      <th>97064</th>\n      <td>lLeL7eqGWMzNCs7-380puA</td>\n      <td>Serra Restaurant</td>\n      <td>summit</td>\n      <td>NJ</td>\n      <td>31.0</td>\n      <td>4.0</td>\n      <td>NaN</td>\n      <td>{'address1': '10 Bank St', 'address2': None, '...</td>\n      <td>curbside_pickup</td>\n      <td>NaN</td>\n      <td>40.717510</td>\n      <td>-74.356670</td>\n      <td>40.71751,-74.35667</td>\n      <td>https://www.yelp.com/biz/serra-restaurant-summ...</td>\n      <td>(908) 273-1713</td>\n      <td>Serra Restaurant</td>\n    </tr>\n    <tr>\n      <th>97065</th>\n      <td>eJab5373h0eZiOYnMPG4dg</td>\n      <td>Flavors Of India</td>\n      <td>​Gilbert</td>\n      <td>AZ</td>\n      <td>441.0</td>\n      <td>4.0</td>\n      <td>$$</td>\n      <td>{'address1': '857 E Warner Rd', 'address2': 'S...</td>\n      <td>NaN</td>\n      <td>outdoor_dining</td>\n      <td>33.335044</td>\n      <td>-111.771640</td>\n      <td>33.33504439999997,-111.77163996135755</td>\n      <td>https://www.yelp.com/biz/flavors-of-india-gilb...</td>\n      <td>(602) 277-5546</td>\n      <td>Flavors Of India</td>\n    </tr>\n  </tbody>\n</table>\n<p>97066 rows × 16 columns</p>\n</div>"
     },
     "execution_count": 31,
     "metadata": {},
     "output_type": "execute_result"
    }
   ],
   "source": [
    "#去除品牌名中的地点标签\n",
    "name_split = shaped_df['cap_name'].str.split(' - ',expand = True)\n",
    "shaped_df['brand'] = name_split[0]\n",
    "shaped_df.insert(1, 'brand', shaped_df.pop('brand'))\n",
    "shaped_df.insert(15, 'cap_name', shaped_df.pop('cap_name'))\n",
    "\n",
    "shaped_df"
   ],
   "metadata": {
    "collapsed": false,
    "pycharm": {
     "name": "#%%\n"
    }
   }
  },
  {
   "cell_type": "code",
   "execution_count": 46,
   "outputs": [],
   "source": [
    "#去除经纬度定位在美国以外的门店\n",
    "shaped_df = shaped_df.sort_values(by=['longitude'], ascending= False)\n",
    "shaped_df = shaped_df.iloc[2:,:]\n",
    "\n",
    "#重设索引\n",
    "shaped_df = shaped_df.sort_values(by=['review_count'], ascending= False)\n",
    "shaped_df = shaped_df.reset_index()\n",
    "shaped_df = shaped_df.drop(columns=['index'])"
   ],
   "metadata": {
    "collapsed": false,
    "pycharm": {
     "name": "#%%\n"
    }
   }
  },
  {
   "cell_type": "code",
   "execution_count": 47,
   "outputs": [
    {
     "data": {
      "text/plain": "                           id                            brand  \\\n0      TkFEKhsCixPWlShULKvMdQ                    Bottega Louie   \n1      eGhOLzFFIhrvF6QjSSpJsg                       Phil'S Bbq   \n2      VA8aPObRynlwR1TGzbzraQ                 Founding Farmers   \n3      lJAGnYzku5zSaLnQ_T6_GQ        Brenda'S French Soul Food   \n4      o3edBEVjRcYJnQWrSFd9Bg                    Marugame Udon   \n...                       ...                              ...   \n97055  RprYwC4qzv3GncHdJPHq6A                        Pizza Hut   \n97056  vrAAU6QJLnZsAadZlFpiCg                       Cuco Lindo   \n97057  lM9tcHuT54QjotRXbt12kA  St Marys Seafood & More Express   \n97058  OqYH4qLR0StHrxnOSyFHcQ                        Giuseppis   \n97059  7-GQjYBd8Qeyy9q-4eK10Q     Escape Restaurant And Lounge   \n\n                 city state  review_count  rating price  \\\n0         Los Angeles    CA       17144.0     4.0    $$   \n1           San Diego    CA       14891.0     4.5    $$   \n2      Washington, DC    DC       14666.0     4.0    $$   \n3       San Francisco    CA       11468.0     4.0    $$   \n4            Honolulu    HI       11077.0     4.5     $   \n...               ...   ...           ...     ...   ...   \n97055     Springfield    MO           1.0     1.0   NaN   \n97056         Houston    TX           1.0     5.0   NaN   \n97057    Jacksonville    FL           1.0     3.0   NaN   \n97058         Tijuana   BCN           1.0     5.0    $$   \n97059      Lauderhill    FL           1.0     4.0    $$   \n\n                                                location  curbside_pickup  \\\n0      {'address1': '700 S Grand Ave', 'address2': No...  curbside_pickup   \n1      {'address1': '3750 Sports Arena Blvd', 'addres...  curbside_pickup   \n2      {'address1': '1924 Pennsylvania Ave NW', 'addr...  curbside_pickup   \n3      {'address1': '652 Polk St', 'address2': '', 'a...              NaN   \n4      {'address1': '2310 Kuhio Ave', 'address2': 'St...  curbside_pickup   \n...                                                  ...              ...   \n97055  {'address1': '1440 E Kearney St', 'address2': ...  curbside_pickup   \n97056  {'address1': '7433 Canal St', 'address2': None...              NaN   \n97057  {'address1': '2116 Talleyrand Ave', 'address2'...              NaN   \n97058  {'address1': 'Blvd. Lázaro Cárdenas 17102', 'a...              NaN   \n97059  {'address1': '1451 NW 31st Ave', 'address2': N...              NaN   \n\n       outdoor_dining   latitude   longitude  \\\n0                 NaN  34.047056 -118.256544   \n1      outdoor_dining  32.754779 -117.215988   \n2      outdoor_dining  38.900397  -77.044660   \n3      outdoor_dining  37.782902 -122.419043   \n4                 NaN  21.279607 -157.825833   \n...               ...        ...         ...   \n97055             NaN  37.239664  -93.268612   \n97056  outdoor_dining  29.737096  -95.291260   \n97057  outdoor_dining  30.350468  -81.626297   \n97058  outdoor_dining  32.531396 -116.948135   \n97059  outdoor_dining  26.144220  -80.187286   \n\n                                coordinates  \\\n0                     34.047056,-118.256544   \n1         32.7547792020658,-117.21598848605   \n2      38.90039726470812,-77.04465954281389   \n3        37.7829016035273,-122.419043442957   \n4      21.2796073993372,-157.82583338341013   \n...                                     ...   \n97055                37.2396643,-93.2686124   \n97056  29.73709614649594,-95.29125967295404   \n97057                  30.350468,-81.626297   \n97058    32.5313958224379,-116.948134715719   \n97059                   26.14422,-80.187286   \n\n                                                     url     display_phone  \\\n0      https://www.yelp.com/biz/bottega-louie-los-ang...    (213) 802-1470   \n1      https://www.yelp.com/biz/phils-bbq-san-diego-2...    (619) 226-6333   \n2      https://www.yelp.com/biz/founding-farmers-wash...    (202) 822-8783   \n3      https://www.yelp.com/biz/brendas-french-soul-f...    (415) 345-8100   \n4      https://www.yelp.com/biz/marugame-udon-waikiki...               NaN   \n...                                                  ...               ...   \n97055  https://www.yelp.com/biz/pizza-hut-springfield...    (417) 869-0234   \n97056  https://www.yelp.com/biz/cuco-lindo-houston-3?...    (713) 921-2176   \n97057  https://www.yelp.com/biz/st-marys-seafood-and-...    (904) 379-2065   \n97058  https://www.yelp.com/biz/giuseppis-tijuana-6?a...  +52 664 623 1962   \n97059  https://www.yelp.com/biz/escape-restaurant-and...    (954) 451-3421   \n\n                              cap_name  \n0                        Bottega Louie  \n1                           Phil'S Bbq  \n2        Founding Farmers - Washington  \n3            Brenda'S French Soul Food  \n4              Marugame Udon - Waikiki  \n...                                ...  \n97055                        Pizza Hut  \n97056                       Cuco Lindo  \n97057  St Marys Seafood & More Express  \n97058                        Giuseppis  \n97059     Escape Restaurant And Lounge  \n\n[97060 rows x 16 columns]",
      "text/html": "<div>\n<style scoped>\n    .dataframe tbody tr th:only-of-type {\n        vertical-align: middle;\n    }\n\n    .dataframe tbody tr th {\n        vertical-align: top;\n    }\n\n    .dataframe thead th {\n        text-align: right;\n    }\n</style>\n<table border=\"1\" class=\"dataframe\">\n  <thead>\n    <tr style=\"text-align: right;\">\n      <th></th>\n      <th>id</th>\n      <th>brand</th>\n      <th>city</th>\n      <th>state</th>\n      <th>review_count</th>\n      <th>rating</th>\n      <th>price</th>\n      <th>location</th>\n      <th>curbside_pickup</th>\n      <th>outdoor_dining</th>\n      <th>latitude</th>\n      <th>longitude</th>\n      <th>coordinates</th>\n      <th>url</th>\n      <th>display_phone</th>\n      <th>cap_name</th>\n    </tr>\n  </thead>\n  <tbody>\n    <tr>\n      <th>0</th>\n      <td>TkFEKhsCixPWlShULKvMdQ</td>\n      <td>Bottega Louie</td>\n      <td>Los Angeles</td>\n      <td>CA</td>\n      <td>17144.0</td>\n      <td>4.0</td>\n      <td>$$</td>\n      <td>{'address1': '700 S Grand Ave', 'address2': No...</td>\n      <td>curbside_pickup</td>\n      <td>NaN</td>\n      <td>34.047056</td>\n      <td>-118.256544</td>\n      <td>34.047056,-118.256544</td>\n      <td>https://www.yelp.com/biz/bottega-louie-los-ang...</td>\n      <td>(213) 802-1470</td>\n      <td>Bottega Louie</td>\n    </tr>\n    <tr>\n      <th>1</th>\n      <td>eGhOLzFFIhrvF6QjSSpJsg</td>\n      <td>Phil'S Bbq</td>\n      <td>San Diego</td>\n      <td>CA</td>\n      <td>14891.0</td>\n      <td>4.5</td>\n      <td>$$</td>\n      <td>{'address1': '3750 Sports Arena Blvd', 'addres...</td>\n      <td>curbside_pickup</td>\n      <td>outdoor_dining</td>\n      <td>32.754779</td>\n      <td>-117.215988</td>\n      <td>32.7547792020658,-117.21598848605</td>\n      <td>https://www.yelp.com/biz/phils-bbq-san-diego-2...</td>\n      <td>(619) 226-6333</td>\n      <td>Phil'S Bbq</td>\n    </tr>\n    <tr>\n      <th>2</th>\n      <td>VA8aPObRynlwR1TGzbzraQ</td>\n      <td>Founding Farmers</td>\n      <td>Washington, DC</td>\n      <td>DC</td>\n      <td>14666.0</td>\n      <td>4.0</td>\n      <td>$$</td>\n      <td>{'address1': '1924 Pennsylvania Ave NW', 'addr...</td>\n      <td>curbside_pickup</td>\n      <td>outdoor_dining</td>\n      <td>38.900397</td>\n      <td>-77.044660</td>\n      <td>38.90039726470812,-77.04465954281389</td>\n      <td>https://www.yelp.com/biz/founding-farmers-wash...</td>\n      <td>(202) 822-8783</td>\n      <td>Founding Farmers - Washington</td>\n    </tr>\n    <tr>\n      <th>3</th>\n      <td>lJAGnYzku5zSaLnQ_T6_GQ</td>\n      <td>Brenda'S French Soul Food</td>\n      <td>San Francisco</td>\n      <td>CA</td>\n      <td>11468.0</td>\n      <td>4.0</td>\n      <td>$$</td>\n      <td>{'address1': '652 Polk St', 'address2': '', 'a...</td>\n      <td>NaN</td>\n      <td>outdoor_dining</td>\n      <td>37.782902</td>\n      <td>-122.419043</td>\n      <td>37.7829016035273,-122.419043442957</td>\n      <td>https://www.yelp.com/biz/brendas-french-soul-f...</td>\n      <td>(415) 345-8100</td>\n      <td>Brenda'S French Soul Food</td>\n    </tr>\n    <tr>\n      <th>4</th>\n      <td>o3edBEVjRcYJnQWrSFd9Bg</td>\n      <td>Marugame Udon</td>\n      <td>Honolulu</td>\n      <td>HI</td>\n      <td>11077.0</td>\n      <td>4.5</td>\n      <td>$</td>\n      <td>{'address1': '2310 Kuhio Ave', 'address2': 'St...</td>\n      <td>curbside_pickup</td>\n      <td>NaN</td>\n      <td>21.279607</td>\n      <td>-157.825833</td>\n      <td>21.2796073993372,-157.82583338341013</td>\n      <td>https://www.yelp.com/biz/marugame-udon-waikiki...</td>\n      <td>NaN</td>\n      <td>Marugame Udon - Waikiki</td>\n    </tr>\n    <tr>\n      <th>...</th>\n      <td>...</td>\n      <td>...</td>\n      <td>...</td>\n      <td>...</td>\n      <td>...</td>\n      <td>...</td>\n      <td>...</td>\n      <td>...</td>\n      <td>...</td>\n      <td>...</td>\n      <td>...</td>\n      <td>...</td>\n      <td>...</td>\n      <td>...</td>\n      <td>...</td>\n      <td>...</td>\n    </tr>\n    <tr>\n      <th>97055</th>\n      <td>RprYwC4qzv3GncHdJPHq6A</td>\n      <td>Pizza Hut</td>\n      <td>Springfield</td>\n      <td>MO</td>\n      <td>1.0</td>\n      <td>1.0</td>\n      <td>NaN</td>\n      <td>{'address1': '1440 E Kearney St', 'address2': ...</td>\n      <td>curbside_pickup</td>\n      <td>NaN</td>\n      <td>37.239664</td>\n      <td>-93.268612</td>\n      <td>37.2396643,-93.2686124</td>\n      <td>https://www.yelp.com/biz/pizza-hut-springfield...</td>\n      <td>(417) 869-0234</td>\n      <td>Pizza Hut</td>\n    </tr>\n    <tr>\n      <th>97056</th>\n      <td>vrAAU6QJLnZsAadZlFpiCg</td>\n      <td>Cuco Lindo</td>\n      <td>Houston</td>\n      <td>TX</td>\n      <td>1.0</td>\n      <td>5.0</td>\n      <td>NaN</td>\n      <td>{'address1': '7433 Canal St', 'address2': None...</td>\n      <td>NaN</td>\n      <td>outdoor_dining</td>\n      <td>29.737096</td>\n      <td>-95.291260</td>\n      <td>29.73709614649594,-95.29125967295404</td>\n      <td>https://www.yelp.com/biz/cuco-lindo-houston-3?...</td>\n      <td>(713) 921-2176</td>\n      <td>Cuco Lindo</td>\n    </tr>\n    <tr>\n      <th>97057</th>\n      <td>lM9tcHuT54QjotRXbt12kA</td>\n      <td>St Marys Seafood &amp; More Express</td>\n      <td>Jacksonville</td>\n      <td>FL</td>\n      <td>1.0</td>\n      <td>3.0</td>\n      <td>NaN</td>\n      <td>{'address1': '2116 Talleyrand Ave', 'address2'...</td>\n      <td>NaN</td>\n      <td>outdoor_dining</td>\n      <td>30.350468</td>\n      <td>-81.626297</td>\n      <td>30.350468,-81.626297</td>\n      <td>https://www.yelp.com/biz/st-marys-seafood-and-...</td>\n      <td>(904) 379-2065</td>\n      <td>St Marys Seafood &amp; More Express</td>\n    </tr>\n    <tr>\n      <th>97058</th>\n      <td>OqYH4qLR0StHrxnOSyFHcQ</td>\n      <td>Giuseppis</td>\n      <td>Tijuana</td>\n      <td>BCN</td>\n      <td>1.0</td>\n      <td>5.0</td>\n      <td>$$</td>\n      <td>{'address1': 'Blvd. Lázaro Cárdenas 17102', 'a...</td>\n      <td>NaN</td>\n      <td>outdoor_dining</td>\n      <td>32.531396</td>\n      <td>-116.948135</td>\n      <td>32.5313958224379,-116.948134715719</td>\n      <td>https://www.yelp.com/biz/giuseppis-tijuana-6?a...</td>\n      <td>+52 664 623 1962</td>\n      <td>Giuseppis</td>\n    </tr>\n    <tr>\n      <th>97059</th>\n      <td>7-GQjYBd8Qeyy9q-4eK10Q</td>\n      <td>Escape Restaurant And Lounge</td>\n      <td>Lauderhill</td>\n      <td>FL</td>\n      <td>1.0</td>\n      <td>4.0</td>\n      <td>$$</td>\n      <td>{'address1': '1451 NW 31st Ave', 'address2': N...</td>\n      <td>NaN</td>\n      <td>outdoor_dining</td>\n      <td>26.144220</td>\n      <td>-80.187286</td>\n      <td>26.14422,-80.187286</td>\n      <td>https://www.yelp.com/biz/escape-restaurant-and...</td>\n      <td>(954) 451-3421</td>\n      <td>Escape Restaurant And Lounge</td>\n    </tr>\n  </tbody>\n</table>\n<p>97060 rows × 16 columns</p>\n</div>"
     },
     "execution_count": 47,
     "metadata": {},
     "output_type": "execute_result"
    }
   ],
   "source": [
    "shaped_df"
   ],
   "metadata": {
    "collapsed": false,
    "pycharm": {
     "name": "#%%\n"
    }
   }
  },
  {
   "cell_type": "code",
   "execution_count": 48,
   "outputs": [
    {
     "data": {
      "text/plain": "Pizza Hut                       3218\nChick-Fil-A                     1854\nMcdonald'S                      1694\nPanera Bread                     922\nChili'S                          684\n                                ... \nCity Pizza Italian Cuisine         1\nSazza Pizza + Salads               1\nMega Hot Chicken                   1\nRanch Side Cafe                    1\nEscape Restaurant And Lounge       1\nName: brand, Length: 61162, dtype: int64"
     },
     "execution_count": 48,
     "metadata": {},
     "output_type": "execute_result"
    }
   ],
   "source": [
    "#去除店名标签后的品牌分布\n",
    "shaped_df['brand'].value_counts()"
   ],
   "metadata": {
    "collapsed": false,
    "pycharm": {
     "name": "#%%\n"
    }
   }
  },
  {
   "cell_type": "code",
   "execution_count": 49,
   "outputs": [
    {
     "data": {
      "text/plain": "                data_type  null_count  unique_count\nid                 object           0         96925\nbrand              object           0         61162\ncity               object           0          4857\nstate              object           0            55\nreview_count      float64           0          2723\nrating            float64           0             9\nprice              object       12366             4\nlocation           object           0         96218\ncurbside_pickup    object       53840             1\noutdoor_dining     object       32105             1\nlatitude          float64           0         96063\nlongitude         float64           0         96130\ncoordinates        object           0         96619\nurl                object           0         97047\ndisplay_phone      object        1323         94750\ncap_name           object           0         63720",
      "text/html": "<div>\n<style scoped>\n    .dataframe tbody tr th:only-of-type {\n        vertical-align: middle;\n    }\n\n    .dataframe tbody tr th {\n        vertical-align: top;\n    }\n\n    .dataframe thead th {\n        text-align: right;\n    }\n</style>\n<table border=\"1\" class=\"dataframe\">\n  <thead>\n    <tr style=\"text-align: right;\">\n      <th></th>\n      <th>data_type</th>\n      <th>null_count</th>\n      <th>unique_count</th>\n    </tr>\n  </thead>\n  <tbody>\n    <tr>\n      <th>id</th>\n      <td>object</td>\n      <td>0</td>\n      <td>96925</td>\n    </tr>\n    <tr>\n      <th>brand</th>\n      <td>object</td>\n      <td>0</td>\n      <td>61162</td>\n    </tr>\n    <tr>\n      <th>city</th>\n      <td>object</td>\n      <td>0</td>\n      <td>4857</td>\n    </tr>\n    <tr>\n      <th>state</th>\n      <td>object</td>\n      <td>0</td>\n      <td>55</td>\n    </tr>\n    <tr>\n      <th>review_count</th>\n      <td>float64</td>\n      <td>0</td>\n      <td>2723</td>\n    </tr>\n    <tr>\n      <th>rating</th>\n      <td>float64</td>\n      <td>0</td>\n      <td>9</td>\n    </tr>\n    <tr>\n      <th>price</th>\n      <td>object</td>\n      <td>12366</td>\n      <td>4</td>\n    </tr>\n    <tr>\n      <th>location</th>\n      <td>object</td>\n      <td>0</td>\n      <td>96218</td>\n    </tr>\n    <tr>\n      <th>curbside_pickup</th>\n      <td>object</td>\n      <td>53840</td>\n      <td>1</td>\n    </tr>\n    <tr>\n      <th>outdoor_dining</th>\n      <td>object</td>\n      <td>32105</td>\n      <td>1</td>\n    </tr>\n    <tr>\n      <th>latitude</th>\n      <td>float64</td>\n      <td>0</td>\n      <td>96063</td>\n    </tr>\n    <tr>\n      <th>longitude</th>\n      <td>float64</td>\n      <td>0</td>\n      <td>96130</td>\n    </tr>\n    <tr>\n      <th>coordinates</th>\n      <td>object</td>\n      <td>0</td>\n      <td>96619</td>\n    </tr>\n    <tr>\n      <th>url</th>\n      <td>object</td>\n      <td>0</td>\n      <td>97047</td>\n    </tr>\n    <tr>\n      <th>display_phone</th>\n      <td>object</td>\n      <td>1323</td>\n      <td>94750</td>\n    </tr>\n    <tr>\n      <th>cap_name</th>\n      <td>object</td>\n      <td>0</td>\n      <td>63720</td>\n    </tr>\n  </tbody>\n</table>\n</div>"
     },
     "execution_count": 49,
     "metadata": {},
     "output_type": "execute_result"
    }
   ],
   "source": [
    "def printinfo():\n",
    "    temp = pd.DataFrame(index=shaped_df.columns)\n",
    "    temp['data_type'] = shaped_df.dtypes\n",
    "    temp['null_count'] = shaped_df.isnull().sum()\n",
    "    temp['unique_count'] = shaped_df.nunique()\n",
    "    return temp\n",
    "\n",
    "printinfo()"
   ],
   "metadata": {
    "collapsed": false,
    "pycharm": {
     "name": "#%%\n"
    }
   }
  },
  {
   "cell_type": "code",
   "execution_count": 50,
   "outputs": [],
   "source": [
    "shaped_df.to_csv('E:\\Report\\战略\\半室外需求验证\\data_0507.csv')"
   ],
  "metadata": {
    "collapsed": false,
    "pycharm": {
     "name": "#%%\n"
    }
   }
  }
 ],
 "metadata": {
  "kernelspec": {
   "display_name": "Python 3",
   "language": "python",
   "name": "python3"
  },
  "language_info": {
   "codemirror_mode": {
    "name": "ipython",
    "version": 2
   },
   "file_extension": ".py",
   "mimetype": "text/x-python",
   "name": "python",
   "nbconvert_exporter": "python",
   "pygments_lexer": "ipython2",
   "version": "2.7.6"
  }
 },
 "nbformat": 4,
 "nbformat_minor": 0
}
