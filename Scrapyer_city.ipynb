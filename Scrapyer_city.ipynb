{
 "cells": [
  {
   "cell_type": "code",
   "execution_count": 1,
   "metadata": {
    "collapsed": true,
    "pycharm": {
     "name": "#%%\n"
    }
   },
   "outputs": [],
   "source": [
    "import numpy as np\n",
    "import pandas as pd\n",
    "\n",
    "import requests\n",
    "import json\n",
    "import time\n",
    "from bs4 import BeautifulSoup\n",
    "from lxml import etree\n",
    "from bs4 import BeautifulSoup\n",
    "from pandas import DataFrame\n",
    "from tqdm import tqdm\n",
    "\n",
    "import warnings\n",
    "warnings.filterwarnings(\"ignore\")"
   ]
  },
  {
   "cell_type": "code",
   "execution_count": 2,
   "outputs": [
    {
     "data": {
      "text/plain": "             City         State  Population        lat         lon  \\\n961   Panama City       Florida       36877  30.158813  -85.660206   \n552        Beloit     Wisconsin       36888  42.508348  -89.031777   \n434  Spanish Fork          Utah       36956  40.114955 -111.654923   \n722        Keizer        Oregon       37064  44.990119 -123.026208   \n346       Weslaco         Texas       37093  26.159519  -97.990837   \n..            ...           ...         ...        ...         ...   \n53   Philadelphia  Pennsylvania     1553165  39.952584  -75.165222   \n646       Houston         Texas     2195914  29.760427  -95.369803   \n594       Chicago      Illinois     2718782  41.878114  -87.629798   \n953   Los Angeles    California     3884307  34.052234 -118.243685   \n890      New York      New York     8405837  40.712784  -74.005941   \n\n                 cities_states  \n961        Panama City,Florida  \n552           Beloit,Wisconsin  \n434          Spanish Fork,Utah  \n722              Keizer,Oregon  \n346              Weslaco,Texas  \n..                         ...  \n53   Philadelphia,Pennsylvania  \n646              Houston,Texas  \n594           Chicago,Illinois  \n953     Los Angeles,California  \n890          New York,New York  \n\n[1000 rows x 6 columns]",
      "text/html": "<div>\n<style scoped>\n    .dataframe tbody tr th:only-of-type {\n        vertical-align: middle;\n    }\n\n    .dataframe tbody tr th {\n        vertical-align: top;\n    }\n\n    .dataframe thead th {\n        text-align: right;\n    }\n</style>\n<table border=\"1\" class=\"dataframe\">\n  <thead>\n    <tr style=\"text-align: right;\">\n      <th></th>\n      <th>City</th>\n      <th>State</th>\n      <th>Population</th>\n      <th>lat</th>\n      <th>lon</th>\n      <th>cities_states</th>\n    </tr>\n  </thead>\n  <tbody>\n    <tr>\n      <th>961</th>\n      <td>Panama City</td>\n      <td>Florida</td>\n      <td>36877</td>\n      <td>30.158813</td>\n      <td>-85.660206</td>\n      <td>Panama City,Florida</td>\n    </tr>\n    <tr>\n      <th>552</th>\n      <td>Beloit</td>\n      <td>Wisconsin</td>\n      <td>36888</td>\n      <td>42.508348</td>\n      <td>-89.031777</td>\n      <td>Beloit,Wisconsin</td>\n    </tr>\n    <tr>\n      <th>434</th>\n      <td>Spanish Fork</td>\n      <td>Utah</td>\n      <td>36956</td>\n      <td>40.114955</td>\n      <td>-111.654923</td>\n      <td>Spanish Fork,Utah</td>\n    </tr>\n    <tr>\n      <th>722</th>\n      <td>Keizer</td>\n      <td>Oregon</td>\n      <td>37064</td>\n      <td>44.990119</td>\n      <td>-123.026208</td>\n      <td>Keizer,Oregon</td>\n    </tr>\n    <tr>\n      <th>346</th>\n      <td>Weslaco</td>\n      <td>Texas</td>\n      <td>37093</td>\n      <td>26.159519</td>\n      <td>-97.990837</td>\n      <td>Weslaco,Texas</td>\n    </tr>\n    <tr>\n      <th>...</th>\n      <td>...</td>\n      <td>...</td>\n      <td>...</td>\n      <td>...</td>\n      <td>...</td>\n      <td>...</td>\n    </tr>\n    <tr>\n      <th>53</th>\n      <td>Philadelphia</td>\n      <td>Pennsylvania</td>\n      <td>1553165</td>\n      <td>39.952584</td>\n      <td>-75.165222</td>\n      <td>Philadelphia,Pennsylvania</td>\n    </tr>\n    <tr>\n      <th>646</th>\n      <td>Houston</td>\n      <td>Texas</td>\n      <td>2195914</td>\n      <td>29.760427</td>\n      <td>-95.369803</td>\n      <td>Houston,Texas</td>\n    </tr>\n    <tr>\n      <th>594</th>\n      <td>Chicago</td>\n      <td>Illinois</td>\n      <td>2718782</td>\n      <td>41.878114</td>\n      <td>-87.629798</td>\n      <td>Chicago,Illinois</td>\n    </tr>\n    <tr>\n      <th>953</th>\n      <td>Los Angeles</td>\n      <td>California</td>\n      <td>3884307</td>\n      <td>34.052234</td>\n      <td>-118.243685</td>\n      <td>Los Angeles,California</td>\n    </tr>\n    <tr>\n      <th>890</th>\n      <td>New York</td>\n      <td>New York</td>\n      <td>8405837</td>\n      <td>40.712784</td>\n      <td>-74.005941</td>\n      <td>New York,New York</td>\n    </tr>\n  </tbody>\n</table>\n<p>1000 rows × 6 columns</p>\n</div>"
     },
     "execution_count": 2,
     "metadata": {},
     "output_type": "execute_result"
    }
   ],
   "source": [
    "cities_1k_df = pd.read_csv(r'E:\\Report\\战略\\半室外需求验证\\源数据\\citi\\us-cities-top-1k.csv')\n",
    "cities_1k_df['cities_states'] = cities_1k_df['City']+','+cities_1k_df['State']\n",
    "cities_df = cities_1k_df.copy().sort_values(by=['Population'])\n",
    "\n",
    "cities_df"
   ],
   "metadata": {
    "collapsed": false,
    "pycharm": {
     "name": "#%%\n"
    }
   }
  },
  {
   "cell_type": "markdown",
   "source": [
    "# 爬数据"
   ],
   "metadata": {
    "collapsed": false,
    "pycharm": {
     "name": "#%% md\n"
    }
   }
  },
  {
   "cell_type": "code",
   "execution_count": 76,
   "outputs": [],
   "source": [
    "#Define Search\n",
    "search_location = cities_df['cities_states'].drop_duplicates(keep = 'first').tolist()\n",
    "search_location.remove('Lima,Ohio')\n",
    "#search_location = cities_df['State'].drop_duplicates().tolist()\n",
    "search_list = ['restaurant, curbside pickup']\n",
    "search_limit = 50\n",
    "offset_limit = 50"
   ],
   "metadata": {
    "collapsed": false,
    "pycharm": {
     "name": "#%%\n"
    }
   }
  },
  {
   "cell_type": "code",
   "execution_count": 77,
   "outputs": [
    {
     "data": {
      "text/plain": "999"
     },
     "execution_count": 77,
     "metadata": {},
     "output_type": "execute_result"
    }
   ],
   "source": [
    "len(search_location)"
   ],
   "metadata": {
    "collapsed": false,
    "pycharm": {
     "name": "#%%\n"
    }
   }
  },
  {
   "cell_type": "code",
   "execution_count": 61,
   "outputs": [],
   "source": [
    "#定义搜索公式\n",
    "def search_restaurant(set_location,offset_number,search_term):\n",
    "    # 根据输入的地点和循环次数抓取该地点的所有餐厅数据\n",
    "\n",
    "    url = 'https://api.yelp.com/v3/businesses/search' #Yelp Fusion\n",
    "    headers = {'Authorization': 'Bearer {}'.format('_p2c3uy9Fsct8mWbxBtAdHjgZ8pLm6K151jeo0DawEHB24aSvsS3w3aQc7lopX29z_cENlennOnhbGsiYuJQQBgSijB7NOY_L1KFoyx3pkMrYbLBUNn6Z1W3ynBeYnYx')} #个人密钥\n",
    "    url_params = { #parameters passed to the API\n",
    "        'term': search_term,\n",
    "        'location': set_location,\n",
    "        'offset': offset_number,\n",
    "        'limit': search_limit # Maximum return of results per request (ref: API documentation).\n",
    "    }\n",
    "\n",
    "    restaurant_response = requests.get(url, headers=headers, params=url_params).json()\n",
    "    restaurant_output = pd.DataFrame.from_dict(restaurant_response['businesses'])\n",
    "    return restaurant_output # Returns a df"
   ],
   "metadata": {
    "collapsed": false,
    "pycharm": {
     "name": "#%%\n"
    }
   }
  },
  {
   "cell_type": "code",
   "execution_count": 64,
   "outputs": [
    {
     "ename": "TypeError",
     "evalue": "'NoneType' object is not subscriptable",
     "output_type": "error",
     "traceback": [
      "\u001B[1;31m---------------------------------------------------------------------------\u001B[0m",
      "\u001B[1;31mTypeError\u001B[0m                                 Traceback (most recent call last)",
      "\u001B[1;32m~\\AppData\\Local\\Temp/ipykernel_19464/4083545499.py\u001B[0m in \u001B[0;36m<module>\u001B[1;34m\u001B[0m\n\u001B[1;32m----> 1\u001B[1;33m \u001B[0msearch_restaurant\u001B[0m\u001B[1;33m(\u001B[0m\u001B[0msearch_location\u001B[0m\u001B[1;33m[\u001B[0m\u001B[1;36m37\u001B[0m\u001B[1;33m]\u001B[0m\u001B[1;33m,\u001B[0m\u001B[1;36m0\u001B[0m\u001B[1;33m,\u001B[0m\u001B[1;34m'restaurant'\u001B[0m\u001B[1;33m)\u001B[0m\u001B[1;33m\u001B[0m\u001B[1;33m\u001B[0m\u001B[0m\n\u001B[0m",
      "\u001B[1;31mTypeError\u001B[0m: 'NoneType' object is not subscriptable"
     ]
    }
   ],
   "source": [
    "search_restaurant(search_location[37],0,'restaurant')"
   ],
   "metadata": {
    "collapsed": false,
    "pycharm": {
     "name": "#%%\n"
    }
   }
  },
  {
   "cell_type": "code",
   "execution_count": 44,
   "outputs": [],
   "source": [
    "#定义城市循环公式\n",
    "def loop_city(start_city_number,target_city_number, offset_number, search_term):\n",
    "    loop_city_merge = pd.DataFrame()\n",
    "    for i in np.arange(start_city_number,target_city_number,1) :\n",
    "        loop_city_append = search_restaurant(search_location[i], offset_number, search_term)\n",
    "        loop_city_merge = DataFrame(loop_city_merge.append(loop_city_append, ignore_index=True))\n",
    "    return loop_city_merge"
   ],
   "metadata": {
    "collapsed": false,
    "pycharm": {
     "name": "#%%\n"
    }
   }
  },
  {
   "cell_type": "code",
   "execution_count": 32,
   "outputs": [],
   "source": [
    "#定义同城循环公式\n",
    "def loop_restaurant(target_city_number, search_term):\n",
    "    loop_restaurant_merge = pd.DataFrame()\n",
    "    for n in np.arange(0, offset_limit, 50):\n",
    "        loop_restaurant_append = loop_city(target_city_number,n, search_term)\n",
    "        loop_restaurant_merge = DataFrame(loop_restaurant_merge.append(loop_restaurant_append, ignore_index=True))\n",
    "    return loop_restaurant_merge"
   ],
   "metadata": {
    "collapsed": false,
    "pycharm": {
     "name": "#%%\n"
    }
   }
  },
  {
   "cell_type": "code",
   "execution_count": 33,
   "outputs": [],
   "source": [
    "#定义种类循环公式\n",
    "def loop_search(target_city_number):\n",
    "    loop_search_merge = pd.DataFrame()\n",
    "    for m in np.arange(0, len(search_list), 1):\n",
    "        loop_search_append = loop_restaurant(target_city_number,search_list[m])\n",
    "        loop_search_merge = DataFrame(loop_search_merge.append(loop_search_append, ignore_index=True))\n",
    "    return loop_search_merge"
   ],
   "metadata": {
    "collapsed": false,
    "pycharm": {
     "name": "#%%\n"
    }
   }
  },
  {
   "cell_type": "code",
   "execution_count": 118,
   "outputs": [
    {
     "data": {
      "text/plain": "                          id  \\\n0     RoTdVh4JUEB-Z0iBvV--Rw   \n1     hQ5WKHrtP91nSbl6FqWNwA   \n2     ECHSC2v7ASIRIviywoPZoQ   \n3     _1sx2durs4tnc6X0xBSCmg   \n4     LijLC5WgQtZc5xvZtc8PZw   \n...                      ...   \n1547  I5zWMBrBKutosdevR2Mrzg   \n1548  Lr6wRaymLWzEcs0e1d00kw   \n1549  BY5bHRfeRXGZM8cZaceE6w   \n1550  cCwwJX1tLE-AP8TnB-uXMw   \n1551  SU9pz5lhUhLsBA59nF-fMA   \n\n                                                 alias  \\\n0                                sonic-drive-in-duarte   \n1                           marketplace-cafe-arcadia-6   \n2                          islands-restaurant-pasadena   \n3                                 hook-burger-pasadena   \n4                            the-boiling-crab-rosemead   \n...                                                ...   \n1547  anjappar-chettinad-indian-restaurant-santa-clara   \n1548                             pizza-hut-san-jose-17   \n1549                         go-fish-poke-bar-san-jose   \n1550                     scotts-chowder-house-san-jose   \n1551                 the-counter-cupertino-cupertino-4   \n\n                                      name  \\\n0                           Sonic Drive-In   \n1                         Marketplace Cafe   \n2                       Islands Restaurant   \n3                              Hook Burger   \n4                         The Boiling Crab   \n...                                    ...   \n1547  Anjappar Chettinad Indian Restaurant   \n1548                             Pizza Hut   \n1549                      Go Fish Poke Bar   \n1550                 Scott's Chowder House   \n1551                 The Counter Cupertino   \n\n                                              image_url  is_closed  \\\n0     https://s3-media2.fl.yelpcdn.com/bphoto/V2nCtT...      False   \n1     https://s3-media3.fl.yelpcdn.com/bphoto/e6GziR...      False   \n2     https://s3-media2.fl.yelpcdn.com/bphoto/4p942r...      False   \n3     https://s3-media3.fl.yelpcdn.com/bphoto/BNTb_h...      False   \n4     https://s3-media3.fl.yelpcdn.com/bphoto/ZUGE__...      False   \n...                                                 ...        ...   \n1547  https://s3-media4.fl.yelpcdn.com/bphoto/xje-sc...      False   \n1548  https://s3-media4.fl.yelpcdn.com/bphoto/Zp_XA5...      False   \n1549  https://s3-media4.fl.yelpcdn.com/bphoto/osMftR...      False   \n1550  https://s3-media2.fl.yelpcdn.com/bphoto/9wo6Uf...      False   \n1551  https://s3-media4.fl.yelpcdn.com/bphoto/ie2ZbY...      False   \n\n                                                    url  review_count  \\\n0     https://www.yelp.com/biz/sonic-drive-in-duarte...          1075   \n1     https://www.yelp.com/biz/marketplace-cafe-arca...           216   \n2     https://www.yelp.com/biz/islands-restaurant-pa...           523   \n3     https://www.yelp.com/biz/hook-burger-pasadena?...           794   \n4     https://www.yelp.com/biz/the-boiling-crab-rose...           651   \n...                                                 ...           ...   \n1547  https://www.yelp.com/biz/anjappar-chettinad-in...           458   \n1548  https://www.yelp.com/biz/pizza-hut-san-jose-17...            30   \n1549  https://www.yelp.com/biz/go-fish-poke-bar-san-...          1009   \n1550  https://www.yelp.com/biz/scotts-chowder-house-...            55   \n1551  https://www.yelp.com/biz/the-counter-cupertino...           556   \n\n                                             categories  rating  \\\n0     [{'alias': 'hotdogs', 'title': 'Fast Food'}, {...     2.5   \n1     [{'alias': 'newamerican', 'title': 'American (...     4.0   \n2     [{'alias': 'burgers', 'title': 'Burgers'}, {'a...     3.5   \n3            [{'alias': 'burgers', 'title': 'Burgers'}]     4.0   \n4     [{'alias': 'cajun', 'title': 'Cajun/Creole'}, ...     3.5   \n...                                                 ...     ...   \n1547           [{'alias': 'indpak', 'title': 'Indian'}]     3.0   \n1548  [{'alias': 'pizza', 'title': 'Pizza'}, {'alias...     2.0   \n1549  [{'alias': 'japanese', 'title': 'Japanese'}, {...     4.0   \n1550  [{'alias': 'seafood', 'title': 'Seafood'}, {'a...     3.5   \n1551  [{'alias': 'burgers', 'title': 'Burgers'}, {'a...     3.0   \n\n                                            coordinates        transactions  \\\n0     {'latitude': 34.1392483, 'longitude': -117.982...  [delivery, pickup]   \n1      {'latitude': 34.1370999, 'longitude': -118.0517}                  []   \n2     {'latitude': 34.150750964126, 'longitude': -11...          [delivery]   \n3     {'latitude': 34.1503542184429, 'longitude': -1...                  []   \n4      {'latitude': 34.073011, 'longitude': -118.07092}                  []   \n...                                                 ...                 ...   \n1547  {'latitude': 37.336335188543565, 'longitude': ...  [pickup, delivery]   \n1548  {'latitude': 37.3131118, 'longitude': -121.878...          [delivery]   \n1549  {'latitude': 37.303987, 'longitude': -122.032909}  [pickup, delivery]   \n1550    {'latitude': 37.33294, 'longitude': -121.88773}  [pickup, delivery]   \n1551  {'latitude': 37.322615, 'longitude': -122.024067}  [pickup, delivery]   \n\n     price                                           location         phone  \\\n0        $  {'address1': '1070 E Huntington Dr', 'address2...  +16262567902   \n1       $$  {'address1': '400 S Baldwin Ave', 'address2': ...  +16268216363   \n2       $$  {'address1': '3533 E Foothill Blvd', 'address2...  +16263516543   \n3       $$  {'address1': '3453 E Foothill Blvd', 'address2...  +16263510011   \n4       $$  {'address1': '3514 Rosemead Blvd', 'address2':...  +16264073773   \n...    ...                                                ...           ...   \n1547    $$  {'address1': '777 Lawerence Expy', 'address2':...  +14082435500   \n1548     $  {'address1': '226 W Alma Ave', 'address2': 'St...  +14082885400   \n1549    $$  {'address1': '1183 S De Anza Blvd', 'address2'...  +14083430988   \n1550    $$  {'address1': '200 S First St', 'address2': 'St...  +14085316421   \n1551    $$  {'address1': '20080 Stevens Creek Blvd', 'addr...  +14084772917   \n\n       display_phone     distance  \n0     (626) 256-7902  2381.012694  \n1     (626) 821-6363  4155.085813  \n2     (626) 351-6543  6454.828147  \n3     (626) 351-0011  6660.206561  \n4     (626) 407-3773  9729.619500  \n...              ...          ...  \n1547  (408) 243-5500  7231.944971  \n1548  (408) 288-5400  7967.984277  \n1549  (408) 343-0988  7266.888060  \n1550  (408) 531-6421  8595.759812  \n1551  (408) 477-2917  7672.966637  \n\n[1552 rows x 16 columns]",
      "text/html": "<div>\n<style scoped>\n    .dataframe tbody tr th:only-of-type {\n        vertical-align: middle;\n    }\n\n    .dataframe tbody tr th {\n        vertical-align: top;\n    }\n\n    .dataframe thead th {\n        text-align: right;\n    }\n</style>\n<table border=\"1\" class=\"dataframe\">\n  <thead>\n    <tr style=\"text-align: right;\">\n      <th></th>\n      <th>id</th>\n      <th>alias</th>\n      <th>name</th>\n      <th>image_url</th>\n      <th>is_closed</th>\n      <th>url</th>\n      <th>review_count</th>\n      <th>categories</th>\n      <th>rating</th>\n      <th>coordinates</th>\n      <th>transactions</th>\n      <th>price</th>\n      <th>location</th>\n      <th>phone</th>\n      <th>display_phone</th>\n      <th>distance</th>\n    </tr>\n  </thead>\n  <tbody>\n    <tr>\n      <th>0</th>\n      <td>RoTdVh4JUEB-Z0iBvV--Rw</td>\n      <td>sonic-drive-in-duarte</td>\n      <td>Sonic Drive-In</td>\n      <td>https://s3-media2.fl.yelpcdn.com/bphoto/V2nCtT...</td>\n      <td>False</td>\n      <td>https://www.yelp.com/biz/sonic-drive-in-duarte...</td>\n      <td>1075</td>\n      <td>[{'alias': 'hotdogs', 'title': 'Fast Food'}, {...</td>\n      <td>2.5</td>\n      <td>{'latitude': 34.1392483, 'longitude': -117.982...</td>\n      <td>[delivery, pickup]</td>\n      <td>$</td>\n      <td>{'address1': '1070 E Huntington Dr', 'address2...</td>\n      <td>+16262567902</td>\n      <td>(626) 256-7902</td>\n      <td>2381.012694</td>\n    </tr>\n    <tr>\n      <th>1</th>\n      <td>hQ5WKHrtP91nSbl6FqWNwA</td>\n      <td>marketplace-cafe-arcadia-6</td>\n      <td>Marketplace Cafe</td>\n      <td>https://s3-media3.fl.yelpcdn.com/bphoto/e6GziR...</td>\n      <td>False</td>\n      <td>https://www.yelp.com/biz/marketplace-cafe-arca...</td>\n      <td>216</td>\n      <td>[{'alias': 'newamerican', 'title': 'American (...</td>\n      <td>4.0</td>\n      <td>{'latitude': 34.1370999, 'longitude': -118.0517}</td>\n      <td>[]</td>\n      <td>$$</td>\n      <td>{'address1': '400 S Baldwin Ave', 'address2': ...</td>\n      <td>+16268216363</td>\n      <td>(626) 821-6363</td>\n      <td>4155.085813</td>\n    </tr>\n    <tr>\n      <th>2</th>\n      <td>ECHSC2v7ASIRIviywoPZoQ</td>\n      <td>islands-restaurant-pasadena</td>\n      <td>Islands Restaurant</td>\n      <td>https://s3-media2.fl.yelpcdn.com/bphoto/4p942r...</td>\n      <td>False</td>\n      <td>https://www.yelp.com/biz/islands-restaurant-pa...</td>\n      <td>523</td>\n      <td>[{'alias': 'burgers', 'title': 'Burgers'}, {'a...</td>\n      <td>3.5</td>\n      <td>{'latitude': 34.150750964126, 'longitude': -11...</td>\n      <td>[delivery]</td>\n      <td>$$</td>\n      <td>{'address1': '3533 E Foothill Blvd', 'address2...</td>\n      <td>+16263516543</td>\n      <td>(626) 351-6543</td>\n      <td>6454.828147</td>\n    </tr>\n    <tr>\n      <th>3</th>\n      <td>_1sx2durs4tnc6X0xBSCmg</td>\n      <td>hook-burger-pasadena</td>\n      <td>Hook Burger</td>\n      <td>https://s3-media3.fl.yelpcdn.com/bphoto/BNTb_h...</td>\n      <td>False</td>\n      <td>https://www.yelp.com/biz/hook-burger-pasadena?...</td>\n      <td>794</td>\n      <td>[{'alias': 'burgers', 'title': 'Burgers'}]</td>\n      <td>4.0</td>\n      <td>{'latitude': 34.1503542184429, 'longitude': -1...</td>\n      <td>[]</td>\n      <td>$$</td>\n      <td>{'address1': '3453 E Foothill Blvd', 'address2...</td>\n      <td>+16263510011</td>\n      <td>(626) 351-0011</td>\n      <td>6660.206561</td>\n    </tr>\n    <tr>\n      <th>4</th>\n      <td>LijLC5WgQtZc5xvZtc8PZw</td>\n      <td>the-boiling-crab-rosemead</td>\n      <td>The Boiling Crab</td>\n      <td>https://s3-media3.fl.yelpcdn.com/bphoto/ZUGE__...</td>\n      <td>False</td>\n      <td>https://www.yelp.com/biz/the-boiling-crab-rose...</td>\n      <td>651</td>\n      <td>[{'alias': 'cajun', 'title': 'Cajun/Creole'}, ...</td>\n      <td>3.5</td>\n      <td>{'latitude': 34.073011, 'longitude': -118.07092}</td>\n      <td>[]</td>\n      <td>$$</td>\n      <td>{'address1': '3514 Rosemead Blvd', 'address2':...</td>\n      <td>+16264073773</td>\n      <td>(626) 407-3773</td>\n      <td>9729.619500</td>\n    </tr>\n    <tr>\n      <th>...</th>\n      <td>...</td>\n      <td>...</td>\n      <td>...</td>\n      <td>...</td>\n      <td>...</td>\n      <td>...</td>\n      <td>...</td>\n      <td>...</td>\n      <td>...</td>\n      <td>...</td>\n      <td>...</td>\n      <td>...</td>\n      <td>...</td>\n      <td>...</td>\n      <td>...</td>\n      <td>...</td>\n    </tr>\n    <tr>\n      <th>1547</th>\n      <td>I5zWMBrBKutosdevR2Mrzg</td>\n      <td>anjappar-chettinad-indian-restaurant-santa-clara</td>\n      <td>Anjappar Chettinad Indian Restaurant</td>\n      <td>https://s3-media4.fl.yelpcdn.com/bphoto/xje-sc...</td>\n      <td>False</td>\n      <td>https://www.yelp.com/biz/anjappar-chettinad-in...</td>\n      <td>458</td>\n      <td>[{'alias': 'indpak', 'title': 'Indian'}]</td>\n      <td>3.0</td>\n      <td>{'latitude': 37.336335188543565, 'longitude': ...</td>\n      <td>[pickup, delivery]</td>\n      <td>$$</td>\n      <td>{'address1': '777 Lawerence Expy', 'address2':...</td>\n      <td>+14082435500</td>\n      <td>(408) 243-5500</td>\n      <td>7231.944971</td>\n    </tr>\n    <tr>\n      <th>1548</th>\n      <td>Lr6wRaymLWzEcs0e1d00kw</td>\n      <td>pizza-hut-san-jose-17</td>\n      <td>Pizza Hut</td>\n      <td>https://s3-media4.fl.yelpcdn.com/bphoto/Zp_XA5...</td>\n      <td>False</td>\n      <td>https://www.yelp.com/biz/pizza-hut-san-jose-17...</td>\n      <td>30</td>\n      <td>[{'alias': 'pizza', 'title': 'Pizza'}, {'alias...</td>\n      <td>2.0</td>\n      <td>{'latitude': 37.3131118, 'longitude': -121.878...</td>\n      <td>[delivery]</td>\n      <td>$</td>\n      <td>{'address1': '226 W Alma Ave', 'address2': 'St...</td>\n      <td>+14082885400</td>\n      <td>(408) 288-5400</td>\n      <td>7967.984277</td>\n    </tr>\n    <tr>\n      <th>1549</th>\n      <td>BY5bHRfeRXGZM8cZaceE6w</td>\n      <td>go-fish-poke-bar-san-jose</td>\n      <td>Go Fish Poke Bar</td>\n      <td>https://s3-media4.fl.yelpcdn.com/bphoto/osMftR...</td>\n      <td>False</td>\n      <td>https://www.yelp.com/biz/go-fish-poke-bar-san-...</td>\n      <td>1009</td>\n      <td>[{'alias': 'japanese', 'title': 'Japanese'}, {...</td>\n      <td>4.0</td>\n      <td>{'latitude': 37.303987, 'longitude': -122.032909}</td>\n      <td>[pickup, delivery]</td>\n      <td>$$</td>\n      <td>{'address1': '1183 S De Anza Blvd', 'address2'...</td>\n      <td>+14083430988</td>\n      <td>(408) 343-0988</td>\n      <td>7266.888060</td>\n    </tr>\n    <tr>\n      <th>1550</th>\n      <td>cCwwJX1tLE-AP8TnB-uXMw</td>\n      <td>scotts-chowder-house-san-jose</td>\n      <td>Scott's Chowder House</td>\n      <td>https://s3-media2.fl.yelpcdn.com/bphoto/9wo6Uf...</td>\n      <td>False</td>\n      <td>https://www.yelp.com/biz/scotts-chowder-house-...</td>\n      <td>55</td>\n      <td>[{'alias': 'seafood', 'title': 'Seafood'}, {'a...</td>\n      <td>3.5</td>\n      <td>{'latitude': 37.33294, 'longitude': -121.88773}</td>\n      <td>[pickup, delivery]</td>\n      <td>$$</td>\n      <td>{'address1': '200 S First St', 'address2': 'St...</td>\n      <td>+14085316421</td>\n      <td>(408) 531-6421</td>\n      <td>8595.759812</td>\n    </tr>\n    <tr>\n      <th>1551</th>\n      <td>SU9pz5lhUhLsBA59nF-fMA</td>\n      <td>the-counter-cupertino-cupertino-4</td>\n      <td>The Counter Cupertino</td>\n      <td>https://s3-media4.fl.yelpcdn.com/bphoto/ie2ZbY...</td>\n      <td>False</td>\n      <td>https://www.yelp.com/biz/the-counter-cupertino...</td>\n      <td>556</td>\n      <td>[{'alias': 'burgers', 'title': 'Burgers'}, {'a...</td>\n      <td>3.0</td>\n      <td>{'latitude': 37.322615, 'longitude': -122.024067}</td>\n      <td>[pickup, delivery]</td>\n      <td>$$</td>\n      <td>{'address1': '20080 Stevens Creek Blvd', 'addr...</td>\n      <td>+14084772917</td>\n      <td>(408) 477-2917</td>\n      <td>7672.966637</td>\n    </tr>\n  </tbody>\n</table>\n<p>1552 rows × 16 columns</p>\n</div>"
     },
     "execution_count": 118,
     "metadata": {},
     "output_type": "execute_result"
    }
   ],
   "source": [
    "data_curbside_100 = loop_city(0,100,50,'restaurant, curbside pickup')\n",
    "\n",
    "data_curbside_100"
   ],
   "metadata": {
    "collapsed": false,
    "pycharm": {
     "name": "#%%\n"
    }
   }
  },
  {
   "cell_type": "code",
   "execution_count": 120,
   "outputs": [
    {
     "data": {
      "text/plain": "                          id                              alias  \\\n0     3BDGMMROL5w3UgI1jYfNKw              my-pie-pizza-holladay   \n1     yE5x8rtZG6FgA8crAzml9g     even-stevens-sandwiches-draper   \n2     Wh-HiKe1abx9GBk1i41ZLQ                costa-vida-riverton   \n3     9klOzbjMLcr7PmL0U9JfRQ            texas-roadhouse-sandy-2   \n4     W9IlPLShN9BbQqQwuPShtg    cafe-rio-mexican-grill-herriman   \n...                      ...                                ...   \n1247  Fm3MHvc8-4Y08iULSRCzdA  marios-italian-cafe-palm-desert-6   \n1248  98mJXR72Xiw3hVmKoL30yA                 wincos-pizza-indio   \n1249  KZhY60NHHhxADfzwCxXcKQ            blaze-pizza-palm-desert   \n1250  0KY--250_qwpICabh4eq9w       applebees-grill-bar-beaumont   \n1251  PBPPXdIL_H21PbSWsmm4eA            goodys-cafe-palm-desert   \n\n                         name  \\\n0                My Pie Pizza   \n1     Even Stevens Sandwiches   \n2                  Costa Vida   \n3             Texas Roadhouse   \n4      Cafe Rio Mexican Grill   \n...                       ...   \n1247     Mario's Italian Cafe   \n1248            Winco's Pizza   \n1249              Blaze Pizza   \n1250   Applebee's Grill + Bar   \n1251             Goody's Cafe   \n\n                                              image_url  is_closed  \\\n0     https://s3-media1.fl.yelpcdn.com/bphoto/H-nQIH...      False   \n1     https://s3-media3.fl.yelpcdn.com/bphoto/bkU83u...      False   \n2     https://s3-media1.fl.yelpcdn.com/bphoto/tCto-Y...      False   \n3     https://s3-media3.fl.yelpcdn.com/bphoto/U7d-_D...      False   \n4     https://s3-media2.fl.yelpcdn.com/bphoto/jKtjSx...      False   \n...                                                 ...        ...   \n1247  https://s3-media2.fl.yelpcdn.com/bphoto/5cRpjR...      False   \n1248  https://s3-media2.fl.yelpcdn.com/bphoto/A8B9AQ...      False   \n1249  https://s3-media4.fl.yelpcdn.com/bphoto/99RBSK...      False   \n1250  https://s3-media3.fl.yelpcdn.com/bphoto/1vkGcp...      False   \n1251  https://s3-media3.fl.yelpcdn.com/bphoto/AtLRT-...      False   \n\n                                                    url  review_count  \\\n0     https://www.yelp.com/biz/my-pie-pizza-holladay...           113   \n1     https://www.yelp.com/biz/even-stevens-sandwich...           314   \n2     https://www.yelp.com/biz/costa-vida-riverton?a...            55   \n3     https://www.yelp.com/biz/texas-roadhouse-sandy...           360   \n4     https://www.yelp.com/biz/cafe-rio-mexican-gril...           190   \n...                                                 ...           ...   \n1247  https://www.yelp.com/biz/marios-italian-cafe-p...           145   \n1248  https://www.yelp.com/biz/wincos-pizza-indio?ad...            13   \n1249  https://www.yelp.com/biz/blaze-pizza-palm-dese...           348   \n1250  https://www.yelp.com/biz/applebees-grill-bar-b...           190   \n1251  https://www.yelp.com/biz/goodys-cafe-palm-dese...           172   \n\n                                             categories  rating  \\\n0                [{'alias': 'pizza', 'title': 'Pizza'}]     4.0   \n1     [{'alias': 'breakfast_brunch', 'title': 'Break...     4.0   \n2     [{'alias': 'mexican', 'title': 'Mexican'}, {'a...     2.5   \n3     [{'alias': 'steak', 'title': 'Steakhouses'}, {...     3.5   \n4            [{'alias': 'mexican', 'title': 'Mexican'}]     2.0   \n...                                                 ...     ...   \n1247  [{'alias': 'italian', 'title': 'Italian'}, {'a...     3.5   \n1248             [{'alias': 'pizza', 'title': 'Pizza'}]     4.0   \n1249  [{'alias': 'salad', 'title': 'Salad'}, {'alias...     3.5   \n1250  [{'alias': 'tradamerican', 'title': 'American ...     3.0   \n1251  [{'alias': 'tradamerican', 'title': 'American ...     3.0   \n\n                                            coordinates        transactions  \\\n0     {'latitude': 40.6694729, 'longitude': -111.824...  [pickup, delivery]   \n1     {'latitude': 40.5267185, 'longitude': -111.875...                  []   \n2       {'latitude': 40.50733, 'longitude': -111.97731}                  []   \n3            {'latitude': 40.56, 'longitude': -111.896}                  []   \n4     {'latitude': 40.50902940563278, 'longitude': -...          [delivery]   \n...                                                 ...                 ...   \n1247  {'latitude': 33.762017, 'longitude': -116.300337}          [delivery]   \n1248    {'latitude': 33.73941, 'longitude': -116.21378}                  []   \n1249  {'latitude': 33.7211451, 'longitude': -116.384...  [delivery, pickup]   \n1250   {'latitude': 33.92885, 'longitude': -116.950568}  [delivery, pickup]   \n1251    {'latitude': 33.75671, 'longitude': -116.30362}  [delivery, pickup]   \n\n                                               location         phone  \\\n0     {'address1': '4655 S 2300th E', 'address2': 'S...  +18017485888   \n1     {'address1': '541 E 12300th S', 'address2': 'S...  +18019800755   \n2     {'address1': '3627 W 13400 S', 'address2': '',...  +18014468000   \n3     {'address1': '200 W 10600th S', 'address2': ''...  +18015727718   \n4     {'address1': '5506 W 13400th S', 'address2': '...  +18019884800   \n...                                                 ...           ...   \n1247  {'address1': '78152 Varner Rd', 'address2': 'S...  +17603458900   \n1248  {'address1': '42600 Jackson St', 'address2': '...  +17603424138   \n1249  {'address1': '73393 California 111', 'address2...  +17608945030   \n1250  {'address1': '1585 E 6th St', 'address2': '', ...  +19518453638   \n1251  {'address1': '40205 Washington St', 'address2'...  +17603458941   \n\n       display_phone      distance price  \n0     (801) 748-5888  20926.408959   NaN  \n1     (801) 980-0755   7961.751253     $  \n2     (801) 446-8000   1262.016763     $  \n3     (801) 572-7718   7827.579181    $$  \n4     (801) 988-4800   4547.951700     $  \n...              ...           ...   ...  \n1247  (760) 345-8900  24727.773915    $$  \n1248  (760) 342-4138  33143.332281     $  \n1249  (760) 894-5030  19734.705767     $  \n1250  (951) 845-3638  38124.782749    $$  \n1251  (760) 345-8941  24607.228941     $  \n\n[1252 rows x 16 columns]",
      "text/html": "<div>\n<style scoped>\n    .dataframe tbody tr th:only-of-type {\n        vertical-align: middle;\n    }\n\n    .dataframe tbody tr th {\n        vertical-align: top;\n    }\n\n    .dataframe thead th {\n        text-align: right;\n    }\n</style>\n<table border=\"1\" class=\"dataframe\">\n  <thead>\n    <tr style=\"text-align: right;\">\n      <th></th>\n      <th>id</th>\n      <th>alias</th>\n      <th>name</th>\n      <th>image_url</th>\n      <th>is_closed</th>\n      <th>url</th>\n      <th>review_count</th>\n      <th>categories</th>\n      <th>rating</th>\n      <th>coordinates</th>\n      <th>transactions</th>\n      <th>location</th>\n      <th>phone</th>\n      <th>display_phone</th>\n      <th>distance</th>\n      <th>price</th>\n    </tr>\n  </thead>\n  <tbody>\n    <tr>\n      <th>0</th>\n      <td>3BDGMMROL5w3UgI1jYfNKw</td>\n      <td>my-pie-pizza-holladay</td>\n      <td>My Pie Pizza</td>\n      <td>https://s3-media1.fl.yelpcdn.com/bphoto/H-nQIH...</td>\n      <td>False</td>\n      <td>https://www.yelp.com/biz/my-pie-pizza-holladay...</td>\n      <td>113</td>\n      <td>[{'alias': 'pizza', 'title': 'Pizza'}]</td>\n      <td>4.0</td>\n      <td>{'latitude': 40.6694729, 'longitude': -111.824...</td>\n      <td>[pickup, delivery]</td>\n      <td>{'address1': '4655 S 2300th E', 'address2': 'S...</td>\n      <td>+18017485888</td>\n      <td>(801) 748-5888</td>\n      <td>20926.408959</td>\n      <td>NaN</td>\n    </tr>\n    <tr>\n      <th>1</th>\n      <td>yE5x8rtZG6FgA8crAzml9g</td>\n      <td>even-stevens-sandwiches-draper</td>\n      <td>Even Stevens Sandwiches</td>\n      <td>https://s3-media3.fl.yelpcdn.com/bphoto/bkU83u...</td>\n      <td>False</td>\n      <td>https://www.yelp.com/biz/even-stevens-sandwich...</td>\n      <td>314</td>\n      <td>[{'alias': 'breakfast_brunch', 'title': 'Break...</td>\n      <td>4.0</td>\n      <td>{'latitude': 40.5267185, 'longitude': -111.875...</td>\n      <td>[]</td>\n      <td>{'address1': '541 E 12300th S', 'address2': 'S...</td>\n      <td>+18019800755</td>\n      <td>(801) 980-0755</td>\n      <td>7961.751253</td>\n      <td>$</td>\n    </tr>\n    <tr>\n      <th>2</th>\n      <td>Wh-HiKe1abx9GBk1i41ZLQ</td>\n      <td>costa-vida-riverton</td>\n      <td>Costa Vida</td>\n      <td>https://s3-media1.fl.yelpcdn.com/bphoto/tCto-Y...</td>\n      <td>False</td>\n      <td>https://www.yelp.com/biz/costa-vida-riverton?a...</td>\n      <td>55</td>\n      <td>[{'alias': 'mexican', 'title': 'Mexican'}, {'a...</td>\n      <td>2.5</td>\n      <td>{'latitude': 40.50733, 'longitude': -111.97731}</td>\n      <td>[]</td>\n      <td>{'address1': '3627 W 13400 S', 'address2': '',...</td>\n      <td>+18014468000</td>\n      <td>(801) 446-8000</td>\n      <td>1262.016763</td>\n      <td>$</td>\n    </tr>\n    <tr>\n      <th>3</th>\n      <td>9klOzbjMLcr7PmL0U9JfRQ</td>\n      <td>texas-roadhouse-sandy-2</td>\n      <td>Texas Roadhouse</td>\n      <td>https://s3-media3.fl.yelpcdn.com/bphoto/U7d-_D...</td>\n      <td>False</td>\n      <td>https://www.yelp.com/biz/texas-roadhouse-sandy...</td>\n      <td>360</td>\n      <td>[{'alias': 'steak', 'title': 'Steakhouses'}, {...</td>\n      <td>3.5</td>\n      <td>{'latitude': 40.56, 'longitude': -111.896}</td>\n      <td>[]</td>\n      <td>{'address1': '200 W 10600th S', 'address2': ''...</td>\n      <td>+18015727718</td>\n      <td>(801) 572-7718</td>\n      <td>7827.579181</td>\n      <td>$$</td>\n    </tr>\n    <tr>\n      <th>4</th>\n      <td>W9IlPLShN9BbQqQwuPShtg</td>\n      <td>cafe-rio-mexican-grill-herriman</td>\n      <td>Cafe Rio Mexican Grill</td>\n      <td>https://s3-media2.fl.yelpcdn.com/bphoto/jKtjSx...</td>\n      <td>False</td>\n      <td>https://www.yelp.com/biz/cafe-rio-mexican-gril...</td>\n      <td>190</td>\n      <td>[{'alias': 'mexican', 'title': 'Mexican'}]</td>\n      <td>2.0</td>\n      <td>{'latitude': 40.50902940563278, 'longitude': -...</td>\n      <td>[delivery]</td>\n      <td>{'address1': '5506 W 13400th S', 'address2': '...</td>\n      <td>+18019884800</td>\n      <td>(801) 988-4800</td>\n      <td>4547.951700</td>\n      <td>$</td>\n    </tr>\n    <tr>\n      <th>...</th>\n      <td>...</td>\n      <td>...</td>\n      <td>...</td>\n      <td>...</td>\n      <td>...</td>\n      <td>...</td>\n      <td>...</td>\n      <td>...</td>\n      <td>...</td>\n      <td>...</td>\n      <td>...</td>\n      <td>...</td>\n      <td>...</td>\n      <td>...</td>\n      <td>...</td>\n      <td>...</td>\n    </tr>\n    <tr>\n      <th>1247</th>\n      <td>Fm3MHvc8-4Y08iULSRCzdA</td>\n      <td>marios-italian-cafe-palm-desert-6</td>\n      <td>Mario's Italian Cafe</td>\n      <td>https://s3-media2.fl.yelpcdn.com/bphoto/5cRpjR...</td>\n      <td>False</td>\n      <td>https://www.yelp.com/biz/marios-italian-cafe-p...</td>\n      <td>145</td>\n      <td>[{'alias': 'italian', 'title': 'Italian'}, {'a...</td>\n      <td>3.5</td>\n      <td>{'latitude': 33.762017, 'longitude': -116.300337}</td>\n      <td>[delivery]</td>\n      <td>{'address1': '78152 Varner Rd', 'address2': 'S...</td>\n      <td>+17603458900</td>\n      <td>(760) 345-8900</td>\n      <td>24727.773915</td>\n      <td>$$</td>\n    </tr>\n    <tr>\n      <th>1248</th>\n      <td>98mJXR72Xiw3hVmKoL30yA</td>\n      <td>wincos-pizza-indio</td>\n      <td>Winco's Pizza</td>\n      <td>https://s3-media2.fl.yelpcdn.com/bphoto/A8B9AQ...</td>\n      <td>False</td>\n      <td>https://www.yelp.com/biz/wincos-pizza-indio?ad...</td>\n      <td>13</td>\n      <td>[{'alias': 'pizza', 'title': 'Pizza'}]</td>\n      <td>4.0</td>\n      <td>{'latitude': 33.73941, 'longitude': -116.21378}</td>\n      <td>[]</td>\n      <td>{'address1': '42600 Jackson St', 'address2': '...</td>\n      <td>+17603424138</td>\n      <td>(760) 342-4138</td>\n      <td>33143.332281</td>\n      <td>$</td>\n    </tr>\n    <tr>\n      <th>1249</th>\n      <td>KZhY60NHHhxADfzwCxXcKQ</td>\n      <td>blaze-pizza-palm-desert</td>\n      <td>Blaze Pizza</td>\n      <td>https://s3-media4.fl.yelpcdn.com/bphoto/99RBSK...</td>\n      <td>False</td>\n      <td>https://www.yelp.com/biz/blaze-pizza-palm-dese...</td>\n      <td>348</td>\n      <td>[{'alias': 'salad', 'title': 'Salad'}, {'alias...</td>\n      <td>3.5</td>\n      <td>{'latitude': 33.7211451, 'longitude': -116.384...</td>\n      <td>[delivery, pickup]</td>\n      <td>{'address1': '73393 California 111', 'address2...</td>\n      <td>+17608945030</td>\n      <td>(760) 894-5030</td>\n      <td>19734.705767</td>\n      <td>$</td>\n    </tr>\n    <tr>\n      <th>1250</th>\n      <td>0KY--250_qwpICabh4eq9w</td>\n      <td>applebees-grill-bar-beaumont</td>\n      <td>Applebee's Grill + Bar</td>\n      <td>https://s3-media3.fl.yelpcdn.com/bphoto/1vkGcp...</td>\n      <td>False</td>\n      <td>https://www.yelp.com/biz/applebees-grill-bar-b...</td>\n      <td>190</td>\n      <td>[{'alias': 'tradamerican', 'title': 'American ...</td>\n      <td>3.0</td>\n      <td>{'latitude': 33.92885, 'longitude': -116.950568}</td>\n      <td>[delivery, pickup]</td>\n      <td>{'address1': '1585 E 6th St', 'address2': '', ...</td>\n      <td>+19518453638</td>\n      <td>(951) 845-3638</td>\n      <td>38124.782749</td>\n      <td>$$</td>\n    </tr>\n    <tr>\n      <th>1251</th>\n      <td>PBPPXdIL_H21PbSWsmm4eA</td>\n      <td>goodys-cafe-palm-desert</td>\n      <td>Goody's Cafe</td>\n      <td>https://s3-media3.fl.yelpcdn.com/bphoto/AtLRT-...</td>\n      <td>False</td>\n      <td>https://www.yelp.com/biz/goodys-cafe-palm-dese...</td>\n      <td>172</td>\n      <td>[{'alias': 'tradamerican', 'title': 'American ...</td>\n      <td>3.0</td>\n      <td>{'latitude': 33.75671, 'longitude': -116.30362}</td>\n      <td>[delivery, pickup]</td>\n      <td>{'address1': '40205 Washington St', 'address2'...</td>\n      <td>+17603458941</td>\n      <td>(760) 345-8941</td>\n      <td>24607.228941</td>\n      <td>$</td>\n    </tr>\n  </tbody>\n</table>\n<p>1252 rows × 16 columns</p>\n</div>"
     },
     "execution_count": 120,
     "metadata": {},
     "output_type": "execute_result"
    }
   ],
   "source": [
    "data_curbside_200 = loop_city(100,200,50,'restaurant, curbside pickup')\n",
    "\n",
    "data_curbside_200"
   ],
   "metadata": {
    "collapsed": false,
    "pycharm": {
     "name": "#%%\n"
    }
   }
  },
  {
   "cell_type": "code",
   "execution_count": null,
   "outputs": [],
   "source": [
    "data_curbside_300 = loop_city(200,300,50,'restaurant, curbside pickup')\n",
    "\n",
    "data_curbside_300"
   ],
   "metadata": {
    "collapsed": false,
    "pycharm": {
     "name": "#%%\n",
     "is_executing": true
    }
   }
  },
  {
   "cell_type": "code",
   "execution_count": null,
   "outputs": [],
   "source": [
    "data_curbside_400 = loop_city(300,400,50,'restaurant, curbside pickup')\n",
    "\n",
    "data_curbside_400"
   ],
   "metadata": {
    "collapsed": false,
    "pycharm": {
     "name": "#%%\n",
     "is_executing": true
    }
   }
  },
  {
   "cell_type": "code",
   "execution_count": null,
   "outputs": [],
   "source": [
    "data_curbside_500 = loop_city(400,500,50,'restaurant, curbside pickup')\n",
    "\n",
    "data_curbside_500"
   ],
   "metadata": {
    "collapsed": false,
    "pycharm": {
     "name": "#%%\n",
     "is_executing": true
    }
   }
  },
  {
   "cell_type": "code",
   "execution_count": null,
   "outputs": [],
   "source": [
    "data_curbside_600 = loop_city(500,600,50,'restaurant, curbside pickup')\n",
    "\n",
    "data_curbside_600"
   ],
   "metadata": {
    "collapsed": false,
    "pycharm": {
     "name": "#%%\n",
     "is_executing": true
    }
   }
  },
  {
   "cell_type": "code",
   "execution_count": null,
   "outputs": [],
   "source": [
    "data_curbside_700 = loop_city(600,700,50,'restaurant, curbside pickup')\n",
    "\n",
    "data_curbside_700"
   ],
   "metadata": {
    "collapsed": false,
    "pycharm": {
     "name": "#%%\n",
     "is_executing": true
    }
   }
  },
  {
   "cell_type": "code",
   "execution_count": null,
   "outputs": [],
   "source": [
    "data_curbside_800 = loop_city(700,800,50,'restaurant, curbside pickup')\n",
    "\n",
    "data_curbside_800"
   ],
   "metadata": {
    "collapsed": false,
    "pycharm": {
     "name": "#%%\n",
     "is_executing": true
    }
   }
  },
  {
   "cell_type": "code",
   "execution_count": null,
   "outputs": [],
   "source": [
    "data_curbside_900 = loop_city(800,900,50,'restaurant, curbside pickup')\n",
    "\n",
    "data_curbside_900"
   ],
   "metadata": {
    "collapsed": false,
    "pycharm": {
     "name": "#%%\n",
     "is_executing": true
    }
   }
  },
  {
   "cell_type": "code",
   "execution_count": null,
   "outputs": [],
   "source": [
    "data_curbside_1000 = loop_city(900,999,50,'restaurant, curbside pickup')\n",
    "\n",
    "data_curbside_1000"
   ],
   "metadata": {
    "collapsed": false,
    "pycharm": {
     "name": "#%%\n",
     "is_executing": true
    }
   }
  },
  {
   "cell_type": "code",
   "execution_count": null,
   "outputs": [],
   "source": [
    "data_2 = pd.concat([data_curbside_100,data_curbside_200,data_curbside_300,data_curbside_400,data_curbside_500,data_curbside_600,data_curbside_700,data_curbside_800,data_curbside_900,data_curbside_1000])\n",
    "data_2 = data_2.drop_duplicates('id',keep = 'first')\n",
    "\n",
    "data_2"
   ],
   "metadata": {
    "collapsed": false,
    "pycharm": {
     "name": "#%%\n"
    }
   }
  },
  {
   "cell_type": "code",
   "execution_count": 116,
   "outputs": [
    {
     "data": {
      "text/plain": "                          id  \\\n0     uehJbEEu68Dey9u_eNfzhQ   \n1     -sG599tgqFft9c6HD5GBdA   \n2     X1kJsqwepcLbFNc_37jDfA   \n3     xgBcBl3nkuZyzyqgqkE59Q   \n4     AubNMgqOZ-SVsFTp8V69_Q   \n...                      ...   \n4821  HdYmIA2jRBbKnU1mGJ9a3Q   \n4823  xTnivXEdEtXrnhp-z4JGvg   \n4829  vbGqzhH_exG5HOG1I23kvg   \n4832  _-EQR2vNYg-b1eZwAgp6JQ   \n4833  15d_Y6TVOQFD2KRVkxuAjw   \n\n                                                  alias  \\\n0        the-grand-marlin-panama-city-beach-panama-city   \n1        los-antojitos-mexican-restaurant-panama-city-3   \n2                        the-place-downtown-panama-city   \n3     capt-andersons-restaurant-and-waterfront-marke...   \n4                               pizza-hut-panama-city-4   \n...                                                 ...   \n4821                      the-quarter-brooklyn-brooklyn   \n4823                           la-parisienne-new-york-5   \n4829                      park-side-restaurant-corona-2   \n4832                                tanoreen-brooklyn-2   \n4833                         baci-and-abbracci-brooklyn   \n\n                                                name  \\\n0               The Grand Marlin - Panama City Beach   \n1                   Los Antojitos Mexican Restaurant   \n2                                 The Place Downtown   \n3     Capt Anderson's Restaurant & Waterfront Market   \n4                                          Pizza Hut   \n...                                              ...   \n4821                            The Quarter Brooklyn   \n4823                                   La Parisienne   \n4829                            Park Side Restaurant   \n4832                                        Tanoreen   \n4833                                 Baci & Abbracci   \n\n                                              image_url  is_closed  \\\n0     https://s3-media2.fl.yelpcdn.com/bphoto/hTomT9...      False   \n1     https://s3-media2.fl.yelpcdn.com/bphoto/vs1v6q...      False   \n2     https://s3-media2.fl.yelpcdn.com/bphoto/pjeG98...      False   \n3     https://s3-media1.fl.yelpcdn.com/bphoto/fIecQG...      False   \n4     https://s3-media3.fl.yelpcdn.com/bphoto/0Nzc3s...      False   \n...                                                 ...        ...   \n4821  https://s3-media2.fl.yelpcdn.com/bphoto/mWt9Co...      False   \n4823  https://s3-media2.fl.yelpcdn.com/bphoto/ywbWsB...      False   \n4829  https://s3-media2.fl.yelpcdn.com/bphoto/Qj2HV9...      False   \n4832  https://s3-media2.fl.yelpcdn.com/bphoto/bpdxzU...      False   \n4833  https://s3-media3.fl.yelpcdn.com/bphoto/sKM13y...      False   \n\n                                                    url  review_count  \\\n0     https://www.yelp.com/biz/the-grand-marlin-pana...           489   \n1     https://www.yelp.com/biz/los-antojitos-mexican...           243   \n2     https://www.yelp.com/biz/the-place-downtown-pa...            38   \n3     https://www.yelp.com/biz/capt-andersons-restau...           479   \n4     https://www.yelp.com/biz/pizza-hut-panama-city...            15   \n...                                                 ...           ...   \n4821  https://www.yelp.com/biz/the-quarter-brooklyn-...           222   \n4823  https://www.yelp.com/biz/la-parisienne-new-yor...           682   \n4829  https://www.yelp.com/biz/park-side-restaurant-...           809   \n4832  https://www.yelp.com/biz/tanoreen-brooklyn-2?a...           945   \n4833  https://www.yelp.com/biz/baci-and-abbracci-bro...           333   \n\n                                             categories  rating  \\\n0     [{'alias': 'seafood', 'title': 'Seafood'}, {'a...     4.0   \n1     [{'alias': 'mexican', 'title': 'Mexican'}, {'a...     3.5   \n2     [{'alias': 'pubs', 'title': 'Pubs'}, {'alias':...     4.0   \n3     [{'alias': 'seafood', 'title': 'Seafood'}, {'a...     3.5   \n4     [{'alias': 'pizza', 'title': 'Pizza'}, {'alias...     1.5   \n...                                                 ...     ...   \n4821  [{'alias': 'newamerican', 'title': 'American (...     4.0   \n4823  [{'alias': 'cafes', 'title': 'Cafes'}, {'alias...     4.5   \n4829         [{'alias': 'italian', 'title': 'Italian'}]     4.0   \n4832  [{'alias': 'mideastern', 'title': 'Middle East...     4.0   \n4833  [{'alias': 'pizza', 'title': 'Pizza'}, {'alias...     4.0   \n\n                                            coordinates        transactions  \\\n0     {'latitude': 30.147905, 'longitude': -85.7451131}          [delivery]   \n1      {'latitude': 30.171392, 'longitude': -85.700935}  [delivery, pickup]   \n2       {'latitude': 30.155765, 'longitude': -85.66069}          [delivery]   \n3     {'latitude': 30.1497025659363, 'longitude': -8...          [delivery]   \n4     {'latitude': 30.1892681609801, 'longitude': -8...          [delivery]   \n...                                                 ...                 ...   \n4821  {'latitude': 40.6874192552749, 'longitude': -7...  [pickup, delivery]   \n4823   {'latitude': 40.70961, 'longitude': -74.0093799}  [pickup, delivery]   \n4829   {'latitude': 40.743843, 'longitude': -73.856118}          [delivery]   \n4832      {'latitude': 40.6308, 'longitude': -74.02775}  [pickup, delivery]   \n4833  {'latitude': 40.7139015197754, 'longitude': -7...  [pickup, delivery]   \n\n     price                                           location         phone  \\\n0      $$$  {'address1': '5323 N Lagoon Dr', 'address2': N...  +18502491500   \n1       $$  {'address1': '1236 Beck Ave', 'address2': '', ...  +18507846633   \n2       $$  {'address1': '429 Harrison Ave', 'address2': N...  +18508180590   \n3       $$  {'address1': '5551 N Lagoon Dr', 'address2': '...  +18502342225   \n4        $  {'address1': '221 W 23rd St', 'address2': '', ...  +18507692219   \n...    ...                                                ...           ...   \n4821    $$  {'address1': '87 Lafayette Ave', 'address2': '...  +13479874012   \n4823    $$  {'address1': '9 Maiden Ln', 'address2': None, ...  +16467564911   \n4829   $$$  {'address1': '107-01 Corona Ave', 'address2': ...  +17182719871   \n4832    $$  {'address1': '7523 3rd Ave', 'address2': '', '...  +17187485600   \n4833    $$  {'address1': '204 Grand St', 'address2': '', '...  +17185996599   \n\n       display_phone      distance  \n0     (850) 249-1500   6707.857119  \n1     (850) 784-6633   2070.049207  \n2     (850) 818-0590   2327.145375  \n3     (850) 234-2225   6807.715968  \n4     (850) 769-2219   2750.111143  \n...              ...           ...  \n4821  (347) 987-4012   2588.250776  \n4823  (646) 756-4911   1350.108963  \n4829  (718) 271-9871  12402.075037  \n4832  (718) 748-5600   8768.541359  \n4833  (718) 599-6599   3005.488795  \n\n[21266 rows x 16 columns]",
      "text/html": "<div>\n<style scoped>\n    .dataframe tbody tr th:only-of-type {\n        vertical-align: middle;\n    }\n\n    .dataframe tbody tr th {\n        vertical-align: top;\n    }\n\n    .dataframe thead th {\n        text-align: right;\n    }\n</style>\n<table border=\"1\" class=\"dataframe\">\n  <thead>\n    <tr style=\"text-align: right;\">\n      <th></th>\n      <th>id</th>\n      <th>alias</th>\n      <th>name</th>\n      <th>image_url</th>\n      <th>is_closed</th>\n      <th>url</th>\n      <th>review_count</th>\n      <th>categories</th>\n      <th>rating</th>\n      <th>coordinates</th>\n      <th>transactions</th>\n      <th>price</th>\n      <th>location</th>\n      <th>phone</th>\n      <th>display_phone</th>\n      <th>distance</th>\n    </tr>\n  </thead>\n  <tbody>\n    <tr>\n      <th>0</th>\n      <td>uehJbEEu68Dey9u_eNfzhQ</td>\n      <td>the-grand-marlin-panama-city-beach-panama-city</td>\n      <td>The Grand Marlin - Panama City Beach</td>\n      <td>https://s3-media2.fl.yelpcdn.com/bphoto/hTomT9...</td>\n      <td>False</td>\n      <td>https://www.yelp.com/biz/the-grand-marlin-pana...</td>\n      <td>489</td>\n      <td>[{'alias': 'seafood', 'title': 'Seafood'}, {'a...</td>\n      <td>4.0</td>\n      <td>{'latitude': 30.147905, 'longitude': -85.7451131}</td>\n      <td>[delivery]</td>\n      <td>$$$</td>\n      <td>{'address1': '5323 N Lagoon Dr', 'address2': N...</td>\n      <td>+18502491500</td>\n      <td>(850) 249-1500</td>\n      <td>6707.857119</td>\n    </tr>\n    <tr>\n      <th>1</th>\n      <td>-sG599tgqFft9c6HD5GBdA</td>\n      <td>los-antojitos-mexican-restaurant-panama-city-3</td>\n      <td>Los Antojitos Mexican Restaurant</td>\n      <td>https://s3-media2.fl.yelpcdn.com/bphoto/vs1v6q...</td>\n      <td>False</td>\n      <td>https://www.yelp.com/biz/los-antojitos-mexican...</td>\n      <td>243</td>\n      <td>[{'alias': 'mexican', 'title': 'Mexican'}, {'a...</td>\n      <td>3.5</td>\n      <td>{'latitude': 30.171392, 'longitude': -85.700935}</td>\n      <td>[delivery, pickup]</td>\n      <td>$$</td>\n      <td>{'address1': '1236 Beck Ave', 'address2': '', ...</td>\n      <td>+18507846633</td>\n      <td>(850) 784-6633</td>\n      <td>2070.049207</td>\n    </tr>\n    <tr>\n      <th>2</th>\n      <td>X1kJsqwepcLbFNc_37jDfA</td>\n      <td>the-place-downtown-panama-city</td>\n      <td>The Place Downtown</td>\n      <td>https://s3-media2.fl.yelpcdn.com/bphoto/pjeG98...</td>\n      <td>False</td>\n      <td>https://www.yelp.com/biz/the-place-downtown-pa...</td>\n      <td>38</td>\n      <td>[{'alias': 'pubs', 'title': 'Pubs'}, {'alias':...</td>\n      <td>4.0</td>\n      <td>{'latitude': 30.155765, 'longitude': -85.66069}</td>\n      <td>[delivery]</td>\n      <td>$$</td>\n      <td>{'address1': '429 Harrison Ave', 'address2': N...</td>\n      <td>+18508180590</td>\n      <td>(850) 818-0590</td>\n      <td>2327.145375</td>\n    </tr>\n    <tr>\n      <th>3</th>\n      <td>xgBcBl3nkuZyzyqgqkE59Q</td>\n      <td>capt-andersons-restaurant-and-waterfront-marke...</td>\n      <td>Capt Anderson's Restaurant &amp; Waterfront Market</td>\n      <td>https://s3-media1.fl.yelpcdn.com/bphoto/fIecQG...</td>\n      <td>False</td>\n      <td>https://www.yelp.com/biz/capt-andersons-restau...</td>\n      <td>479</td>\n      <td>[{'alias': 'seafood', 'title': 'Seafood'}, {'a...</td>\n      <td>3.5</td>\n      <td>{'latitude': 30.1497025659363, 'longitude': -8...</td>\n      <td>[delivery]</td>\n      <td>$$</td>\n      <td>{'address1': '5551 N Lagoon Dr', 'address2': '...</td>\n      <td>+18502342225</td>\n      <td>(850) 234-2225</td>\n      <td>6807.715968</td>\n    </tr>\n    <tr>\n      <th>4</th>\n      <td>AubNMgqOZ-SVsFTp8V69_Q</td>\n      <td>pizza-hut-panama-city-4</td>\n      <td>Pizza Hut</td>\n      <td>https://s3-media3.fl.yelpcdn.com/bphoto/0Nzc3s...</td>\n      <td>False</td>\n      <td>https://www.yelp.com/biz/pizza-hut-panama-city...</td>\n      <td>15</td>\n      <td>[{'alias': 'pizza', 'title': 'Pizza'}, {'alias...</td>\n      <td>1.5</td>\n      <td>{'latitude': 30.1892681609801, 'longitude': -8...</td>\n      <td>[delivery]</td>\n      <td>$</td>\n      <td>{'address1': '221 W 23rd St', 'address2': '', ...</td>\n      <td>+18507692219</td>\n      <td>(850) 769-2219</td>\n      <td>2750.111143</td>\n    </tr>\n    <tr>\n      <th>...</th>\n      <td>...</td>\n      <td>...</td>\n      <td>...</td>\n      <td>...</td>\n      <td>...</td>\n      <td>...</td>\n      <td>...</td>\n      <td>...</td>\n      <td>...</td>\n      <td>...</td>\n      <td>...</td>\n      <td>...</td>\n      <td>...</td>\n      <td>...</td>\n      <td>...</td>\n      <td>...</td>\n    </tr>\n    <tr>\n      <th>4821</th>\n      <td>HdYmIA2jRBbKnU1mGJ9a3Q</td>\n      <td>the-quarter-brooklyn-brooklyn</td>\n      <td>The Quarter Brooklyn</td>\n      <td>https://s3-media2.fl.yelpcdn.com/bphoto/mWt9Co...</td>\n      <td>False</td>\n      <td>https://www.yelp.com/biz/the-quarter-brooklyn-...</td>\n      <td>222</td>\n      <td>[{'alias': 'newamerican', 'title': 'American (...</td>\n      <td>4.0</td>\n      <td>{'latitude': 40.6874192552749, 'longitude': -7...</td>\n      <td>[pickup, delivery]</td>\n      <td>$$</td>\n      <td>{'address1': '87 Lafayette Ave', 'address2': '...</td>\n      <td>+13479874012</td>\n      <td>(347) 987-4012</td>\n      <td>2588.250776</td>\n    </tr>\n    <tr>\n      <th>4823</th>\n      <td>xTnivXEdEtXrnhp-z4JGvg</td>\n      <td>la-parisienne-new-york-5</td>\n      <td>La Parisienne</td>\n      <td>https://s3-media2.fl.yelpcdn.com/bphoto/ywbWsB...</td>\n      <td>False</td>\n      <td>https://www.yelp.com/biz/la-parisienne-new-yor...</td>\n      <td>682</td>\n      <td>[{'alias': 'cafes', 'title': 'Cafes'}, {'alias...</td>\n      <td>4.5</td>\n      <td>{'latitude': 40.70961, 'longitude': -74.0093799}</td>\n      <td>[pickup, delivery]</td>\n      <td>$$</td>\n      <td>{'address1': '9 Maiden Ln', 'address2': None, ...</td>\n      <td>+16467564911</td>\n      <td>(646) 756-4911</td>\n      <td>1350.108963</td>\n    </tr>\n    <tr>\n      <th>4829</th>\n      <td>vbGqzhH_exG5HOG1I23kvg</td>\n      <td>park-side-restaurant-corona-2</td>\n      <td>Park Side Restaurant</td>\n      <td>https://s3-media2.fl.yelpcdn.com/bphoto/Qj2HV9...</td>\n      <td>False</td>\n      <td>https://www.yelp.com/biz/park-side-restaurant-...</td>\n      <td>809</td>\n      <td>[{'alias': 'italian', 'title': 'Italian'}]</td>\n      <td>4.0</td>\n      <td>{'latitude': 40.743843, 'longitude': -73.856118}</td>\n      <td>[delivery]</td>\n      <td>$$$</td>\n      <td>{'address1': '107-01 Corona Ave', 'address2': ...</td>\n      <td>+17182719871</td>\n      <td>(718) 271-9871</td>\n      <td>12402.075037</td>\n    </tr>\n    <tr>\n      <th>4832</th>\n      <td>_-EQR2vNYg-b1eZwAgp6JQ</td>\n      <td>tanoreen-brooklyn-2</td>\n      <td>Tanoreen</td>\n      <td>https://s3-media2.fl.yelpcdn.com/bphoto/bpdxzU...</td>\n      <td>False</td>\n      <td>https://www.yelp.com/biz/tanoreen-brooklyn-2?a...</td>\n      <td>945</td>\n      <td>[{'alias': 'mideastern', 'title': 'Middle East...</td>\n      <td>4.0</td>\n      <td>{'latitude': 40.6308, 'longitude': -74.02775}</td>\n      <td>[pickup, delivery]</td>\n      <td>$$</td>\n      <td>{'address1': '7523 3rd Ave', 'address2': '', '...</td>\n      <td>+17187485600</td>\n      <td>(718) 748-5600</td>\n      <td>8768.541359</td>\n    </tr>\n    <tr>\n      <th>4833</th>\n      <td>15d_Y6TVOQFD2KRVkxuAjw</td>\n      <td>baci-and-abbracci-brooklyn</td>\n      <td>Baci &amp; Abbracci</td>\n      <td>https://s3-media3.fl.yelpcdn.com/bphoto/sKM13y...</td>\n      <td>False</td>\n      <td>https://www.yelp.com/biz/baci-and-abbracci-bro...</td>\n      <td>333</td>\n      <td>[{'alias': 'pizza', 'title': 'Pizza'}, {'alias...</td>\n      <td>4.0</td>\n      <td>{'latitude': 40.7139015197754, 'longitude': -7...</td>\n      <td>[pickup, delivery]</td>\n      <td>$$</td>\n      <td>{'address1': '204 Grand St', 'address2': '', '...</td>\n      <td>+17185996599</td>\n      <td>(718) 599-6599</td>\n      <td>3005.488795</td>\n    </tr>\n  </tbody>\n</table>\n<p>21266 rows × 16 columns</p>\n</div>"
     },
     "execution_count": 116,
     "metadata": {},
     "output_type": "execute_result"
    }
   ],
   "source": [
    "data_1"
   ],
   "metadata": {
    "collapsed": false,
    "pycharm": {
     "name": "#%%\n"
    }
   }
  },
  {
   "cell_type": "code",
   "execution_count": null,
   "outputs": [],
   "source": [
    "data_2"
   ],
   "metadata": {
    "collapsed": false,
    "pycharm": {
     "name": "#%%\n"
    }
   }
  },
  {
   "cell_type": "code",
   "execution_count": 117,
   "outputs": [],
   "source": [
    "data_1.to_csv('E:\\Report\\战略\\半室外需求验证\\city_curbside_citi_1.csv')"
   ],
   "metadata": {
    "collapsed": false,
    "pycharm": {
     "name": "#%%\n"
    }
   }
  },
  {
   "cell_type": "markdown",
   "source": [
    "# 确认是否有户外就餐"
   ],
   "metadata": {
    "collapsed": false,
    "pycharm": {
     "name": "#%% md\n"
    }
   }
  },
  {
   "cell_type": "code",
   "execution_count": null,
   "outputs": [],
   "source": [
    "url_list = data['url'].to_list()"
   ],
   "metadata": {
    "collapsed": false,
    "pycharm": {
     "name": "#%%\n"
    }
   }
  },
  {
   "cell_type": "code",
   "execution_count": null,
   "outputs": [],
   "source": [
    "#定义attribute关键词确认公式\n",
    "def search_detail(url,detail_key):\n",
    "    yelp_r = requests.get(url)\n",
    "    yelp_soup = BeautifulSoup(yelp_r.content, 'html.parser')\n",
    "    yelp_text = str(yelp_soup)\n",
    "    if detail_key in yelp_text:\n",
    "        return 1\n",
    "    else:\n",
    "        return 0"
   ],
   "metadata": {
    "collapsed": false,
    "pycharm": {
     "name": "#%%\n"
    }
   }
  },
  {
   "cell_type": "code",
   "execution_count": null,
   "outputs": [],
   "source": [
    "#定义循环搜索公式\n",
    "def confirmation_result(detail_key):\n",
    "    temp = 0\n",
    "    total = len(url_list)\n",
    "    confirmation_list = []\n",
    "    for link in np.arange(0, len(url_list), 1):\n",
    "        confirmation = search_detail(url_list[link],detail_key)\n",
    "        confirmation_list.append(confirmation)\n",
    "        temp += 1\n",
    "        print('\\r' + '[Progress]:[%s%s]%.2f%%;' % ('█' * int(temp*20/total), ' ' * (20-int(temp*20/total)),float(temp/total*100)), end='')\n",
    "        time.sleep(0.01)\n",
    "    return confirmation_list"
   ],
   "metadata": {
    "collapsed": false,
    "pycharm": {
     "name": "#%%\n"
    }
   }
  },
  {
   "cell_type": "code",
   "execution_count": null,
   "outputs": [],
   "source": [
    "No_Outdoor_Seating= confirmation_result('No Outdoor Seating')"
   ],
   "metadata": {
    "collapsed": false,
    "pycharm": {
     "name": "#%%\n"
    }
   }
  },
  {
   "cell_type": "code",
   "execution_count": null,
   "outputs": [],
   "source": [
    "data['No Outdoor Seating'] = No_Outdoor_Seating\n",
    "data"
   ],
   "metadata": {
    "collapsed": false,
    "pycharm": {
     "name": "#%%\n"
    }
   }
  },
  {
   "cell_type": "code",
   "execution_count": null,
   "outputs": [],
   "source": [],
   "metadata": {
    "collapsed": false,
    "pycharm": {
     "name": "#%%\n"
    }
   }
  }
 ],
 "metadata": {
  "kernelspec": {
   "display_name": "Python 3",
   "language": "python",
   "name": "python3"
  },
  "language_info": {
   "codemirror_mode": {
    "name": "ipython",
    "version": 2
   },
   "file_extension": ".py",
   "mimetype": "text/x-python",
   "name": "python",
   "nbconvert_exporter": "python",
   "pygments_lexer": "ipython2",
   "version": "2.7.6"
  }
 },
 "nbformat": 4,
 "nbformat_minor": 0
}